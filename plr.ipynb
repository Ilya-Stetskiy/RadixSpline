{
 "cells": [
  {
   "cell_type": "code",
   "execution_count": 17,
   "metadata": {},
   "outputs": [],
   "source": [
    "import plotly.graph_objects as go\n",
    "import plotly.express as px\n",
    "from tqdm.notebook import tqdm"
   ]
  },
  {
   "cell_type": "code",
   "execution_count": 18,
   "metadata": {},
   "outputs": [],
   "source": [
    "def tg(left_point, right_point):\n",
    "    if left_point[0]==right_point[0]:\n",
    "        tg=float(\"inf\")*(-left_point[1]+right_point[1])\n",
    "    else:\n",
    "        tg=(left_point[1]-right_point[1])/(left_point[0]-right_point[0])\n",
    "    return tg\n"
   ]
  },
  {
   "cell_type": "code",
   "execution_count": 19,
   "metadata": {},
   "outputs": [],
   "source": [
    "class One_Line:\n",
    "    def __init__ (self,start_point,err):\n",
    "        self.start_point=start_point\n",
    "        self.finish_point=start_point\n",
    "        # self.finish_point=[start_point[0]+1,start_point[1]+1]\n",
    "        self.err=err\n",
    "        self.points=[self.start_point,self.finish_point]\n",
    "        s_a,s_b=self.err_diapason(start_point)\n",
    "        s_d,s_c=self.err_diapason(self.finish_point)\n",
    "        self.pmin=tg(s_a,s_c)\n",
    "        self.pmax=tg(s_b,s_d)\n",
    "        self.cvx_top=[s_a]\n",
    "        self.cvx_bot=[s_b]\n",
    "        \n",
    "        # print(self.pmin, self.pmax)\n",
    "        \n",
    "    def err_diapason(self, point):\n",
    "        plus_err=[point[0],point[1]+self.err]\n",
    "        minus_err=[point[0],point[1]-self.err]\n",
    "        return plus_err,minus_err\n",
    "    \n",
    "    def check_not_outside(self, plus_err,minus_err):\n",
    "        return tg(self.cvx_top[0],minus_err)<=self.pmax and tg(self.cvx_bot[0],plus_err)>=self.pmin\n",
    "    \n",
    "    def show_spline(self, fig):\n",
    "        # step_right=1\n",
    "        # fig=go.Figure()\n",
    "        for i in self.points:\n",
    "            fig=self.plot_point(fig,i)\n",
    "        # fig=self.plot_line(fig,self.points, \"points\")\n",
    "        # for i in self.err_array(self.points):\n",
    "        #     fig=self.plot_line(fig,i, \"err\")\n",
    "        fig=self.plot_line(fig,[self.cvx_bot[0],self.cvx_top[-1]], \"p\")\n",
    "        fig=self.plot_line(fig,[self.cvx_top[0],self.cvx_bot[-1]], \"p\")\n",
    "        fig=self.plot_line(fig,[self.startLine,self.endLine], \"spline\")\n",
    "        # fig=self.plot_line(fig,[self.cvx_top[0],self.cvx_bot[-1]], \"p\")\n",
    "        # fig.show()\n",
    "        return fig\n",
    "        \n",
    "    def plot_point(self, fig, point):\n",
    "        plus_err,minus_err=self.err_diapason(point)\n",
    "        \n",
    "        # fig=px.scatter(self.points)\n",
    "        fig=self.plot_line(fig,[plus_err,point,minus_err],\"\",showlegend=False )\n",
    "        return fig\n",
    "        \n",
    "    \n",
    "    def plot_line(self, fig, line, name, showlegend=False):\n",
    "        x_=[]\n",
    "        y_=[]\n",
    "        for i in line:\n",
    "            x_.append(i[0])\n",
    "            y_.append(i[1])\n",
    "            \n",
    "        \n",
    "        # fig=px.scatter(self.points)\n",
    "        fig.add_trace(go.Scatter(x=x_,y=y_, name=name,showlegend=showlegend))\n",
    "        return fig\n",
    "        \n",
    "    def add_point(self,point):\n",
    "        plus_err,minus_err=self.err_diapason(point)\n",
    "        result=self.check_not_outside(plus_err,minus_err)\n",
    "        if result:\n",
    "            self.points.append(point)\n",
    "            # self.add_top_err_point(plus_err)\n",
    "            self.add_bot_err_point(minus_err, plus_err)\n",
    "            self.finish_point=point\n",
    "        else:\n",
    "            self.end_line()\n",
    "        return result\n",
    "    \n",
    "    \n",
    "    def end_line(self):\n",
    "        intersection_point=self.intersection_point()\n",
    "        if intersection_point!=None:\n",
    "                intersection_point=self.intersection_point()\n",
    "                p=(self.pmin+self.pmax)/2\n",
    "                self.startLine=self.point_on_line(intersection_point, p, self.start_point[0])\n",
    "                self.endLine=self.point_on_line(intersection_point, p, self.finish_point[0])\n",
    "        else:\n",
    "            self.startLine=self.endLine=self.start_point\n",
    "            \n",
    "    def point_on_line(self, intersection_point, p, target_x):\n",
    "        x0,y0=intersection_point\n",
    "        b = y0 - p * x0\n",
    "        y = p * target_x + b\n",
    "        return (target_x, y)\n",
    "            \n",
    "    def intersection_point(self):\n",
    "        x1, y1 = self.cvx_top[0]\n",
    "        x2, y2 = self.cvx_bot[-1]\n",
    "        x3, y3 = self.cvx_bot[0]\n",
    "        x4, y4 = self.cvx_top[-1]\n",
    "        denominator = (x1 - x2) * (y3 - y4) - (y1 - y2) * (x3 - x4)\n",
    "        if denominator == 0:\n",
    "            return None\n",
    "        x_numerator = (x1 * y2 - y1 * x2) * (x3 - x4) - (x1 - x2) * (x3 * y4 - y3 * x4)\n",
    "        y_numerator = (x1 * y2 - y1 * x2) * (y3 - y4) - (y1 - y2) * (x3 * y4 - y3 * x4)\n",
    "        x = x_numerator / denominator\n",
    "        y = y_numerator / denominator\n",
    "\n",
    "        return (x, y)\n",
    "    \n",
    "    \n",
    "    def add_bot_err_point(self, new_point_bot_err, new_point_top_err):\n",
    "    # global pmin, pmax, cvx_top, cvx_bot\n",
    "\n",
    "        previos_pmin = self.pmin\n",
    "        previos_pmax = self.pmax\n",
    "\n",
    "        temp_pmin = tg(self.cvx_top[0], new_point_bot_err)\n",
    "        temp_pmax = tg(self.cvx_bot[0], new_point_top_err)\n",
    "\n",
    "        # if max(self.pmin, temp_pmin) > min(self.pmax, temp_pmax):\n",
    "        #     return False\n",
    "\n",
    "        pmin_counter = 0\n",
    "        pmax_counter = 0\n",
    "\n",
    "        if temp_pmin > self.pmin:\n",
    "            while pmin_counter < len(self.cvx_top) - 1 and tg(self.cvx_top[pmin_counter + 1], new_point_bot_err) > temp_pmin:\n",
    "                pmin_counter += 1\n",
    "                temp_pmin = tg(self.cvx_top[pmin_counter], new_point_bot_err)\n",
    "\n",
    "            self.pmin = temp_pmin\n",
    "\n",
    "        if temp_pmax < self.pmax:\n",
    "            while pmax_counter < len(self.cvx_bot) - 1 and tg(self.cvx_bot[pmax_counter + 1], new_point_top_err) < temp_pmax:\n",
    "                pmax_counter += 1\n",
    "                temp_pmax = tg(self.cvx_bot[pmax_counter], new_point_top_err)\n",
    "\n",
    "            self.pmax = temp_pmax\n",
    "\n",
    "        if self.pmin > self.pmax:\n",
    "            self.pmin = previos_pmin\n",
    "            self.pmax = previos_pmax\n",
    "            return False\n",
    "\n",
    "        # Удаляем элементы из начала списков (эквивалент erase в C++)\n",
    "        self.cvx_top = self.cvx_top[pmin_counter:]\n",
    "        self.cvx_bot = self.cvx_bot[pmax_counter:]\n",
    "        \n",
    "        # if self.pmax> previos_pmax:\n",
    "        if self.pmin> previos_pmin:\n",
    "            # Обновляем cvx_bot\n",
    "            ln = len(self.cvx_bot)\n",
    "            last_p = tg(self.cvx_bot[-1], new_point_bot_err)\n",
    "            while ln > 1 and tg(self.cvx_bot[-2], new_point_bot_err) < last_p:\n",
    "                last_p = tg(self.cvx_bot[-2], new_point_bot_err)\n",
    "                self.cvx_bot.pop()  # Удаляем последний элемент\n",
    "                ln -= 1\n",
    "            self.cvx_bot.append(new_point_bot_err)  # Добавляем новую точку\n",
    "\n",
    "        # if self.pmin> previos_pmin:\n",
    "        if self.pmax> previos_pmax:\n",
    "            # Обновляем cvx_top\n",
    "            ln = len(self.cvx_top)\n",
    "            last_p = tg(self.cvx_top[-1], new_point_top_err)\n",
    "            while ln > 1 and tg(self.cvx_top[-2], new_point_top_err) > last_p:\n",
    "                last_p = tg(self.cvx_top[-2], new_point_top_err)\n",
    "                self.cvx_top.pop()  # Удаляем последний элемент\n",
    "                ln -= 1\n",
    "            self.cvx_top.append(new_point_top_err)\n",
    "\n",
    "        return True\n",
    "\n",
    "   \n",
    "    # def add_bot_err_point(self, new_point_bot_err):\n",
    "        \n",
    "    #     if tg(self.cvx_top[0], new_point_bot_err)> self.pmin:\n",
    "            \n",
    "    #         temp_pmin=tg(self.cvx_top[0], new_point_bot_err)\n",
    "    #         ln=len(self.cvx_top)\n",
    "    #         while ln>1 and tg(self.cvx_top[1], new_point_bot_err)> temp_pmin:\n",
    "    #             temp_pmin=tg(self.cvx_top[1], new_point_bot_err)\n",
    "    #             self.cvx_top.pop(0)\n",
    "    #             ln-=1\n",
    "    #         self.pmin=temp_pmin\n",
    "            \n",
    "    #     ln=len(self.cvx_bot)\n",
    "    #     last_p=tg(self.cvx_bot[-1], new_point_bot_err)\n",
    "    #     while ln>1 and tg(self.cvx_bot[-2], new_point_bot_err)< last_p:\n",
    "    #         last_p=tg(self.cvx_bot[-2], new_point_bot_err)\n",
    "    #         self.cvx_bot.pop()\n",
    "    #         ln-=1\n",
    "    #     self.cvx_bot.append(new_point_bot_err)\n",
    "            \n",
    "    # def add_top_err_point(self, new_point_top_err):\n",
    "        \n",
    "    #     if tg(self.cvx_bot[0], new_point_top_err)< self.pmax:\n",
    "    #         temp_pmax=tg(self.cvx_bot[0], new_point_top_err)\n",
    "    #         ln=len(self.cvx_bot)\n",
    "    #         # print(self.cvx_bot)\n",
    "    #         while  ln>1 and tg(self.cvx_bot[1], new_point_top_err)< temp_pmax:\n",
    "    #             temp_pmax=tg(self.cvx_bot[1], new_point_top_err)\n",
    "    #             self.cvx_bot.pop(0)\n",
    "    #             ln-=1\n",
    "    #         self.pmax=temp_pmax\n",
    "    #     ln=len(self.cvx_top)    \n",
    "    #     last_p=tg(self.cvx_top[-1], new_point_top_err)\n",
    "    #     while  ln>1 and tg(self.cvx_top[-2], new_point_top_err)> last_p:\n",
    "    #         last_p=tg(self.cvx_top[-2], new_point_top_err)\n",
    "    #         self.cvx_top.pop()\n",
    "    #         ln-=1\n",
    "    #     self.cvx_top.append(new_point_top_err)\n",
    "    #         # print(self.cvx_bot)\n",
    "    #         # print(self.cvx_top)\n",
    "        "
   ]
  },
  {
   "cell_type": "code",
   "execution_count": 20,
   "metadata": {},
   "outputs": [],
   "source": [
    "def PLR(data, err, show=False):\n",
    "    line=One_Line(data[0],err=err)\n",
    "    PLRSpline=[]\n",
    "    fig=go.Figure()\n",
    "    for i in data[1:]:\n",
    "        if not line.add_point(i):\n",
    "            # print(\"New_line\")\n",
    "            if show: \n",
    "                fig=line.show_spline(fig)\n",
    "            PLRSpline.append([line.startLine, line.endLine])\n",
    "            line=One_Line(i,err=err)\n",
    "    line.end_line()\n",
    "    PLRSpline.append([line.startLine, line.endLine])\n",
    "    if show: \n",
    "        fig=line.show_spline(fig)\n",
    "        fig.show()\n",
    "    return PLRSpline\n",
    "            "
   ]
  },
  {
   "cell_type": "code",
   "execution_count": 21,
   "metadata": {},
   "outputs": [],
   "source": [
    "data=[ [i,i**2] for i in range (100)]"
   ]
  },
  {
   "cell_type": "code",
   "execution_count": 22,
   "metadata": {},
   "outputs": [
    {
     "data": {
      "application/vnd.plotly.v1+json": {
       "config": {
        "plotlyServerURL": "https://plot.ly"
       },
       "data": [
        {
         "name": "",
         "showlegend": false,
         "type": "scatter",
         "x": [
          0,
          0,
          0
         ],
         "y": [
          100,
          0,
          -100
         ]
        },
        {
         "name": "",
         "showlegend": false,
         "type": "scatter",
         "x": [
          0,
          0,
          0
         ],
         "y": [
          100,
          0,
          -100
         ]
        },
        {
         "name": "",
         "showlegend": false,
         "type": "scatter",
         "x": [
          1,
          1,
          1
         ],
         "y": [
          101,
          1,
          -99
         ]
        },
        {
         "name": "",
         "showlegend": false,
         "type": "scatter",
         "x": [
          2,
          2,
          2
         ],
         "y": [
          104,
          4,
          -96
         ]
        },
        {
         "name": "",
         "showlegend": false,
         "type": "scatter",
         "x": [
          3,
          3,
          3
         ],
         "y": [
          109,
          9,
          -91
         ]
        },
        {
         "name": "",
         "showlegend": false,
         "type": "scatter",
         "x": [
          4,
          4,
          4
         ],
         "y": [
          116,
          16,
          -84
         ]
        },
        {
         "name": "",
         "showlegend": false,
         "type": "scatter",
         "x": [
          5,
          5,
          5
         ],
         "y": [
          125,
          25,
          -75
         ]
        },
        {
         "name": "",
         "showlegend": false,
         "type": "scatter",
         "x": [
          6,
          6,
          6
         ],
         "y": [
          136,
          36,
          -64
         ]
        },
        {
         "name": "",
         "showlegend": false,
         "type": "scatter",
         "x": [
          7,
          7,
          7
         ],
         "y": [
          149,
          49,
          -51
         ]
        },
        {
         "name": "",
         "showlegend": false,
         "type": "scatter",
         "x": [
          8,
          8,
          8
         ],
         "y": [
          164,
          64,
          -36
         ]
        },
        {
         "name": "",
         "showlegend": false,
         "type": "scatter",
         "x": [
          9,
          9,
          9
         ],
         "y": [
          181,
          81,
          -19
         ]
        },
        {
         "name": "",
         "showlegend": false,
         "type": "scatter",
         "x": [
          10,
          10,
          10
         ],
         "y": [
          200,
          100,
          0
         ]
        },
        {
         "name": "",
         "showlegend": false,
         "type": "scatter",
         "x": [
          11,
          11,
          11
         ],
         "y": [
          221,
          121,
          21
         ]
        },
        {
         "name": "",
         "showlegend": false,
         "type": "scatter",
         "x": [
          12,
          12,
          12
         ],
         "y": [
          244,
          144,
          44
         ]
        },
        {
         "name": "",
         "showlegend": false,
         "type": "scatter",
         "x": [
          13,
          13,
          13
         ],
         "y": [
          269,
          169,
          69
         ]
        },
        {
         "name": "",
         "showlegend": false,
         "type": "scatter",
         "x": [
          14,
          14,
          14
         ],
         "y": [
          296,
          196,
          96
         ]
        },
        {
         "name": "",
         "showlegend": false,
         "type": "scatter",
         "x": [
          15,
          15,
          15
         ],
         "y": [
          325,
          225,
          125
         ]
        },
        {
         "name": "",
         "showlegend": false,
         "type": "scatter",
         "x": [
          16,
          16,
          16
         ],
         "y": [
          356,
          256,
          156
         ]
        },
        {
         "name": "",
         "showlegend": false,
         "type": "scatter",
         "x": [
          17,
          17,
          17
         ],
         "y": [
          389,
          289,
          189
         ]
        },
        {
         "name": "",
         "showlegend": false,
         "type": "scatter",
         "x": [
          18,
          18,
          18
         ],
         "y": [
          424,
          324,
          224
         ]
        },
        {
         "name": "",
         "showlegend": false,
         "type": "scatter",
         "x": [
          19,
          19,
          19
         ],
         "y": [
          461,
          361,
          261
         ]
        },
        {
         "name": "",
         "showlegend": false,
         "type": "scatter",
         "x": [
          20,
          20,
          20
         ],
         "y": [
          500,
          400,
          300
         ]
        },
        {
         "name": "",
         "showlegend": false,
         "type": "scatter",
         "x": [
          21,
          21,
          21
         ],
         "y": [
          541,
          441,
          341
         ]
        },
        {
         "name": "",
         "showlegend": false,
         "type": "scatter",
         "x": [
          22,
          22,
          22
         ],
         "y": [
          584,
          484,
          384
         ]
        },
        {
         "name": "",
         "showlegend": false,
         "type": "scatter",
         "x": [
          23,
          23,
          23
         ],
         "y": [
          629,
          529,
          429
         ]
        },
        {
         "name": "",
         "showlegend": false,
         "type": "scatter",
         "x": [
          24,
          24,
          24
         ],
         "y": [
          676,
          576,
          476
         ]
        },
        {
         "name": "",
         "showlegend": false,
         "type": "scatter",
         "x": [
          25,
          25,
          25
         ],
         "y": [
          725,
          625,
          525
         ]
        },
        {
         "name": "",
         "showlegend": false,
         "type": "scatter",
         "x": [
          26,
          26,
          26
         ],
         "y": [
          776,
          676,
          576
         ]
        },
        {
         "name": "",
         "showlegend": false,
         "type": "scatter",
         "x": [
          27,
          27,
          27
         ],
         "y": [
          829,
          729,
          629
         ]
        },
        {
         "name": "",
         "showlegend": false,
         "type": "scatter",
         "x": [
          28,
          28,
          28
         ],
         "y": [
          884,
          784,
          684
         ]
        },
        {
         "name": "",
         "showlegend": false,
         "type": "scatter",
         "x": [
          29,
          29,
          29
         ],
         "y": [
          941,
          841,
          741
         ]
        },
        {
         "name": "",
         "showlegend": false,
         "type": "scatter",
         "x": [
          30,
          30,
          30
         ],
         "y": [
          1000,
          900,
          800
         ]
        },
        {
         "name": "",
         "showlegend": false,
         "type": "scatter",
         "x": [
          31,
          31,
          31
         ],
         "y": [
          1061,
          961,
          861
         ]
        },
        {
         "name": "",
         "showlegend": false,
         "type": "scatter",
         "x": [
          32,
          32,
          32
         ],
         "y": [
          1124,
          1024,
          924
         ]
        },
        {
         "name": "",
         "showlegend": false,
         "type": "scatter",
         "x": [
          33,
          33,
          33
         ],
         "y": [
          1189,
          1089,
          989
         ]
        },
        {
         "name": "",
         "showlegend": false,
         "type": "scatter",
         "x": [
          34,
          34,
          34
         ],
         "y": [
          1256,
          1156,
          1056
         ]
        },
        {
         "name": "p",
         "showlegend": false,
         "type": "scatter",
         "x": [
          0,
          0
         ],
         "y": [
          -100,
          100
         ]
        },
        {
         "name": "p",
         "showlegend": false,
         "type": "scatter",
         "x": [
          0,
          34
         ],
         "y": [
          100,
          1056
         ]
        },
        {
         "name": "spline",
         "showlegend": false,
         "type": "scatter",
         "x": [
          0,
          34
         ],
         "y": [
          100,
          1058.857142857143
         ]
        },
        {
         "name": "",
         "showlegend": false,
         "type": "scatter",
         "x": [
          35,
          35,
          35
         ],
         "y": [
          1325,
          1225,
          1125
         ]
        },
        {
         "name": "",
         "showlegend": false,
         "type": "scatter",
         "x": [
          35,
          35,
          35
         ],
         "y": [
          1325,
          1225,
          1125
         ]
        },
        {
         "name": "",
         "showlegend": false,
         "type": "scatter",
         "x": [
          36,
          36,
          36
         ],
         "y": [
          1396,
          1296,
          1196
         ]
        },
        {
         "name": "",
         "showlegend": false,
         "type": "scatter",
         "x": [
          37,
          37,
          37
         ],
         "y": [
          1469,
          1369,
          1269
         ]
        },
        {
         "name": "",
         "showlegend": false,
         "type": "scatter",
         "x": [
          38,
          38,
          38
         ],
         "y": [
          1544,
          1444,
          1344
         ]
        },
        {
         "name": "",
         "showlegend": false,
         "type": "scatter",
         "x": [
          39,
          39,
          39
         ],
         "y": [
          1621,
          1521,
          1421
         ]
        },
        {
         "name": "",
         "showlegend": false,
         "type": "scatter",
         "x": [
          40,
          40,
          40
         ],
         "y": [
          1700,
          1600,
          1500
         ]
        },
        {
         "name": "",
         "showlegend": false,
         "type": "scatter",
         "x": [
          41,
          41,
          41
         ],
         "y": [
          1781,
          1681,
          1581
         ]
        },
        {
         "name": "",
         "showlegend": false,
         "type": "scatter",
         "x": [
          42,
          42,
          42
         ],
         "y": [
          1864,
          1764,
          1664
         ]
        },
        {
         "name": "",
         "showlegend": false,
         "type": "scatter",
         "x": [
          43,
          43,
          43
         ],
         "y": [
          1949,
          1849,
          1749
         ]
        },
        {
         "name": "",
         "showlegend": false,
         "type": "scatter",
         "x": [
          44,
          44,
          44
         ],
         "y": [
          2036,
          1936,
          1836
         ]
        },
        {
         "name": "",
         "showlegend": false,
         "type": "scatter",
         "x": [
          45,
          45,
          45
         ],
         "y": [
          2125,
          2025,
          1925
         ]
        },
        {
         "name": "",
         "showlegend": false,
         "type": "scatter",
         "x": [
          46,
          46,
          46
         ],
         "y": [
          2216,
          2116,
          2016
         ]
        },
        {
         "name": "",
         "showlegend": false,
         "type": "scatter",
         "x": [
          47,
          47,
          47
         ],
         "y": [
          2309,
          2209,
          2109
         ]
        },
        {
         "name": "",
         "showlegend": false,
         "type": "scatter",
         "x": [
          48,
          48,
          48
         ],
         "y": [
          2404,
          2304,
          2204
         ]
        },
        {
         "name": "",
         "showlegend": false,
         "type": "scatter",
         "x": [
          49,
          49,
          49
         ],
         "y": [
          2501,
          2401,
          2301
         ]
        },
        {
         "name": "",
         "showlegend": false,
         "type": "scatter",
         "x": [
          50,
          50,
          50
         ],
         "y": [
          2600,
          2500,
          2400
         ]
        },
        {
         "name": "",
         "showlegend": false,
         "type": "scatter",
         "x": [
          51,
          51,
          51
         ],
         "y": [
          2701,
          2601,
          2501
         ]
        },
        {
         "name": "",
         "showlegend": false,
         "type": "scatter",
         "x": [
          52,
          52,
          52
         ],
         "y": [
          2804,
          2704,
          2604
         ]
        },
        {
         "name": "",
         "showlegend": false,
         "type": "scatter",
         "x": [
          53,
          53,
          53
         ],
         "y": [
          2909,
          2809,
          2709
         ]
        },
        {
         "name": "",
         "showlegend": false,
         "type": "scatter",
         "x": [
          54,
          54,
          54
         ],
         "y": [
          3016,
          2916,
          2816
         ]
        },
        {
         "name": "",
         "showlegend": false,
         "type": "scatter",
         "x": [
          55,
          55,
          55
         ],
         "y": [
          3125,
          3025,
          2925
         ]
        },
        {
         "name": "",
         "showlegend": false,
         "type": "scatter",
         "x": [
          56,
          56,
          56
         ],
         "y": [
          3236,
          3136,
          3036
         ]
        },
        {
         "name": "",
         "showlegend": false,
         "type": "scatter",
         "x": [
          57,
          57,
          57
         ],
         "y": [
          3349,
          3249,
          3149
         ]
        },
        {
         "name": "",
         "showlegend": false,
         "type": "scatter",
         "x": [
          58,
          58,
          58
         ],
         "y": [
          3464,
          3364,
          3264
         ]
        },
        {
         "name": "",
         "showlegend": false,
         "type": "scatter",
         "x": [
          59,
          59,
          59
         ],
         "y": [
          3581,
          3481,
          3381
         ]
        },
        {
         "name": "",
         "showlegend": false,
         "type": "scatter",
         "x": [
          60,
          60,
          60
         ],
         "y": [
          3700,
          3600,
          3500
         ]
        },
        {
         "name": "",
         "showlegend": false,
         "type": "scatter",
         "x": [
          61,
          61,
          61
         ],
         "y": [
          3821,
          3721,
          3621
         ]
        },
        {
         "name": "",
         "showlegend": false,
         "type": "scatter",
         "x": [
          62,
          62,
          62
         ],
         "y": [
          3944,
          3844,
          3744
         ]
        },
        {
         "name": "",
         "showlegend": false,
         "type": "scatter",
         "x": [
          63,
          63,
          63
         ],
         "y": [
          4069,
          3969,
          3869
         ]
        },
        {
         "name": "",
         "showlegend": false,
         "type": "scatter",
         "x": [
          64,
          64,
          64
         ],
         "y": [
          4196,
          4096,
          3996
         ]
        },
        {
         "name": "",
         "showlegend": false,
         "type": "scatter",
         "x": [
          65,
          65,
          65
         ],
         "y": [
          4325,
          4225,
          4125
         ]
        },
        {
         "name": "",
         "showlegend": false,
         "type": "scatter",
         "x": [
          66,
          66,
          66
         ],
         "y": [
          4456,
          4356,
          4256
         ]
        },
        {
         "name": "",
         "showlegend": false,
         "type": "scatter",
         "x": [
          67,
          67,
          67
         ],
         "y": [
          4589,
          4489,
          4389
         ]
        },
        {
         "name": "",
         "showlegend": false,
         "type": "scatter",
         "x": [
          68,
          68,
          68
         ],
         "y": [
          4724,
          4624,
          4524
         ]
        },
        {
         "name": "",
         "showlegend": false,
         "type": "scatter",
         "x": [
          69,
          69,
          69
         ],
         "y": [
          4861,
          4761,
          4661
         ]
        },
        {
         "name": "p",
         "showlegend": false,
         "type": "scatter",
         "x": [
          35,
          35
         ],
         "y": [
          1125,
          1325
         ]
        },
        {
         "name": "p",
         "showlegend": false,
         "type": "scatter",
         "x": [
          35,
          69
         ],
         "y": [
          1325,
          4661
         ]
        },
        {
         "name": "spline",
         "showlegend": false,
         "type": "scatter",
         "x": [
          35,
          69
         ],
         "y": [
          1325,
          4663.857142857143
         ]
        },
        {
         "name": "",
         "showlegend": false,
         "type": "scatter",
         "x": [
          70,
          70,
          70
         ],
         "y": [
          5000,
          4900,
          4800
         ]
        },
        {
         "name": "",
         "showlegend": false,
         "type": "scatter",
         "x": [
          70,
          70,
          70
         ],
         "y": [
          5000,
          4900,
          4800
         ]
        },
        {
         "name": "",
         "showlegend": false,
         "type": "scatter",
         "x": [
          71,
          71,
          71
         ],
         "y": [
          5141,
          5041,
          4941
         ]
        },
        {
         "name": "",
         "showlegend": false,
         "type": "scatter",
         "x": [
          72,
          72,
          72
         ],
         "y": [
          5284,
          5184,
          5084
         ]
        },
        {
         "name": "",
         "showlegend": false,
         "type": "scatter",
         "x": [
          73,
          73,
          73
         ],
         "y": [
          5429,
          5329,
          5229
         ]
        },
        {
         "name": "",
         "showlegend": false,
         "type": "scatter",
         "x": [
          74,
          74,
          74
         ],
         "y": [
          5576,
          5476,
          5376
         ]
        },
        {
         "name": "",
         "showlegend": false,
         "type": "scatter",
         "x": [
          75,
          75,
          75
         ],
         "y": [
          5725,
          5625,
          5525
         ]
        },
        {
         "name": "",
         "showlegend": false,
         "type": "scatter",
         "x": [
          76,
          76,
          76
         ],
         "y": [
          5876,
          5776,
          5676
         ]
        },
        {
         "name": "",
         "showlegend": false,
         "type": "scatter",
         "x": [
          77,
          77,
          77
         ],
         "y": [
          6029,
          5929,
          5829
         ]
        },
        {
         "name": "",
         "showlegend": false,
         "type": "scatter",
         "x": [
          78,
          78,
          78
         ],
         "y": [
          6184,
          6084,
          5984
         ]
        },
        {
         "name": "",
         "showlegend": false,
         "type": "scatter",
         "x": [
          79,
          79,
          79
         ],
         "y": [
          6341,
          6241,
          6141
         ]
        },
        {
         "name": "",
         "showlegend": false,
         "type": "scatter",
         "x": [
          80,
          80,
          80
         ],
         "y": [
          6500,
          6400,
          6300
         ]
        },
        {
         "name": "",
         "showlegend": false,
         "type": "scatter",
         "x": [
          81,
          81,
          81
         ],
         "y": [
          6661,
          6561,
          6461
         ]
        },
        {
         "name": "",
         "showlegend": false,
         "type": "scatter",
         "x": [
          82,
          82,
          82
         ],
         "y": [
          6824,
          6724,
          6624
         ]
        },
        {
         "name": "",
         "showlegend": false,
         "type": "scatter",
         "x": [
          83,
          83,
          83
         ],
         "y": [
          6989,
          6889,
          6789
         ]
        },
        {
         "name": "",
         "showlegend": false,
         "type": "scatter",
         "x": [
          84,
          84,
          84
         ],
         "y": [
          7156,
          7056,
          6956
         ]
        },
        {
         "name": "",
         "showlegend": false,
         "type": "scatter",
         "x": [
          85,
          85,
          85
         ],
         "y": [
          7325,
          7225,
          7125
         ]
        },
        {
         "name": "",
         "showlegend": false,
         "type": "scatter",
         "x": [
          86,
          86,
          86
         ],
         "y": [
          7496,
          7396,
          7296
         ]
        },
        {
         "name": "",
         "showlegend": false,
         "type": "scatter",
         "x": [
          87,
          87,
          87
         ],
         "y": [
          7669,
          7569,
          7469
         ]
        },
        {
         "name": "",
         "showlegend": false,
         "type": "scatter",
         "x": [
          88,
          88,
          88
         ],
         "y": [
          7844,
          7744,
          7644
         ]
        },
        {
         "name": "",
         "showlegend": false,
         "type": "scatter",
         "x": [
          89,
          89,
          89
         ],
         "y": [
          8021,
          7921,
          7821
         ]
        },
        {
         "name": "",
         "showlegend": false,
         "type": "scatter",
         "x": [
          90,
          90,
          90
         ],
         "y": [
          8200,
          8100,
          8000
         ]
        },
        {
         "name": "",
         "showlegend": false,
         "type": "scatter",
         "x": [
          91,
          91,
          91
         ],
         "y": [
          8381,
          8281,
          8181
         ]
        },
        {
         "name": "",
         "showlegend": false,
         "type": "scatter",
         "x": [
          92,
          92,
          92
         ],
         "y": [
          8564,
          8464,
          8364
         ]
        },
        {
         "name": "",
         "showlegend": false,
         "type": "scatter",
         "x": [
          93,
          93,
          93
         ],
         "y": [
          8749,
          8649,
          8549
         ]
        },
        {
         "name": "",
         "showlegend": false,
         "type": "scatter",
         "x": [
          94,
          94,
          94
         ],
         "y": [
          8936,
          8836,
          8736
         ]
        },
        {
         "name": "",
         "showlegend": false,
         "type": "scatter",
         "x": [
          95,
          95,
          95
         ],
         "y": [
          9125,
          9025,
          8925
         ]
        },
        {
         "name": "",
         "showlegend": false,
         "type": "scatter",
         "x": [
          96,
          96,
          96
         ],
         "y": [
          9316,
          9216,
          9116
         ]
        },
        {
         "name": "",
         "showlegend": false,
         "type": "scatter",
         "x": [
          97,
          97,
          97
         ],
         "y": [
          9509,
          9409,
          9309
         ]
        },
        {
         "name": "",
         "showlegend": false,
         "type": "scatter",
         "x": [
          98,
          98,
          98
         ],
         "y": [
          9704,
          9604,
          9504
         ]
        },
        {
         "name": "",
         "showlegend": false,
         "type": "scatter",
         "x": [
          99,
          99,
          99
         ],
         "y": [
          9901,
          9801,
          9701
         ]
        },
        {
         "name": "p",
         "showlegend": false,
         "type": "scatter",
         "x": [
          70,
          70
         ],
         "y": [
          4800,
          5000
         ]
        },
        {
         "name": "p",
         "showlegend": false,
         "type": "scatter",
         "x": [
          70,
          99
         ],
         "y": [
          5000,
          9701
         ]
        },
        {
         "name": "spline",
         "showlegend": false,
         "type": "scatter",
         "x": [
          70,
          99
         ],
         "y": [
          5000,
          9790.642857142857
         ]
        }
       ],
       "layout": {
        "template": {
         "data": {
          "bar": [
           {
            "error_x": {
             "color": "#2a3f5f"
            },
            "error_y": {
             "color": "#2a3f5f"
            },
            "marker": {
             "line": {
              "color": "#E5ECF6",
              "width": 0.5
             },
             "pattern": {
              "fillmode": "overlay",
              "size": 10,
              "solidity": 0.2
             }
            },
            "type": "bar"
           }
          ],
          "barpolar": [
           {
            "marker": {
             "line": {
              "color": "#E5ECF6",
              "width": 0.5
             },
             "pattern": {
              "fillmode": "overlay",
              "size": 10,
              "solidity": 0.2
             }
            },
            "type": "barpolar"
           }
          ],
          "carpet": [
           {
            "aaxis": {
             "endlinecolor": "#2a3f5f",
             "gridcolor": "white",
             "linecolor": "white",
             "minorgridcolor": "white",
             "startlinecolor": "#2a3f5f"
            },
            "baxis": {
             "endlinecolor": "#2a3f5f",
             "gridcolor": "white",
             "linecolor": "white",
             "minorgridcolor": "white",
             "startlinecolor": "#2a3f5f"
            },
            "type": "carpet"
           }
          ],
          "choropleth": [
           {
            "colorbar": {
             "outlinewidth": 0,
             "ticks": ""
            },
            "type": "choropleth"
           }
          ],
          "contour": [
           {
            "colorbar": {
             "outlinewidth": 0,
             "ticks": ""
            },
            "colorscale": [
             [
              0,
              "#0d0887"
             ],
             [
              0.1111111111111111,
              "#46039f"
             ],
             [
              0.2222222222222222,
              "#7201a8"
             ],
             [
              0.3333333333333333,
              "#9c179e"
             ],
             [
              0.4444444444444444,
              "#bd3786"
             ],
             [
              0.5555555555555556,
              "#d8576b"
             ],
             [
              0.6666666666666666,
              "#ed7953"
             ],
             [
              0.7777777777777778,
              "#fb9f3a"
             ],
             [
              0.8888888888888888,
              "#fdca26"
             ],
             [
              1,
              "#f0f921"
             ]
            ],
            "type": "contour"
           }
          ],
          "contourcarpet": [
           {
            "colorbar": {
             "outlinewidth": 0,
             "ticks": ""
            },
            "type": "contourcarpet"
           }
          ],
          "heatmap": [
           {
            "colorbar": {
             "outlinewidth": 0,
             "ticks": ""
            },
            "colorscale": [
             [
              0,
              "#0d0887"
             ],
             [
              0.1111111111111111,
              "#46039f"
             ],
             [
              0.2222222222222222,
              "#7201a8"
             ],
             [
              0.3333333333333333,
              "#9c179e"
             ],
             [
              0.4444444444444444,
              "#bd3786"
             ],
             [
              0.5555555555555556,
              "#d8576b"
             ],
             [
              0.6666666666666666,
              "#ed7953"
             ],
             [
              0.7777777777777778,
              "#fb9f3a"
             ],
             [
              0.8888888888888888,
              "#fdca26"
             ],
             [
              1,
              "#f0f921"
             ]
            ],
            "type": "heatmap"
           }
          ],
          "histogram": [
           {
            "marker": {
             "pattern": {
              "fillmode": "overlay",
              "size": 10,
              "solidity": 0.2
             }
            },
            "type": "histogram"
           }
          ],
          "histogram2d": [
           {
            "colorbar": {
             "outlinewidth": 0,
             "ticks": ""
            },
            "colorscale": [
             [
              0,
              "#0d0887"
             ],
             [
              0.1111111111111111,
              "#46039f"
             ],
             [
              0.2222222222222222,
              "#7201a8"
             ],
             [
              0.3333333333333333,
              "#9c179e"
             ],
             [
              0.4444444444444444,
              "#bd3786"
             ],
             [
              0.5555555555555556,
              "#d8576b"
             ],
             [
              0.6666666666666666,
              "#ed7953"
             ],
             [
              0.7777777777777778,
              "#fb9f3a"
             ],
             [
              0.8888888888888888,
              "#fdca26"
             ],
             [
              1,
              "#f0f921"
             ]
            ],
            "type": "histogram2d"
           }
          ],
          "histogram2dcontour": [
           {
            "colorbar": {
             "outlinewidth": 0,
             "ticks": ""
            },
            "colorscale": [
             [
              0,
              "#0d0887"
             ],
             [
              0.1111111111111111,
              "#46039f"
             ],
             [
              0.2222222222222222,
              "#7201a8"
             ],
             [
              0.3333333333333333,
              "#9c179e"
             ],
             [
              0.4444444444444444,
              "#bd3786"
             ],
             [
              0.5555555555555556,
              "#d8576b"
             ],
             [
              0.6666666666666666,
              "#ed7953"
             ],
             [
              0.7777777777777778,
              "#fb9f3a"
             ],
             [
              0.8888888888888888,
              "#fdca26"
             ],
             [
              1,
              "#f0f921"
             ]
            ],
            "type": "histogram2dcontour"
           }
          ],
          "mesh3d": [
           {
            "colorbar": {
             "outlinewidth": 0,
             "ticks": ""
            },
            "type": "mesh3d"
           }
          ],
          "parcoords": [
           {
            "line": {
             "colorbar": {
              "outlinewidth": 0,
              "ticks": ""
             }
            },
            "type": "parcoords"
           }
          ],
          "pie": [
           {
            "automargin": true,
            "type": "pie"
           }
          ],
          "scatter": [
           {
            "fillpattern": {
             "fillmode": "overlay",
             "size": 10,
             "solidity": 0.2
            },
            "type": "scatter"
           }
          ],
          "scatter3d": [
           {
            "line": {
             "colorbar": {
              "outlinewidth": 0,
              "ticks": ""
             }
            },
            "marker": {
             "colorbar": {
              "outlinewidth": 0,
              "ticks": ""
             }
            },
            "type": "scatter3d"
           }
          ],
          "scattercarpet": [
           {
            "marker": {
             "colorbar": {
              "outlinewidth": 0,
              "ticks": ""
             }
            },
            "type": "scattercarpet"
           }
          ],
          "scattergeo": [
           {
            "marker": {
             "colorbar": {
              "outlinewidth": 0,
              "ticks": ""
             }
            },
            "type": "scattergeo"
           }
          ],
          "scattergl": [
           {
            "marker": {
             "colorbar": {
              "outlinewidth": 0,
              "ticks": ""
             }
            },
            "type": "scattergl"
           }
          ],
          "scattermap": [
           {
            "marker": {
             "colorbar": {
              "outlinewidth": 0,
              "ticks": ""
             }
            },
            "type": "scattermap"
           }
          ],
          "scattermapbox": [
           {
            "marker": {
             "colorbar": {
              "outlinewidth": 0,
              "ticks": ""
             }
            },
            "type": "scattermapbox"
           }
          ],
          "scatterpolar": [
           {
            "marker": {
             "colorbar": {
              "outlinewidth": 0,
              "ticks": ""
             }
            },
            "type": "scatterpolar"
           }
          ],
          "scatterpolargl": [
           {
            "marker": {
             "colorbar": {
              "outlinewidth": 0,
              "ticks": ""
             }
            },
            "type": "scatterpolargl"
           }
          ],
          "scatterternary": [
           {
            "marker": {
             "colorbar": {
              "outlinewidth": 0,
              "ticks": ""
             }
            },
            "type": "scatterternary"
           }
          ],
          "surface": [
           {
            "colorbar": {
             "outlinewidth": 0,
             "ticks": ""
            },
            "colorscale": [
             [
              0,
              "#0d0887"
             ],
             [
              0.1111111111111111,
              "#46039f"
             ],
             [
              0.2222222222222222,
              "#7201a8"
             ],
             [
              0.3333333333333333,
              "#9c179e"
             ],
             [
              0.4444444444444444,
              "#bd3786"
             ],
             [
              0.5555555555555556,
              "#d8576b"
             ],
             [
              0.6666666666666666,
              "#ed7953"
             ],
             [
              0.7777777777777778,
              "#fb9f3a"
             ],
             [
              0.8888888888888888,
              "#fdca26"
             ],
             [
              1,
              "#f0f921"
             ]
            ],
            "type": "surface"
           }
          ],
          "table": [
           {
            "cells": {
             "fill": {
              "color": "#EBF0F8"
             },
             "line": {
              "color": "white"
             }
            },
            "header": {
             "fill": {
              "color": "#C8D4E3"
             },
             "line": {
              "color": "white"
             }
            },
            "type": "table"
           }
          ]
         },
         "layout": {
          "annotationdefaults": {
           "arrowcolor": "#2a3f5f",
           "arrowhead": 0,
           "arrowwidth": 1
          },
          "autotypenumbers": "strict",
          "coloraxis": {
           "colorbar": {
            "outlinewidth": 0,
            "ticks": ""
           }
          },
          "colorscale": {
           "diverging": [
            [
             0,
             "#8e0152"
            ],
            [
             0.1,
             "#c51b7d"
            ],
            [
             0.2,
             "#de77ae"
            ],
            [
             0.3,
             "#f1b6da"
            ],
            [
             0.4,
             "#fde0ef"
            ],
            [
             0.5,
             "#f7f7f7"
            ],
            [
             0.6,
             "#e6f5d0"
            ],
            [
             0.7,
             "#b8e186"
            ],
            [
             0.8,
             "#7fbc41"
            ],
            [
             0.9,
             "#4d9221"
            ],
            [
             1,
             "#276419"
            ]
           ],
           "sequential": [
            [
             0,
             "#0d0887"
            ],
            [
             0.1111111111111111,
             "#46039f"
            ],
            [
             0.2222222222222222,
             "#7201a8"
            ],
            [
             0.3333333333333333,
             "#9c179e"
            ],
            [
             0.4444444444444444,
             "#bd3786"
            ],
            [
             0.5555555555555556,
             "#d8576b"
            ],
            [
             0.6666666666666666,
             "#ed7953"
            ],
            [
             0.7777777777777778,
             "#fb9f3a"
            ],
            [
             0.8888888888888888,
             "#fdca26"
            ],
            [
             1,
             "#f0f921"
            ]
           ],
           "sequentialminus": [
            [
             0,
             "#0d0887"
            ],
            [
             0.1111111111111111,
             "#46039f"
            ],
            [
             0.2222222222222222,
             "#7201a8"
            ],
            [
             0.3333333333333333,
             "#9c179e"
            ],
            [
             0.4444444444444444,
             "#bd3786"
            ],
            [
             0.5555555555555556,
             "#d8576b"
            ],
            [
             0.6666666666666666,
             "#ed7953"
            ],
            [
             0.7777777777777778,
             "#fb9f3a"
            ],
            [
             0.8888888888888888,
             "#fdca26"
            ],
            [
             1,
             "#f0f921"
            ]
           ]
          },
          "colorway": [
           "#636efa",
           "#EF553B",
           "#00cc96",
           "#ab63fa",
           "#FFA15A",
           "#19d3f3",
           "#FF6692",
           "#B6E880",
           "#FF97FF",
           "#FECB52"
          ],
          "font": {
           "color": "#2a3f5f"
          },
          "geo": {
           "bgcolor": "white",
           "lakecolor": "white",
           "landcolor": "#E5ECF6",
           "showlakes": true,
           "showland": true,
           "subunitcolor": "white"
          },
          "hoverlabel": {
           "align": "left"
          },
          "hovermode": "closest",
          "mapbox": {
           "style": "light"
          },
          "paper_bgcolor": "white",
          "plot_bgcolor": "#E5ECF6",
          "polar": {
           "angularaxis": {
            "gridcolor": "white",
            "linecolor": "white",
            "ticks": ""
           },
           "bgcolor": "#E5ECF6",
           "radialaxis": {
            "gridcolor": "white",
            "linecolor": "white",
            "ticks": ""
           }
          },
          "scene": {
           "xaxis": {
            "backgroundcolor": "#E5ECF6",
            "gridcolor": "white",
            "gridwidth": 2,
            "linecolor": "white",
            "showbackground": true,
            "ticks": "",
            "zerolinecolor": "white"
           },
           "yaxis": {
            "backgroundcolor": "#E5ECF6",
            "gridcolor": "white",
            "gridwidth": 2,
            "linecolor": "white",
            "showbackground": true,
            "ticks": "",
            "zerolinecolor": "white"
           },
           "zaxis": {
            "backgroundcolor": "#E5ECF6",
            "gridcolor": "white",
            "gridwidth": 2,
            "linecolor": "white",
            "showbackground": true,
            "ticks": "",
            "zerolinecolor": "white"
           }
          },
          "shapedefaults": {
           "line": {
            "color": "#2a3f5f"
           }
          },
          "ternary": {
           "aaxis": {
            "gridcolor": "white",
            "linecolor": "white",
            "ticks": ""
           },
           "baxis": {
            "gridcolor": "white",
            "linecolor": "white",
            "ticks": ""
           },
           "bgcolor": "#E5ECF6",
           "caxis": {
            "gridcolor": "white",
            "linecolor": "white",
            "ticks": ""
           }
          },
          "title": {
           "x": 0.05
          },
          "xaxis": {
           "automargin": true,
           "gridcolor": "white",
           "linecolor": "white",
           "ticks": "",
           "title": {
            "standoff": 15
           },
           "zerolinecolor": "white",
           "zerolinewidth": 2
          },
          "yaxis": {
           "automargin": true,
           "gridcolor": "white",
           "linecolor": "white",
           "ticks": "",
           "title": {
            "standoff": 15
           },
           "zerolinecolor": "white",
           "zerolinewidth": 2
          }
         }
        }
       }
      }
     },
     "metadata": {},
     "output_type": "display_data"
    },
    {
     "name": "stdout",
     "output_type": "stream",
     "text": [
      "3\n"
     ]
    }
   ],
   "source": [
    "print(len(PLR(data, 100, show=True)))"
   ]
  },
  {
   "cell_type": "code",
   "execution_count": 23,
   "metadata": {},
   "outputs": [],
   "source": [
    "import pandas as pd"
   ]
  },
  {
   "cell_type": "code",
   "execution_count": 24,
   "metadata": {},
   "outputs": [
    {
     "name": "stdout",
     "output_type": "stream",
     "text": [
      "201 [825491678, 1]\n"
     ]
    }
   ],
   "source": [
    "scv=pd.read_csv(\"cinema1.csv\", index_col=False)\n",
    "sort_keys=scv[\"timestamp\"]\n",
    "# import base36\n",
    "data=[[key,ind] for ind,key in enumerate(sort_keys)]\n",
    "\n",
    "print(len(data), data[1])"
   ]
  },
  {
   "cell_type": "code",
   "execution_count": 25,
   "metadata": {},
   "outputs": [
    {
     "data": {
      "application/vnd.plotly.v1+json": {
       "config": {
        "plotlyServerURL": "https://plot.ly"
       },
       "data": [
        {
         "name": "",
         "showlegend": false,
         "type": "scatter",
         "x": [
          825491677,
          825491677,
          825491677
         ],
         "y": [
          3,
          0,
          -3
         ]
        },
        {
         "name": "",
         "showlegend": false,
         "type": "scatter",
         "x": [
          825491677,
          825491677,
          825491677
         ],
         "y": [
          3,
          0,
          -3
         ]
        },
        {
         "name": "",
         "showlegend": false,
         "type": "scatter",
         "x": [
          825491678,
          825491678,
          825491678
         ],
         "y": [
          4,
          1,
          -2
         ]
        },
        {
         "name": "",
         "showlegend": false,
         "type": "scatter",
         "x": [
          825491679,
          825491679,
          825491679
         ],
         "y": [
          5,
          2,
          -1
         ]
        },
        {
         "name": "",
         "showlegend": false,
         "type": "scatter",
         "x": [
          825491680,
          825491680,
          825491680
         ],
         "y": [
          6,
          3,
          0
         ]
        },
        {
         "name": "",
         "showlegend": false,
         "type": "scatter",
         "x": [
          825638400,
          825638400,
          825638400
         ],
         "y": [
          7,
          4,
          1
         ]
        },
        {
         "name": "",
         "showlegend": false,
         "type": "scatter",
         "x": [
          825789867,
          825789867,
          825789867
         ],
         "y": [
          8,
          5,
          2
         ]
        },
        {
         "name": "",
         "showlegend": false,
         "type": "scatter",
         "x": [
          825789868,
          825789868,
          825789868
         ],
         "y": [
          9,
          6,
          3
         ]
        },
        {
         "name": "",
         "showlegend": false,
         "type": "scatter",
         "x": [
          825790158,
          825790158,
          825790158
         ],
         "y": [
          10,
          7,
          4
         ]
        },
        {
         "name": "",
         "showlegend": false,
         "type": "scatter",
         "x": [
          825790159,
          825790159,
          825790159
         ],
         "y": [
          11,
          8,
          5
         ]
        },
        {
         "name": "",
         "showlegend": false,
         "type": "scatter",
         "x": [
          825868150,
          825868150,
          825868150
         ],
         "y": [
          12,
          9,
          6
         ]
        },
        {
         "name": "",
         "showlegend": false,
         "type": "scatter",
         "x": [
          826480743,
          826480743,
          826480743
         ],
         "y": [
          13,
          10,
          7
         ]
        },
        {
         "name": "p",
         "showlegend": false,
         "type": "scatter",
         "x": [
          825868150,
          825491677
         ],
         "y": [
          6,
          3
         ]
        },
        {
         "name": "p",
         "showlegend": false,
         "type": "scatter",
         "x": [
          825491677,
          825868150
         ],
         "y": [
          3,
          6
         ]
        },
        {
         "name": "spline",
         "showlegend": false,
         "type": "scatter",
         "x": [
          825491677,
          825491677
         ],
         "y": [
          0,
          0
         ]
        },
        {
         "name": "",
         "showlegend": false,
         "type": "scatter",
         "x": [
          827080649,
          827080649,
          827080649
         ],
         "y": [
          14,
          11,
          8
         ]
        },
        {
         "name": "",
         "showlegend": false,
         "type": "scatter",
         "x": [
          827080649,
          827080649,
          827080649
         ],
         "y": [
          14,
          11,
          8
         ]
        },
        {
         "name": "",
         "showlegend": false,
         "type": "scatter",
         "x": [
          827080793,
          827080793,
          827080793
         ],
         "y": [
          15,
          12,
          9
         ]
        },
        {
         "name": "",
         "showlegend": false,
         "type": "scatter",
         "x": [
          827686793,
          827686793,
          827686793
         ],
         "y": [
          16,
          13,
          10
         ]
        },
        {
         "name": "",
         "showlegend": false,
         "type": "scatter",
         "x": [
          827871847,
          827871847,
          827871847
         ],
         "y": [
          17,
          14,
          11
         ]
        },
        {
         "name": "",
         "showlegend": false,
         "type": "scatter",
         "x": [
          827871848,
          827871848,
          827871848
         ],
         "y": [
          18,
          15,
          12
         ]
        },
        {
         "name": "",
         "showlegend": false,
         "type": "scatter",
         "x": [
          828053910,
          828053910,
          828053910
         ],
         "y": [
          19,
          16,
          13
         ]
        },
        {
         "name": "",
         "showlegend": false,
         "type": "scatter",
         "x": [
          828053911,
          828053911,
          828053911
         ],
         "y": [
          20,
          17,
          14
         ]
        },
        {
         "name": "",
         "showlegend": false,
         "type": "scatter",
         "x": [
          828099331,
          828099331,
          828099331
         ],
         "y": [
          21,
          18,
          15
         ]
        },
        {
         "name": "",
         "showlegend": false,
         "type": "scatter",
         "x": [
          828099332,
          828099332,
          828099332
         ],
         "y": [
          22,
          19,
          16
         ]
        },
        {
         "name": "",
         "showlegend": false,
         "type": "scatter",
         "x": [
          828353385,
          828353385,
          828353385
         ],
         "y": [
          23,
          20,
          17
         ]
        },
        {
         "name": "",
         "showlegend": false,
         "type": "scatter",
         "x": [
          828353507,
          828353507,
          828353507
         ],
         "y": [
          24,
          21,
          18
         ]
        },
        {
         "name": "",
         "showlegend": false,
         "type": "scatter",
         "x": [
          828353508,
          828353508,
          828353508
         ],
         "y": [
          25,
          22,
          19
         ]
        },
        {
         "name": "",
         "showlegend": false,
         "type": "scatter",
         "x": [
          828354911,
          828354911,
          828354911
         ],
         "y": [
          26,
          23,
          20
         ]
        },
        {
         "name": "",
         "showlegend": false,
         "type": "scatter",
         "x": [
          828505086,
          828505086,
          828505086
         ],
         "y": [
          27,
          24,
          21
         ]
        },
        {
         "name": "",
         "showlegend": false,
         "type": "scatter",
         "x": [
          828505316,
          828505316,
          828505316
         ],
         "y": [
          28,
          25,
          22
         ]
        },
        {
         "name": "",
         "showlegend": false,
         "type": "scatter",
         "x": [
          828615281,
          828615281,
          828615281
         ],
         "y": [
          29,
          26,
          23
         ]
        },
        {
         "name": "",
         "showlegend": false,
         "type": "scatter",
         "x": [
          828615653,
          828615653,
          828615653
         ],
         "y": [
          30,
          27,
          24
         ]
        },
        {
         "name": "",
         "showlegend": false,
         "type": "scatter",
         "x": [
          828814755,
          828814755,
          828814755
         ],
         "y": [
          31,
          28,
          25
         ]
        },
        {
         "name": "",
         "showlegend": false,
         "type": "scatter",
         "x": [
          828814756,
          828814756,
          828814756
         ],
         "y": [
          32,
          29,
          26
         ]
        },
        {
         "name": "",
         "showlegend": false,
         "type": "scatter",
         "x": [
          828814904,
          828814904,
          828814904
         ],
         "y": [
          33,
          30,
          27
         ]
        },
        {
         "name": "",
         "showlegend": false,
         "type": "scatter",
         "x": [
          828854214,
          828854214,
          828854214
         ],
         "y": [
          34,
          31,
          28
         ]
        },
        {
         "name": "",
         "showlegend": false,
         "type": "scatter",
         "x": [
          828854636,
          828854636,
          828854636
         ],
         "y": [
          35,
          32,
          29
         ]
        },
        {
         "name": "",
         "showlegend": false,
         "type": "scatter",
         "x": [
          828854637,
          828854637,
          828854637
         ],
         "y": [
          36,
          33,
          30
         ]
        },
        {
         "name": "",
         "showlegend": false,
         "type": "scatter",
         "x": [
          829231305,
          829231305,
          829231305
         ],
         "y": [
          37,
          34,
          31
         ]
        },
        {
         "name": "",
         "showlegend": false,
         "type": "scatter",
         "x": [
          829471719,
          829471719,
          829471719
         ],
         "y": [
          38,
          35,
          32
         ]
        },
        {
         "name": "",
         "showlegend": false,
         "type": "scatter",
         "x": [
          829471720,
          829471720,
          829471720
         ],
         "y": [
          39,
          36,
          33
         ]
        },
        {
         "name": "",
         "showlegend": false,
         "type": "scatter",
         "x": [
          829471721,
          829471721,
          829471721
         ],
         "y": [
          40,
          37,
          34
         ]
        },
        {
         "name": "",
         "showlegend": false,
         "type": "scatter",
         "x": [
          829471722,
          829471722,
          829471722
         ],
         "y": [
          41,
          38,
          35
         ]
        },
        {
         "name": "",
         "showlegend": false,
         "type": "scatter",
         "x": [
          829471925,
          829471925,
          829471925
         ],
         "y": [
          42,
          39,
          36
         ]
        },
        {
         "name": "",
         "showlegend": false,
         "type": "scatter",
         "x": [
          829491023,
          829491023,
          829491023
         ],
         "y": [
          43,
          40,
          37
         ]
        },
        {
         "name": "",
         "showlegend": false,
         "type": "scatter",
         "x": [
          829491024,
          829491024,
          829491024
         ],
         "y": [
          44,
          41,
          38
         ]
        },
        {
         "name": "p",
         "showlegend": false,
         "type": "scatter",
         "x": [
          827080793,
          827080649
         ],
         "y": [
          9,
          14
         ]
        },
        {
         "name": "p",
         "showlegend": false,
         "type": "scatter",
         "x": [
          827080649,
          829491024
         ],
         "y": [
          14,
          38
         ]
        },
        {
         "name": "spline",
         "showlegend": false,
         "type": "scatter",
         "x": [
          827080649,
          829491024
         ],
         "y": [
          14,
          38.18816920210156
         ]
        },
        {
         "name": "",
         "showlegend": false,
         "type": "scatter",
         "x": [
          829491025,
          829491025,
          829491025
         ],
         "y": [
          45,
          42,
          39
         ]
        },
        {
         "name": "",
         "showlegend": false,
         "type": "scatter",
         "x": [
          829491025,
          829491025,
          829491025
         ],
         "y": [
          45,
          42,
          39
         ]
        },
        {
         "name": "",
         "showlegend": false,
         "type": "scatter",
         "x": [
          829499221,
          829499221,
          829499221
         ],
         "y": [
          46,
          43,
          40
         ]
        },
        {
         "name": "",
         "showlegend": false,
         "type": "scatter",
         "x": [
          829499222,
          829499222,
          829499222
         ],
         "y": [
          47,
          44,
          41
         ]
        },
        {
         "name": "",
         "showlegend": false,
         "type": "scatter",
         "x": [
          829499223,
          829499223,
          829499223
         ],
         "y": [
          48,
          45,
          42
         ]
        },
        {
         "name": "",
         "showlegend": false,
         "type": "scatter",
         "x": [
          829568379,
          829568379,
          829568379
         ],
         "y": [
          49,
          46,
          43
         ]
        },
        {
         "name": "",
         "showlegend": false,
         "type": "scatter",
         "x": [
          829568380,
          829568380,
          829568380
         ],
         "y": [
          50,
          47,
          44
         ]
        },
        {
         "name": "",
         "showlegend": false,
         "type": "scatter",
         "x": [
          829569166,
          829569166,
          829569166
         ],
         "y": [
          51,
          48,
          45
         ]
        },
        {
         "name": "",
         "showlegend": false,
         "type": "scatter",
         "x": [
          829569167,
          829569167,
          829569167
         ],
         "y": [
          52,
          49,
          46
         ]
        },
        {
         "name": "",
         "showlegend": false,
         "type": "scatter",
         "x": [
          829569168,
          829569168,
          829569168
         ],
         "y": [
          53,
          50,
          47
         ]
        },
        {
         "name": "",
         "showlegend": false,
         "type": "scatter",
         "x": [
          829569169,
          829569169,
          829569169
         ],
         "y": [
          54,
          51,
          48
         ]
        },
        {
         "name": "",
         "showlegend": false,
         "type": "scatter",
         "x": [
          829590394,
          829590394,
          829590394
         ],
         "y": [
          55,
          52,
          49
         ]
        },
        {
         "name": "",
         "showlegend": false,
         "type": "scatter",
         "x": [
          829590395,
          829590395,
          829590395
         ],
         "y": [
          56,
          53,
          50
         ]
        },
        {
         "name": "p",
         "showlegend": false,
         "type": "scatter",
         "x": [
          829499223,
          829491025
         ],
         "y": [
          42,
          45
         ]
        },
        {
         "name": "p",
         "showlegend": false,
         "type": "scatter",
         "x": [
          829491025,
          829590395
         ],
         "y": [
          45,
          50
         ]
        },
        {
         "name": "spline",
         "showlegend": false,
         "type": "scatter",
         "x": [
          829491025,
          829590395
         ],
         "y": [
          45,
          52.52913702354272
         ]
        },
        {
         "name": "",
         "showlegend": false,
         "type": "scatter",
         "x": [
          829898836,
          829898836,
          829898836
         ],
         "y": [
          57,
          54,
          51
         ]
        },
        {
         "name": "",
         "showlegend": false,
         "type": "scatter",
         "x": [
          829898836,
          829898836,
          829898836
         ],
         "y": [
          57,
          54,
          51
         ]
        },
        {
         "name": "",
         "showlegend": false,
         "type": "scatter",
         "x": [
          830106888,
          830106888,
          830106888
         ],
         "y": [
          58,
          55,
          52
         ]
        },
        {
         "name": "",
         "showlegend": false,
         "type": "scatter",
         "x": [
          830107192,
          830107192,
          830107192
         ],
         "y": [
          59,
          56,
          53
         ]
        },
        {
         "name": "",
         "showlegend": false,
         "type": "scatter",
         "x": [
          830195231,
          830195231,
          830195231
         ],
         "y": [
          60,
          57,
          54
         ]
        },
        {
         "name": "",
         "showlegend": false,
         "type": "scatter",
         "x": [
          830195278,
          830195278,
          830195278
         ],
         "y": [
          61,
          58,
          55
         ]
        },
        {
         "name": "",
         "showlegend": false,
         "type": "scatter",
         "x": [
          830195310,
          830195310,
          830195310
         ],
         "y": [
          62,
          59,
          56
         ]
        },
        {
         "name": "",
         "showlegend": false,
         "type": "scatter",
         "x": [
          830195337,
          830195337,
          830195337
         ],
         "y": [
          63,
          60,
          57
         ]
        },
        {
         "name": "",
         "showlegend": false,
         "type": "scatter",
         "x": [
          830195373,
          830195373,
          830195373
         ],
         "y": [
          64,
          61,
          58
         ]
        },
        {
         "name": "",
         "showlegend": false,
         "type": "scatter",
         "x": [
          830195404,
          830195404,
          830195404
         ],
         "y": [
          65,
          62,
          59
         ]
        },
        {
         "name": "",
         "showlegend": false,
         "type": "scatter",
         "x": [
          830195419,
          830195419,
          830195419
         ],
         "y": [
          66,
          63,
          60
         ]
        },
        {
         "name": "",
         "showlegend": false,
         "type": "scatter",
         "x": [
          830195503,
          830195503,
          830195503
         ],
         "y": [
          67,
          64,
          61
         ]
        },
        {
         "name": "",
         "showlegend": false,
         "type": "scatter",
         "x": [
          830195718,
          830195718,
          830195718
         ],
         "y": [
          68,
          65,
          62
         ]
        },
        {
         "name": "",
         "showlegend": false,
         "type": "scatter",
         "x": [
          830343492,
          830343492,
          830343492
         ],
         "y": [
          69,
          66,
          63
         ]
        },
        {
         "name": "",
         "showlegend": false,
         "type": "scatter",
         "x": [
          830343530,
          830343530,
          830343530
         ],
         "y": [
          70,
          67,
          64
         ]
        },
        {
         "name": "",
         "showlegend": false,
         "type": "scatter",
         "x": [
          830343531,
          830343531,
          830343531
         ],
         "y": [
          71,
          68,
          65
         ]
        },
        {
         "name": "",
         "showlegend": false,
         "type": "scatter",
         "x": [
          830343561,
          830343561,
          830343561
         ],
         "y": [
          72,
          69,
          66
         ]
        },
        {
         "name": "",
         "showlegend": false,
         "type": "scatter",
         "x": [
          830343588,
          830343588,
          830343588
         ],
         "y": [
          73,
          70,
          67
         ]
        },
        {
         "name": "",
         "showlegend": false,
         "type": "scatter",
         "x": [
          830343622,
          830343622,
          830343622
         ],
         "y": [
          74,
          71,
          68
         ]
        },
        {
         "name": "",
         "showlegend": false,
         "type": "scatter",
         "x": [
          830343671,
          830343671,
          830343671
         ],
         "y": [
          75,
          72,
          69
         ]
        },
        {
         "name": "",
         "showlegend": false,
         "type": "scatter",
         "x": [
          830343705,
          830343705,
          830343705
         ],
         "y": [
          76,
          73,
          70
         ]
        },
        {
         "name": "p",
         "showlegend": false,
         "type": "scatter",
         "x": [
          829898836,
          829898836
         ],
         "y": [
          51,
          57
         ]
        },
        {
         "name": "p",
         "showlegend": false,
         "type": "scatter",
         "x": [
          829898836,
          830343705
         ],
         "y": [
          57,
          70
         ]
        },
        {
         "name": "spline",
         "showlegend": false,
         "type": "scatter",
         "x": [
          829898836,
          830343705
         ],
         "y": [
          57,
          70.25419794530899
         ]
        },
        {
         "name": "",
         "showlegend": false,
         "type": "scatter",
         "x": [
          830343706,
          830343706,
          830343706
         ],
         "y": [
          77,
          74,
          71
         ]
        },
        {
         "name": "",
         "showlegend": false,
         "type": "scatter",
         "x": [
          830343706,
          830343706,
          830343706
         ],
         "y": [
          77,
          74,
          71
         ]
        },
        {
         "name": "",
         "showlegend": false,
         "type": "scatter",
         "x": [
          830343730,
          830343730,
          830343730
         ],
         "y": [
          78,
          75,
          72
         ]
        },
        {
         "name": "",
         "showlegend": false,
         "type": "scatter",
         "x": [
          830343754,
          830343754,
          830343754
         ],
         "y": [
          79,
          76,
          73
         ]
        },
        {
         "name": "",
         "showlegend": false,
         "type": "scatter",
         "x": [
          830343774,
          830343774,
          830343774
         ],
         "y": [
          80,
          77,
          74
         ]
        },
        {
         "name": "",
         "showlegend": false,
         "type": "scatter",
         "x": [
          830343799,
          830343799,
          830343799
         ],
         "y": [
          81,
          78,
          75
         ]
        },
        {
         "name": "",
         "showlegend": false,
         "type": "scatter",
         "x": [
          830343841,
          830343841,
          830343841
         ],
         "y": [
          82,
          79,
          76
         ]
        },
        {
         "name": "",
         "showlegend": false,
         "type": "scatter",
         "x": [
          830343863,
          830343863,
          830343863
         ],
         "y": [
          83,
          80,
          77
         ]
        },
        {
         "name": "",
         "showlegend": false,
         "type": "scatter",
         "x": [
          830343884,
          830343884,
          830343884
         ],
         "y": [
          84,
          81,
          78
         ]
        },
        {
         "name": "",
         "showlegend": false,
         "type": "scatter",
         "x": [
          830343992,
          830343992,
          830343992
         ],
         "y": [
          85,
          82,
          79
         ]
        },
        {
         "name": "",
         "showlegend": false,
         "type": "scatter",
         "x": [
          830344015,
          830344015,
          830344015
         ],
         "y": [
          86,
          83,
          80
         ]
        },
        {
         "name": "",
         "showlegend": false,
         "type": "scatter",
         "x": [
          830344039,
          830344039,
          830344039
         ],
         "y": [
          87,
          84,
          81
         ]
        },
        {
         "name": "",
         "showlegend": false,
         "type": "scatter",
         "x": [
          830344064,
          830344064,
          830344064
         ],
         "y": [
          88,
          85,
          82
         ]
        },
        {
         "name": "",
         "showlegend": false,
         "type": "scatter",
         "x": [
          830344131,
          830344131,
          830344131
         ],
         "y": [
          89,
          86,
          83
         ]
        },
        {
         "name": "",
         "showlegend": false,
         "type": "scatter",
         "x": [
          830344158,
          830344158,
          830344158
         ],
         "y": [
          90,
          87,
          84
         ]
        },
        {
         "name": "",
         "showlegend": false,
         "type": "scatter",
         "x": [
          830344183,
          830344183,
          830344183
         ],
         "y": [
          91,
          88,
          85
         ]
        },
        {
         "name": "",
         "showlegend": false,
         "type": "scatter",
         "x": [
          830344210,
          830344210,
          830344210
         ],
         "y": [
          92,
          89,
          86
         ]
        },
        {
         "name": "",
         "showlegend": false,
         "type": "scatter",
         "x": [
          830344240,
          830344240,
          830344240
         ],
         "y": [
          93,
          90,
          87
         ]
        },
        {
         "name": "",
         "showlegend": false,
         "type": "scatter",
         "x": [
          830344267,
          830344267,
          830344267
         ],
         "y": [
          94,
          91,
          88
         ]
        },
        {
         "name": "",
         "showlegend": false,
         "type": "scatter",
         "x": [
          830344320,
          830344320,
          830344320
         ],
         "y": [
          95,
          92,
          89
         ]
        },
        {
         "name": "",
         "showlegend": false,
         "type": "scatter",
         "x": [
          830344364,
          830344364,
          830344364
         ],
         "y": [
          96,
          93,
          90
         ]
        },
        {
         "name": "",
         "showlegend": false,
         "type": "scatter",
         "x": [
          830344514,
          830344514,
          830344514
         ],
         "y": [
          97,
          94,
          91
         ]
        },
        {
         "name": "",
         "showlegend": false,
         "type": "scatter",
         "x": [
          830344669,
          830344669,
          830344669
         ],
         "y": [
          98,
          95,
          92
         ]
        },
        {
         "name": "p",
         "showlegend": false,
         "type": "scatter",
         "x": [
          830344267,
          830343706
         ],
         "y": [
          88,
          77
         ]
        },
        {
         "name": "p",
         "showlegend": false,
         "type": "scatter",
         "x": [
          830343706,
          830344364
         ],
         "y": [
          77,
          90
         ]
        },
        {
         "name": "spline",
         "showlegend": false,
         "type": "scatter",
         "x": [
          830343706,
          830344669
         ],
         "y": [
          77,
          98.49052987247705
         ]
        },
        {
         "name": "",
         "showlegend": false,
         "type": "scatter",
         "x": [
          830786155,
          830786155,
          830786155
         ],
         "y": [
          99,
          96,
          93
         ]
        },
        {
         "name": "",
         "showlegend": false,
         "type": "scatter",
         "x": [
          830786155,
          830786155,
          830786155
         ],
         "y": [
          99,
          96,
          93
         ]
        },
        {
         "name": "",
         "showlegend": false,
         "type": "scatter",
         "x": [
          830786193,
          830786193,
          830786193
         ],
         "y": [
          100,
          97,
          94
         ]
        },
        {
         "name": "",
         "showlegend": false,
         "type": "scatter",
         "x": [
          830786221,
          830786221,
          830786221
         ],
         "y": [
          101,
          98,
          95
         ]
        },
        {
         "name": "",
         "showlegend": false,
         "type": "scatter",
         "x": [
          830786244,
          830786244,
          830786244
         ],
         "y": [
          102,
          99,
          96
         ]
        },
        {
         "name": "",
         "showlegend": false,
         "type": "scatter",
         "x": [
          830786263,
          830786263,
          830786263
         ],
         "y": [
          103,
          100,
          97
         ]
        },
        {
         "name": "",
         "showlegend": false,
         "type": "scatter",
         "x": [
          830786277,
          830786277,
          830786277
         ],
         "y": [
          104,
          101,
          98
         ]
        },
        {
         "name": "",
         "showlegend": false,
         "type": "scatter",
         "x": [
          830786317,
          830786317,
          830786317
         ],
         "y": [
          105,
          102,
          99
         ]
        },
        {
         "name": "",
         "showlegend": false,
         "type": "scatter",
         "x": [
          830786345,
          830786345,
          830786345
         ],
         "y": [
          106,
          103,
          100
         ]
        },
        {
         "name": "",
         "showlegend": false,
         "type": "scatter",
         "x": [
          830786363,
          830786363,
          830786363
         ],
         "y": [
          107,
          104,
          101
         ]
        },
        {
         "name": "",
         "showlegend": false,
         "type": "scatter",
         "x": [
          830786380,
          830786380,
          830786380
         ],
         "y": [
          108,
          105,
          102
         ]
        },
        {
         "name": "",
         "showlegend": false,
         "type": "scatter",
         "x": [
          830786394,
          830786394,
          830786394
         ],
         "y": [
          109,
          106,
          103
         ]
        },
        {
         "name": "",
         "showlegend": false,
         "type": "scatter",
         "x": [
          830786409,
          830786409,
          830786409
         ],
         "y": [
          110,
          107,
          104
         ]
        },
        {
         "name": "",
         "showlegend": false,
         "type": "scatter",
         "x": [
          830786425,
          830786425,
          830786425
         ],
         "y": [
          111,
          108,
          105
         ]
        },
        {
         "name": "",
         "showlegend": false,
         "type": "scatter",
         "x": [
          830786478,
          830786478,
          830786478
         ],
         "y": [
          112,
          109,
          106
         ]
        },
        {
         "name": "",
         "showlegend": false,
         "type": "scatter",
         "x": [
          830786491,
          830786491,
          830786491
         ],
         "y": [
          113,
          110,
          107
         ]
        },
        {
         "name": "",
         "showlegend": false,
         "type": "scatter",
         "x": [
          830786530,
          830786530,
          830786530
         ],
         "y": [
          114,
          111,
          108
         ]
        },
        {
         "name": "",
         "showlegend": false,
         "type": "scatter",
         "x": [
          830786541,
          830786541,
          830786541
         ],
         "y": [
          115,
          112,
          109
         ]
        },
        {
         "name": "",
         "showlegend": false,
         "type": "scatter",
         "x": [
          830786569,
          830786569,
          830786569
         ],
         "y": [
          116,
          113,
          110
         ]
        },
        {
         "name": "",
         "showlegend": false,
         "type": "scatter",
         "x": [
          830786608,
          830786608,
          830786608
         ],
         "y": [
          117,
          114,
          111
         ]
        },
        {
         "name": "",
         "showlegend": false,
         "type": "scatter",
         "x": [
          830786631,
          830786631,
          830786631
         ],
         "y": [
          118,
          115,
          112
         ]
        },
        {
         "name": "",
         "showlegend": false,
         "type": "scatter",
         "x": [
          830786640,
          830786640,
          830786640
         ],
         "y": [
          119,
          116,
          113
         ]
        },
        {
         "name": "",
         "showlegend": false,
         "type": "scatter",
         "x": [
          830786657,
          830786657,
          830786657
         ],
         "y": [
          120,
          117,
          114
         ]
        },
        {
         "name": "",
         "showlegend": false,
         "type": "scatter",
         "x": [
          830786668,
          830786668,
          830786668
         ],
         "y": [
          121,
          118,
          115
         ]
        },
        {
         "name": "",
         "showlegend": false,
         "type": "scatter",
         "x": [
          830786700,
          830786700,
          830786700
         ],
         "y": [
          122,
          119,
          116
         ]
        },
        {
         "name": "",
         "showlegend": false,
         "type": "scatter",
         "x": [
          830786711,
          830786711,
          830786711
         ],
         "y": [
          123,
          120,
          117
         ]
        },
        {
         "name": "",
         "showlegend": false,
         "type": "scatter",
         "x": [
          830786765,
          830786765,
          830786765
         ],
         "y": [
          124,
          121,
          118
         ]
        },
        {
         "name": "",
         "showlegend": false,
         "type": "scatter",
         "x": [
          830786777,
          830786777,
          830786777
         ],
         "y": [
          125,
          122,
          119
         ]
        },
        {
         "name": "p",
         "showlegend": false,
         "type": "scatter",
         "x": [
          830786155,
          830786155
         ],
         "y": [
          93,
          99
         ]
        },
        {
         "name": "p",
         "showlegend": false,
         "type": "scatter",
         "x": [
          830786155,
          830786711
         ],
         "y": [
          99,
          117
         ]
        },
        {
         "name": "spline",
         "showlegend": false,
         "type": "scatter",
         "x": [
          830786155,
          830786777
         ],
         "y": [
          99,
          124.87326335906982
         ]
        },
        {
         "name": "",
         "showlegend": false,
         "type": "scatter",
         "x": [
          830788219,
          830788219,
          830788219
         ],
         "y": [
          126,
          123,
          120
         ]
        },
        {
         "name": "",
         "showlegend": false,
         "type": "scatter",
         "x": [
          830788219,
          830788219,
          830788219
         ],
         "y": [
          126,
          123,
          120
         ]
        },
        {
         "name": "",
         "showlegend": false,
         "type": "scatter",
         "x": [
          830792076,
          830792076,
          830792076
         ],
         "y": [
          127,
          124,
          121
         ]
        },
        {
         "name": "",
         "showlegend": false,
         "type": "scatter",
         "x": [
          830792105,
          830792105,
          830792105
         ],
         "y": [
          128,
          125,
          122
         ]
        },
        {
         "name": "",
         "showlegend": false,
         "type": "scatter",
         "x": [
          830792123,
          830792123,
          830792123
         ],
         "y": [
          129,
          126,
          123
         ]
        },
        {
         "name": "",
         "showlegend": false,
         "type": "scatter",
         "x": [
          830792139,
          830792139,
          830792139
         ],
         "y": [
          130,
          127,
          124
         ]
        },
        {
         "name": "",
         "showlegend": false,
         "type": "scatter",
         "x": [
          830792163,
          830792163,
          830792163
         ],
         "y": [
          131,
          128,
          125
         ]
        },
        {
         "name": "",
         "showlegend": false,
         "type": "scatter",
         "x": [
          830792179,
          830792179,
          830792179
         ],
         "y": [
          132,
          129,
          126
         ]
        },
        {
         "name": "",
         "showlegend": false,
         "type": "scatter",
         "x": [
          830792201,
          830792201,
          830792201
         ],
         "y": [
          133,
          130,
          127
         ]
        },
        {
         "name": "",
         "showlegend": false,
         "type": "scatter",
         "x": [
          830792223,
          830792223,
          830792223
         ],
         "y": [
          134,
          131,
          128
         ]
        },
        {
         "name": "",
         "showlegend": false,
         "type": "scatter",
         "x": [
          830792259,
          830792259,
          830792259
         ],
         "y": [
          135,
          132,
          129
         ]
        },
        {
         "name": "",
         "showlegend": false,
         "type": "scatter",
         "x": [
          830792304,
          830792304,
          830792304
         ],
         "y": [
          136,
          133,
          130
         ]
        },
        {
         "name": "",
         "showlegend": false,
         "type": "scatter",
         "x": [
          830792349,
          830792349,
          830792349
         ],
         "y": [
          137,
          134,
          131
         ]
        },
        {
         "name": "",
         "showlegend": false,
         "type": "scatter",
         "x": [
          830792363,
          830792363,
          830792363
         ],
         "y": [
          138,
          135,
          132
         ]
        },
        {
         "name": "",
         "showlegend": false,
         "type": "scatter",
         "x": [
          830792397,
          830792397,
          830792397
         ],
         "y": [
          139,
          136,
          133
         ]
        },
        {
         "name": "p",
         "showlegend": false,
         "type": "scatter",
         "x": [
          830788219,
          830788219
         ],
         "y": [
          120,
          126
         ]
        },
        {
         "name": "p",
         "showlegend": false,
         "type": "scatter",
         "x": [
          830788219,
          830792397
         ],
         "y": [
          126,
          133
         ]
        },
        {
         "name": "spline",
         "showlegend": false,
         "type": "scatter",
         "x": [
          830788219,
          830792397
         ],
         "y": [
          126,
          133.29128856630996
         ]
        },
        {
         "name": "",
         "showlegend": false,
         "type": "scatter",
         "x": [
          830792415,
          830792415,
          830792415
         ],
         "y": [
          140,
          137,
          134
         ]
        },
        {
         "name": "",
         "showlegend": false,
         "type": "scatter",
         "x": [
          830792415,
          830792415,
          830792415
         ],
         "y": [
          140,
          137,
          134
         ]
        },
        {
         "name": "",
         "showlegend": false,
         "type": "scatter",
         "x": [
          830792428,
          830792428,
          830792428
         ],
         "y": [
          141,
          138,
          135
         ]
        },
        {
         "name": "",
         "showlegend": false,
         "type": "scatter",
         "x": [
          830792475,
          830792475,
          830792475
         ],
         "y": [
          142,
          139,
          136
         ]
        },
        {
         "name": "",
         "showlegend": false,
         "type": "scatter",
         "x": [
          830792621,
          830792621,
          830792621
         ],
         "y": [
          143,
          140,
          137
         ]
        },
        {
         "name": "",
         "showlegend": false,
         "type": "scatter",
         "x": [
          830792871,
          830792871,
          830792871
         ],
         "y": [
          144,
          141,
          138
         ]
        },
        {
         "name": "",
         "showlegend": false,
         "type": "scatter",
         "x": [
          830859270,
          830859270,
          830859270
         ],
         "y": [
          145,
          142,
          139
         ]
        },
        {
         "name": "",
         "showlegend": false,
         "type": "scatter",
         "x": [
          830859308,
          830859308,
          830859308
         ],
         "y": [
          146,
          143,
          140
         ]
        },
        {
         "name": "",
         "showlegend": false,
         "type": "scatter",
         "x": [
          830859339,
          830859339,
          830859339
         ],
         "y": [
          147,
          144,
          141
         ]
        },
        {
         "name": "",
         "showlegend": false,
         "type": "scatter",
         "x": [
          830859399,
          830859399,
          830859399
         ],
         "y": [
          148,
          145,
          142
         ]
        },
        {
         "name": "",
         "showlegend": false,
         "type": "scatter",
         "x": [
          830859400,
          830859400,
          830859400
         ],
         "y": [
          149,
          146,
          143
         ]
        },
        {
         "name": "",
         "showlegend": false,
         "type": "scatter",
         "x": [
          830859437,
          830859437,
          830859437
         ],
         "y": [
          150,
          147,
          144
         ]
        },
        {
         "name": "",
         "showlegend": false,
         "type": "scatter",
         "x": [
          830859465,
          830859465,
          830859465
         ],
         "y": [
          151,
          148,
          145
         ]
        },
        {
         "name": "",
         "showlegend": false,
         "type": "scatter",
         "x": [
          830859487,
          830859487,
          830859487
         ],
         "y": [
          152,
          149,
          146
         ]
        },
        {
         "name": "",
         "showlegend": false,
         "type": "scatter",
         "x": [
          830859515,
          830859515,
          830859515
         ],
         "y": [
          153,
          150,
          147
         ]
        },
        {
         "name": "p",
         "showlegend": false,
         "type": "scatter",
         "x": [
          830792871,
          830792415
         ],
         "y": [
          138,
          140
         ]
        },
        {
         "name": "p",
         "showlegend": false,
         "type": "scatter",
         "x": [
          830792415,
          830859515
         ],
         "y": [
          140,
          147
         ]
        },
        {
         "name": "spline",
         "showlegend": false,
         "type": "scatter",
         "x": [
          830792415,
          830859515
         ],
         "y": [
          140,
          147.03695085769868
         ]
        },
        {
         "name": "",
         "showlegend": false,
         "type": "scatter",
         "x": [
          830859542,
          830859542,
          830859542
         ],
         "y": [
          154,
          151,
          148
         ]
        },
        {
         "name": "",
         "showlegend": false,
         "type": "scatter",
         "x": [
          830859542,
          830859542,
          830859542
         ],
         "y": [
          154,
          151,
          148
         ]
        },
        {
         "name": "",
         "showlegend": false,
         "type": "scatter",
         "x": [
          830859567,
          830859567,
          830859567
         ],
         "y": [
          155,
          152,
          149
         ]
        },
        {
         "name": "",
         "showlegend": false,
         "type": "scatter",
         "x": [
          830859640,
          830859640,
          830859640
         ],
         "y": [
          156,
          153,
          150
         ]
        },
        {
         "name": "",
         "showlegend": false,
         "type": "scatter",
         "x": [
          830859663,
          830859663,
          830859663
         ],
         "y": [
          157,
          154,
          151
         ]
        },
        {
         "name": "",
         "showlegend": false,
         "type": "scatter",
         "x": [
          830859690,
          830859690,
          830859690
         ],
         "y": [
          158,
          155,
          152
         ]
        },
        {
         "name": "",
         "showlegend": false,
         "type": "scatter",
         "x": [
          830859723,
          830859723,
          830859723
         ],
         "y": [
          159,
          156,
          153
         ]
        },
        {
         "name": "",
         "showlegend": false,
         "type": "scatter",
         "x": [
          830859756,
          830859756,
          830859756
         ],
         "y": [
          160,
          157,
          154
         ]
        },
        {
         "name": "",
         "showlegend": false,
         "type": "scatter",
         "x": [
          830859786,
          830859786,
          830859786
         ],
         "y": [
          161,
          158,
          155
         ]
        },
        {
         "name": "",
         "showlegend": false,
         "type": "scatter",
         "x": [
          830859824,
          830859824,
          830859824
         ],
         "y": [
          162,
          159,
          156
         ]
        },
        {
         "name": "",
         "showlegend": false,
         "type": "scatter",
         "x": [
          830859851,
          830859851,
          830859851
         ],
         "y": [
          163,
          160,
          157
         ]
        },
        {
         "name": "",
         "showlegend": false,
         "type": "scatter",
         "x": [
          830859871,
          830859871,
          830859871
         ],
         "y": [
          164,
          161,
          158
         ]
        },
        {
         "name": "",
         "showlegend": false,
         "type": "scatter",
         "x": [
          830859890,
          830859890,
          830859890
         ],
         "y": [
          165,
          162,
          159
         ]
        },
        {
         "name": "",
         "showlegend": false,
         "type": "scatter",
         "x": [
          830859957,
          830859957,
          830859957
         ],
         "y": [
          166,
          163,
          160
         ]
        },
        {
         "name": "",
         "showlegend": false,
         "type": "scatter",
         "x": [
          830860000,
          830860000,
          830860000
         ],
         "y": [
          167,
          164,
          161
         ]
        },
        {
         "name": "",
         "showlegend": false,
         "type": "scatter",
         "x": [
          830860029,
          830860029,
          830860029
         ],
         "y": [
          168,
          165,
          162
         ]
        },
        {
         "name": "",
         "showlegend": false,
         "type": "scatter",
         "x": [
          830860077,
          830860077,
          830860077
         ],
         "y": [
          169,
          166,
          163
         ]
        },
        {
         "name": "",
         "showlegend": false,
         "type": "scatter",
         "x": [
          830860115,
          830860115,
          830860115
         ],
         "y": [
          170,
          167,
          164
         ]
        },
        {
         "name": "",
         "showlegend": false,
         "type": "scatter",
         "x": [
          830860144,
          830860144,
          830860144
         ],
         "y": [
          171,
          168,
          165
         ]
        },
        {
         "name": "",
         "showlegend": false,
         "type": "scatter",
         "x": [
          830860184,
          830860184,
          830860184
         ],
         "y": [
          172,
          169,
          166
         ]
        },
        {
         "name": "",
         "showlegend": false,
         "type": "scatter",
         "x": [
          830860271,
          830860271,
          830860271
         ],
         "y": [
          173,
          170,
          167
         ]
        },
        {
         "name": "p",
         "showlegend": false,
         "type": "scatter",
         "x": [
          830859567,
          830859542
         ],
         "y": [
          149,
          154
         ]
        },
        {
         "name": "p",
         "showlegend": false,
         "type": "scatter",
         "x": [
          830859542,
          830860184
         ],
         "y": [
          154,
          166
         ]
        },
        {
         "name": "spline",
         "showlegend": false,
         "type": "scatter",
         "x": [
          830859542,
          830860271
         ],
         "y": [
          154,
          173.23922047764063
         ]
        },
        {
         "name": "",
         "showlegend": false,
         "type": "scatter",
         "x": [
          830873085,
          830873085,
          830873085
         ],
         "y": [
          174,
          171,
          168
         ]
        },
        {
         "name": "",
         "showlegend": false,
         "type": "scatter",
         "x": [
          830873085,
          830873085,
          830873085
         ],
         "y": [
          174,
          171,
          168
         ]
        },
        {
         "name": "",
         "showlegend": false,
         "type": "scatter",
         "x": [
          830873117,
          830873117,
          830873117
         ],
         "y": [
          175,
          172,
          169
         ]
        },
        {
         "name": "",
         "showlegend": false,
         "type": "scatter",
         "x": [
          830873139,
          830873139,
          830873139
         ],
         "y": [
          176,
          173,
          170
         ]
        },
        {
         "name": "",
         "showlegend": false,
         "type": "scatter",
         "x": [
          830873162,
          830873162,
          830873162
         ],
         "y": [
          177,
          174,
          171
         ]
        },
        {
         "name": "",
         "showlegend": false,
         "type": "scatter",
         "x": [
          830873182,
          830873182,
          830873182
         ],
         "y": [
          178,
          175,
          172
         ]
        },
        {
         "name": "",
         "showlegend": false,
         "type": "scatter",
         "x": [
          830873214,
          830873214,
          830873214
         ],
         "y": [
          179,
          176,
          173
         ]
        },
        {
         "name": "",
         "showlegend": false,
         "type": "scatter",
         "x": [
          830873254,
          830873254,
          830873254
         ],
         "y": [
          180,
          177,
          174
         ]
        },
        {
         "name": "",
         "showlegend": false,
         "type": "scatter",
         "x": [
          830873280,
          830873280,
          830873280
         ],
         "y": [
          181,
          178,
          175
         ]
        },
        {
         "name": "",
         "showlegend": false,
         "type": "scatter",
         "x": [
          830873320,
          830873320,
          830873320
         ],
         "y": [
          182,
          179,
          176
         ]
        },
        {
         "name": "",
         "showlegend": false,
         "type": "scatter",
         "x": [
          830873338,
          830873338,
          830873338
         ],
         "y": [
          183,
          180,
          177
         ]
        },
        {
         "name": "",
         "showlegend": false,
         "type": "scatter",
         "x": [
          830873354,
          830873354,
          830873354
         ],
         "y": [
          184,
          181,
          178
         ]
        },
        {
         "name": "",
         "showlegend": false,
         "type": "scatter",
         "x": [
          830873446,
          830873446,
          830873446
         ],
         "y": [
          185,
          182,
          179
         ]
        },
        {
         "name": "",
         "showlegend": false,
         "type": "scatter",
         "x": [
          830873482,
          830873482,
          830873482
         ],
         "y": [
          186,
          183,
          180
         ]
        },
        {
         "name": "",
         "showlegend": false,
         "type": "scatter",
         "x": [
          830873502,
          830873502,
          830873502
         ],
         "y": [
          187,
          184,
          181
         ]
        },
        {
         "name": "p",
         "showlegend": false,
         "type": "scatter",
         "x": [
          830873085,
          830873085
         ],
         "y": [
          168,
          174
         ]
        },
        {
         "name": "p",
         "showlegend": false,
         "type": "scatter",
         "x": [
          830873085,
          830873502
         ],
         "y": [
          174,
          181
         ]
        },
        {
         "name": "spline",
         "showlegend": false,
         "type": "scatter",
         "x": [
          830873085,
          830873502
         ],
         "y": [
          174,
          186.95340050384402
         ]
        },
        {
         "name": "",
         "showlegend": false,
         "type": "scatter",
         "x": [
          831107043,
          831107043,
          831107043
         ],
         "y": [
          188,
          185,
          182
         ]
        },
        {
         "name": "",
         "showlegend": false,
         "type": "scatter",
         "x": [
          831107043,
          831107043,
          831107043
         ],
         "y": [
          188,
          185,
          182
         ]
        },
        {
         "name": "",
         "showlegend": false,
         "type": "scatter",
         "x": [
          831107071,
          831107071,
          831107071
         ],
         "y": [
          189,
          186,
          183
         ]
        },
        {
         "name": "",
         "showlegend": false,
         "type": "scatter",
         "x": [
          831107095,
          831107095,
          831107095
         ],
         "y": [
          190,
          187,
          184
         ]
        },
        {
         "name": "",
         "showlegend": false,
         "type": "scatter",
         "x": [
          831107117,
          831107117,
          831107117
         ],
         "y": [
          191,
          188,
          185
         ]
        },
        {
         "name": "",
         "showlegend": false,
         "type": "scatter",
         "x": [
          831107141,
          831107141,
          831107141
         ],
         "y": [
          192,
          189,
          186
         ]
        },
        {
         "name": "",
         "showlegend": false,
         "type": "scatter",
         "x": [
          831107154,
          831107154,
          831107154
         ],
         "y": [
          193,
          190,
          187
         ]
        },
        {
         "name": "",
         "showlegend": false,
         "type": "scatter",
         "x": [
          831107170,
          831107170,
          831107170
         ],
         "y": [
          194,
          191,
          188
         ]
        },
        {
         "name": "",
         "showlegend": false,
         "type": "scatter",
         "x": [
          831107187,
          831107187,
          831107187
         ],
         "y": [
          195,
          192,
          189
         ]
        },
        {
         "name": "",
         "showlegend": false,
         "type": "scatter",
         "x": [
          831107208,
          831107208,
          831107208
         ],
         "y": [
          196,
          193,
          190
         ]
        },
        {
         "name": "",
         "showlegend": false,
         "type": "scatter",
         "x": [
          831107228,
          831107228,
          831107228
         ],
         "y": [
          197,
          194,
          191
         ]
        },
        {
         "name": "",
         "showlegend": false,
         "type": "scatter",
         "x": [
          831107245,
          831107245,
          831107245
         ],
         "y": [
          198,
          195,
          192
         ]
        },
        {
         "name": "",
         "showlegend": false,
         "type": "scatter",
         "x": [
          831107260,
          831107260,
          831107260
         ],
         "y": [
          199,
          196,
          193
         ]
        },
        {
         "name": "",
         "showlegend": false,
         "type": "scatter",
         "x": [
          831107311,
          831107311,
          831107311
         ],
         "y": [
          200,
          197,
          194
         ]
        },
        {
         "name": "",
         "showlegend": false,
         "type": "scatter",
         "x": [
          831107326,
          831107326,
          831107326
         ],
         "y": [
          201,
          198,
          195
         ]
        },
        {
         "name": "",
         "showlegend": false,
         "type": "scatter",
         "x": [
          831107339,
          831107339,
          831107339
         ],
         "y": [
          202,
          199,
          196
         ]
        },
        {
         "name": "",
         "showlegend": false,
         "type": "scatter",
         "x": [
          831107366,
          831107366,
          831107366
         ],
         "y": [
          203,
          200,
          197
         ]
        },
        {
         "name": "p",
         "showlegend": false,
         "type": "scatter",
         "x": [
          831107043,
          831107043
         ],
         "y": [
          182,
          188
         ]
        },
        {
         "name": "p",
         "showlegend": false,
         "type": "scatter",
         "x": [
          831107043,
          831107366
         ],
         "y": [
          188,
          197
         ]
        },
        {
         "name": "spline",
         "showlegend": false,
         "type": "scatter",
         "x": [
          831107043,
          831107366
         ],
         "y": [
          188,
          203
         ]
        }
       ],
       "layout": {
        "template": {
         "data": {
          "bar": [
           {
            "error_x": {
             "color": "#2a3f5f"
            },
            "error_y": {
             "color": "#2a3f5f"
            },
            "marker": {
             "line": {
              "color": "#E5ECF6",
              "width": 0.5
             },
             "pattern": {
              "fillmode": "overlay",
              "size": 10,
              "solidity": 0.2
             }
            },
            "type": "bar"
           }
          ],
          "barpolar": [
           {
            "marker": {
             "line": {
              "color": "#E5ECF6",
              "width": 0.5
             },
             "pattern": {
              "fillmode": "overlay",
              "size": 10,
              "solidity": 0.2
             }
            },
            "type": "barpolar"
           }
          ],
          "carpet": [
           {
            "aaxis": {
             "endlinecolor": "#2a3f5f",
             "gridcolor": "white",
             "linecolor": "white",
             "minorgridcolor": "white",
             "startlinecolor": "#2a3f5f"
            },
            "baxis": {
             "endlinecolor": "#2a3f5f",
             "gridcolor": "white",
             "linecolor": "white",
             "minorgridcolor": "white",
             "startlinecolor": "#2a3f5f"
            },
            "type": "carpet"
           }
          ],
          "choropleth": [
           {
            "colorbar": {
             "outlinewidth": 0,
             "ticks": ""
            },
            "type": "choropleth"
           }
          ],
          "contour": [
           {
            "colorbar": {
             "outlinewidth": 0,
             "ticks": ""
            },
            "colorscale": [
             [
              0,
              "#0d0887"
             ],
             [
              0.1111111111111111,
              "#46039f"
             ],
             [
              0.2222222222222222,
              "#7201a8"
             ],
             [
              0.3333333333333333,
              "#9c179e"
             ],
             [
              0.4444444444444444,
              "#bd3786"
             ],
             [
              0.5555555555555556,
              "#d8576b"
             ],
             [
              0.6666666666666666,
              "#ed7953"
             ],
             [
              0.7777777777777778,
              "#fb9f3a"
             ],
             [
              0.8888888888888888,
              "#fdca26"
             ],
             [
              1,
              "#f0f921"
             ]
            ],
            "type": "contour"
           }
          ],
          "contourcarpet": [
           {
            "colorbar": {
             "outlinewidth": 0,
             "ticks": ""
            },
            "type": "contourcarpet"
           }
          ],
          "heatmap": [
           {
            "colorbar": {
             "outlinewidth": 0,
             "ticks": ""
            },
            "colorscale": [
             [
              0,
              "#0d0887"
             ],
             [
              0.1111111111111111,
              "#46039f"
             ],
             [
              0.2222222222222222,
              "#7201a8"
             ],
             [
              0.3333333333333333,
              "#9c179e"
             ],
             [
              0.4444444444444444,
              "#bd3786"
             ],
             [
              0.5555555555555556,
              "#d8576b"
             ],
             [
              0.6666666666666666,
              "#ed7953"
             ],
             [
              0.7777777777777778,
              "#fb9f3a"
             ],
             [
              0.8888888888888888,
              "#fdca26"
             ],
             [
              1,
              "#f0f921"
             ]
            ],
            "type": "heatmap"
           }
          ],
          "histogram": [
           {
            "marker": {
             "pattern": {
              "fillmode": "overlay",
              "size": 10,
              "solidity": 0.2
             }
            },
            "type": "histogram"
           }
          ],
          "histogram2d": [
           {
            "colorbar": {
             "outlinewidth": 0,
             "ticks": ""
            },
            "colorscale": [
             [
              0,
              "#0d0887"
             ],
             [
              0.1111111111111111,
              "#46039f"
             ],
             [
              0.2222222222222222,
              "#7201a8"
             ],
             [
              0.3333333333333333,
              "#9c179e"
             ],
             [
              0.4444444444444444,
              "#bd3786"
             ],
             [
              0.5555555555555556,
              "#d8576b"
             ],
             [
              0.6666666666666666,
              "#ed7953"
             ],
             [
              0.7777777777777778,
              "#fb9f3a"
             ],
             [
              0.8888888888888888,
              "#fdca26"
             ],
             [
              1,
              "#f0f921"
             ]
            ],
            "type": "histogram2d"
           }
          ],
          "histogram2dcontour": [
           {
            "colorbar": {
             "outlinewidth": 0,
             "ticks": ""
            },
            "colorscale": [
             [
              0,
              "#0d0887"
             ],
             [
              0.1111111111111111,
              "#46039f"
             ],
             [
              0.2222222222222222,
              "#7201a8"
             ],
             [
              0.3333333333333333,
              "#9c179e"
             ],
             [
              0.4444444444444444,
              "#bd3786"
             ],
             [
              0.5555555555555556,
              "#d8576b"
             ],
             [
              0.6666666666666666,
              "#ed7953"
             ],
             [
              0.7777777777777778,
              "#fb9f3a"
             ],
             [
              0.8888888888888888,
              "#fdca26"
             ],
             [
              1,
              "#f0f921"
             ]
            ],
            "type": "histogram2dcontour"
           }
          ],
          "mesh3d": [
           {
            "colorbar": {
             "outlinewidth": 0,
             "ticks": ""
            },
            "type": "mesh3d"
           }
          ],
          "parcoords": [
           {
            "line": {
             "colorbar": {
              "outlinewidth": 0,
              "ticks": ""
             }
            },
            "type": "parcoords"
           }
          ],
          "pie": [
           {
            "automargin": true,
            "type": "pie"
           }
          ],
          "scatter": [
           {
            "fillpattern": {
             "fillmode": "overlay",
             "size": 10,
             "solidity": 0.2
            },
            "type": "scatter"
           }
          ],
          "scatter3d": [
           {
            "line": {
             "colorbar": {
              "outlinewidth": 0,
              "ticks": ""
             }
            },
            "marker": {
             "colorbar": {
              "outlinewidth": 0,
              "ticks": ""
             }
            },
            "type": "scatter3d"
           }
          ],
          "scattercarpet": [
           {
            "marker": {
             "colorbar": {
              "outlinewidth": 0,
              "ticks": ""
             }
            },
            "type": "scattercarpet"
           }
          ],
          "scattergeo": [
           {
            "marker": {
             "colorbar": {
              "outlinewidth": 0,
              "ticks": ""
             }
            },
            "type": "scattergeo"
           }
          ],
          "scattergl": [
           {
            "marker": {
             "colorbar": {
              "outlinewidth": 0,
              "ticks": ""
             }
            },
            "type": "scattergl"
           }
          ],
          "scattermap": [
           {
            "marker": {
             "colorbar": {
              "outlinewidth": 0,
              "ticks": ""
             }
            },
            "type": "scattermap"
           }
          ],
          "scattermapbox": [
           {
            "marker": {
             "colorbar": {
              "outlinewidth": 0,
              "ticks": ""
             }
            },
            "type": "scattermapbox"
           }
          ],
          "scatterpolar": [
           {
            "marker": {
             "colorbar": {
              "outlinewidth": 0,
              "ticks": ""
             }
            },
            "type": "scatterpolar"
           }
          ],
          "scatterpolargl": [
           {
            "marker": {
             "colorbar": {
              "outlinewidth": 0,
              "ticks": ""
             }
            },
            "type": "scatterpolargl"
           }
          ],
          "scatterternary": [
           {
            "marker": {
             "colorbar": {
              "outlinewidth": 0,
              "ticks": ""
             }
            },
            "type": "scatterternary"
           }
          ],
          "surface": [
           {
            "colorbar": {
             "outlinewidth": 0,
             "ticks": ""
            },
            "colorscale": [
             [
              0,
              "#0d0887"
             ],
             [
              0.1111111111111111,
              "#46039f"
             ],
             [
              0.2222222222222222,
              "#7201a8"
             ],
             [
              0.3333333333333333,
              "#9c179e"
             ],
             [
              0.4444444444444444,
              "#bd3786"
             ],
             [
              0.5555555555555556,
              "#d8576b"
             ],
             [
              0.6666666666666666,
              "#ed7953"
             ],
             [
              0.7777777777777778,
              "#fb9f3a"
             ],
             [
              0.8888888888888888,
              "#fdca26"
             ],
             [
              1,
              "#f0f921"
             ]
            ],
            "type": "surface"
           }
          ],
          "table": [
           {
            "cells": {
             "fill": {
              "color": "#EBF0F8"
             },
             "line": {
              "color": "white"
             }
            },
            "header": {
             "fill": {
              "color": "#C8D4E3"
             },
             "line": {
              "color": "white"
             }
            },
            "type": "table"
           }
          ]
         },
         "layout": {
          "annotationdefaults": {
           "arrowcolor": "#2a3f5f",
           "arrowhead": 0,
           "arrowwidth": 1
          },
          "autotypenumbers": "strict",
          "coloraxis": {
           "colorbar": {
            "outlinewidth": 0,
            "ticks": ""
           }
          },
          "colorscale": {
           "diverging": [
            [
             0,
             "#8e0152"
            ],
            [
             0.1,
             "#c51b7d"
            ],
            [
             0.2,
             "#de77ae"
            ],
            [
             0.3,
             "#f1b6da"
            ],
            [
             0.4,
             "#fde0ef"
            ],
            [
             0.5,
             "#f7f7f7"
            ],
            [
             0.6,
             "#e6f5d0"
            ],
            [
             0.7,
             "#b8e186"
            ],
            [
             0.8,
             "#7fbc41"
            ],
            [
             0.9,
             "#4d9221"
            ],
            [
             1,
             "#276419"
            ]
           ],
           "sequential": [
            [
             0,
             "#0d0887"
            ],
            [
             0.1111111111111111,
             "#46039f"
            ],
            [
             0.2222222222222222,
             "#7201a8"
            ],
            [
             0.3333333333333333,
             "#9c179e"
            ],
            [
             0.4444444444444444,
             "#bd3786"
            ],
            [
             0.5555555555555556,
             "#d8576b"
            ],
            [
             0.6666666666666666,
             "#ed7953"
            ],
            [
             0.7777777777777778,
             "#fb9f3a"
            ],
            [
             0.8888888888888888,
             "#fdca26"
            ],
            [
             1,
             "#f0f921"
            ]
           ],
           "sequentialminus": [
            [
             0,
             "#0d0887"
            ],
            [
             0.1111111111111111,
             "#46039f"
            ],
            [
             0.2222222222222222,
             "#7201a8"
            ],
            [
             0.3333333333333333,
             "#9c179e"
            ],
            [
             0.4444444444444444,
             "#bd3786"
            ],
            [
             0.5555555555555556,
             "#d8576b"
            ],
            [
             0.6666666666666666,
             "#ed7953"
            ],
            [
             0.7777777777777778,
             "#fb9f3a"
            ],
            [
             0.8888888888888888,
             "#fdca26"
            ],
            [
             1,
             "#f0f921"
            ]
           ]
          },
          "colorway": [
           "#636efa",
           "#EF553B",
           "#00cc96",
           "#ab63fa",
           "#FFA15A",
           "#19d3f3",
           "#FF6692",
           "#B6E880",
           "#FF97FF",
           "#FECB52"
          ],
          "font": {
           "color": "#2a3f5f"
          },
          "geo": {
           "bgcolor": "white",
           "lakecolor": "white",
           "landcolor": "#E5ECF6",
           "showlakes": true,
           "showland": true,
           "subunitcolor": "white"
          },
          "hoverlabel": {
           "align": "left"
          },
          "hovermode": "closest",
          "mapbox": {
           "style": "light"
          },
          "paper_bgcolor": "white",
          "plot_bgcolor": "#E5ECF6",
          "polar": {
           "angularaxis": {
            "gridcolor": "white",
            "linecolor": "white",
            "ticks": ""
           },
           "bgcolor": "#E5ECF6",
           "radialaxis": {
            "gridcolor": "white",
            "linecolor": "white",
            "ticks": ""
           }
          },
          "scene": {
           "xaxis": {
            "backgroundcolor": "#E5ECF6",
            "gridcolor": "white",
            "gridwidth": 2,
            "linecolor": "white",
            "showbackground": true,
            "ticks": "",
            "zerolinecolor": "white"
           },
           "yaxis": {
            "backgroundcolor": "#E5ECF6",
            "gridcolor": "white",
            "gridwidth": 2,
            "linecolor": "white",
            "showbackground": true,
            "ticks": "",
            "zerolinecolor": "white"
           },
           "zaxis": {
            "backgroundcolor": "#E5ECF6",
            "gridcolor": "white",
            "gridwidth": 2,
            "linecolor": "white",
            "showbackground": true,
            "ticks": "",
            "zerolinecolor": "white"
           }
          },
          "shapedefaults": {
           "line": {
            "color": "#2a3f5f"
           }
          },
          "ternary": {
           "aaxis": {
            "gridcolor": "white",
            "linecolor": "white",
            "ticks": ""
           },
           "baxis": {
            "gridcolor": "white",
            "linecolor": "white",
            "ticks": ""
           },
           "bgcolor": "#E5ECF6",
           "caxis": {
            "gridcolor": "white",
            "linecolor": "white",
            "ticks": ""
           }
          },
          "title": {
           "x": 0.05
          },
          "xaxis": {
           "automargin": true,
           "gridcolor": "white",
           "linecolor": "white",
           "ticks": "",
           "title": {
            "standoff": 15
           },
           "zerolinecolor": "white",
           "zerolinewidth": 2
          },
          "yaxis": {
           "automargin": true,
           "gridcolor": "white",
           "linecolor": "white",
           "ticks": "",
           "title": {
            "standoff": 15
           },
           "zerolinecolor": "white",
           "zerolinewidth": 2
          }
         }
        }
       }
      }
     },
     "metadata": {},
     "output_type": "display_data"
    },
    {
     "name": "stdout",
     "output_type": "stream",
     "text": [
      "11\n"
     ]
    }
   ],
   "source": [
    "print(len(PLR(data, 3, show=True)))\n"
   ]
  },
  {
   "cell_type": "code",
   "execution_count": 26,
   "metadata": {},
   "outputs": [
    {
     "name": "stdout",
     "output_type": "stream",
     "text": [
      "15\n"
     ]
    }
   ],
   "source": [
    "print(len(PLR(data, 2, show=False)))"
   ]
  },
  {
   "cell_type": "code",
   "execution_count": null,
   "metadata": {},
   "outputs": [],
   "source": []
  }
 ],
 "metadata": {
  "kernelspec": {
   "display_name": "venv",
   "language": "python",
   "name": "python3"
  },
  "language_info": {
   "codemirror_mode": {
    "name": "ipython",
    "version": 3
   },
   "file_extension": ".py",
   "mimetype": "text/x-python",
   "name": "python",
   "nbconvert_exporter": "python",
   "pygments_lexer": "ipython3",
   "version": "3.11.9"
  }
 },
 "nbformat": 4,
 "nbformat_minor": 2
}
