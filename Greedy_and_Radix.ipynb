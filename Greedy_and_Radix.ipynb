{
 "cells": [
  {
   "cell_type": "code",
   "execution_count": 1,
   "metadata": {},
   "outputs": [],
   "source": [
    "import math\n",
    "import matplotlib.pyplot as plt\n",
    "import pandas as pd\n",
    "import time\n",
    "from tqdm.notebook import tqdm\n",
    "import os\n",
    "from pympler import asizeof"
   ]
  },
  {
   "cell_type": "code",
   "execution_count": 3,
   "metadata": {},
   "outputs": [
    {
     "name": "stdout",
     "output_type": "stream",
     "text": [
      "630112 [825491678, 1]\n"
     ]
    }
   ],
   "source": [
    "# scv=pd.read_csv('ratings.csv', index_col=False)  \n",
    "# keys=scv[\"timestamp\"]\n",
    "# sort_keys=keys.sort_values(axis=0).drop_duplicates()\n",
    "# sort_keys.reset_index(drop= True , inplace= True)\n",
    "\n",
    "scv=pd.read_csv(\"cinema.csv\", index_col=False)\n",
    "sort_keys=scv[\"timestamp\"]\n",
    "# import base36\n",
    "data=[[key,ind] for ind,key in enumerate(sort_keys)]\n",
    "\n",
    "print(len(data), data[1])"
   ]
  },
  {
   "cell_type": "code",
   "execution_count": 4,
   "metadata": {},
   "outputs": [],
   "source": [
    "class GreedySpline:\n",
    "    def __init__(self, error=10):\n",
    "        self.error=error\n",
    "        self.greedyspline=[]\n",
    "\n",
    "    def start(self,new_point):\n",
    "        self.tg_err_top=float(\"inf\")\n",
    "        self.tg_err_bot=float(\"-inf\")\n",
    "        self.greedyspline.append(new_point)\n",
    "        self.greedyspline.append(new_point)\n",
    "        self.last_point=new_point\n",
    "    \n",
    "    def tg(self, a,b,err=0):\n",
    "        return (a[1]+self.error*err-b[1])/(a[0]-b[0])\n",
    "        \n",
    "    def new_coridor (self,a,b):\n",
    "        self.tg_err_top=min(self.tg_err_top, self.tg(a,b,1))\n",
    "        self.tg_err_bot=max(self.tg_err_bot, self.tg(a,b,-1))\n",
    "        \n",
    "    def new_spline(self, new_point): \n",
    "        if not self.greedyspline:\n",
    "            self.start(new_point)\n",
    "            return\n",
    "        tg_new_point=self.tg(new_point,self.greedyspline[-2])\n",
    "        if tg_new_point<self.tg_err_top and tg_new_point>self.tg_err_bot:\n",
    "            self.new_coridor(new_point, self.greedyspline[-2])\n",
    "            self.greedyspline[-1]=new_point\n",
    "        else:\n",
    "            self.greedyspline.append(self.last_point)\n",
    "            self.tg_err_top=self.tg(new_point, self.greedyspline[-1],1)\n",
    "            self.tg_err_bot=self.tg(new_point, self.greedyspline[-1],-1)\n",
    "        self.last_point=new_point \n",
    "        \n",
    "        \n",
    "        \n",
    "    def load_data(self,data):\n",
    "        for i in data:\n",
    "            self.new_spline(i)\n",
    "    \n",
    "    def plot(self):\n",
    "        dataX=[]\n",
    "        dataY=[]\n",
    "        for i,j in  self.greedyspline:\n",
    "            dataX.append(i)\n",
    "            dataY.append(j)\n",
    "        plt.plot(dataX,dataY, marker='o', markersize=6)\n",
    "    \n",
    "        \n",
    "        \n",
    "    \n",
    "class RadixSpline:\n",
    "    def __init__(self,GreedySpline,bitcount):\n",
    "        self.bitcount=bitcount\n",
    "        self.greedyspline=GreedySpline.greedyspline\n",
    "        self.error=GreedySpline.error\n",
    "        self.radixspline=[None]*2**self.bitcount\n",
    "        self.bit_len=self.bit_lenght(self.greedyspline[-1][0])\n",
    "        # print(\"bit_len\",self.bit_len)\n",
    "        self.len_greedy=len(self.greedyspline)\n",
    "        self.not_prefics,self.mod=self.not_prefics_count()\n",
    "        self.move_right=self.bit_len-self.bitcount-self.not_prefics\n",
    "        # print(\"not_prefics\",self.not_prefics)\n",
    "        # print(\"mod\", self.mod)\n",
    "        # print(\"move_right\",self.move_right)\n",
    "        self.get_RadixSpline()\n",
    "        \n",
    "    def bit_lenght(self,n):\n",
    "        return(len(bin(n).lstrip('-0b')))\n",
    "    def not_prefics_count(self):\n",
    "        n=self.greedyspline[0][0]\n",
    "        count,pref=0,0\n",
    "        \n",
    "        if self.bit_lenght(n)==self.bit_len:\n",
    "            count=self.bit_len-self.bit_lenght(((1<<self.bit_len)-1)^n)\n",
    "        for i in range(count):\n",
    "            pref=(pref<<1)+1\n",
    "        pref<<=(self.bit_len-count)\n",
    "        return count,pref\n",
    "        \n",
    "        \n",
    "    \n",
    "    ##Способ построение радикс сплайна, нужно заменить\n",
    "    def first_bits(self,n):\n",
    "        if self.not_prefics:\n",
    "           n%=self.mod\n",
    "        #    print(n)\n",
    "        return n>>self.move_right\n",
    "    \n",
    "    def get_RadixSpline(self):\n",
    "        \n",
    "        for ind in range(len(self.greedyspline)):\n",
    "            temp=self.first_bits(self.greedyspline[ind][0])\n",
    "            # print(temp)\n",
    "            if not self.radixspline[temp]:\n",
    "                self.radixspline[temp]=ind\n",
    "        if  self.radixspline[2**self.bitcount-1]==None:\n",
    "             self.radixspline[2**self.bitcount-1]=len(self.greedyspline)-1\n",
    "        for i in range (2**self.bitcount-1,-1,-1):\n",
    "            if self.radixspline[i]==None:                \n",
    "                self.radixspline[i]=self.radixspline[i+1]\n",
    "        return self.radixspline\n",
    "    \n",
    "    def bin_search_spline(self,left,right,key):\n",
    "        while left<=right:\n",
    "            mid=(left+right)//2\n",
    "            if key>= self.greedyspline[mid][0] :\n",
    "                if key<=self.greedyspline[mid+1][0] :\n",
    "                   return [mid,mid+1]\n",
    "                else: \n",
    "                   left=mid+1\n",
    "            else:\n",
    "                right=mid-1\n",
    "\n",
    "\n",
    "    \n",
    "        \n",
    "    def give_answer(self,key):\n",
    "        first_bit=self.first_bits(key)\n",
    "        left=self.radixspline[first_bit]-1\n",
    "        if first_bit==len(self.radixspline)-1:\n",
    "            right=len(self.greedyspline)-1\n",
    "        else:\n",
    "            right=self.radixspline[first_bit+1]\n",
    "        # left=0\n",
    "        # right=len(self.greedyspline)-1\n",
    "        bin_ans=self.bin_search_spline(left,right,key)\n",
    "        kl,pl=self.greedyspline[bin_ans[0]]\n",
    "        kr,pr=self.greedyspline[bin_ans[1]]\n",
    "\n",
    "        return pl+(key-kl)*(pr-pl)//(kr-kl)\n",
    "    \n",
    "    def plot(self):\n",
    "        dataX=[]\n",
    "        dataY=[]\n",
    "        for i in  self.radixspline:\n",
    "            dataX.append(self.greedyspline[i][0])\n",
    "            dataY.append(self.greedyspline[i][1])\n",
    "        plt.plot(dataX,dataY, marker='o', markersize=15)"
   ]
  },
  {
   "cell_type": "code",
   "execution_count": 5,
   "metadata": {},
   "outputs": [],
   "source": [
    "def plot_data(data,error=0):\n",
    "    dataX=[]\n",
    "    errT=[]\n",
    "    errB=[]\n",
    "    dataY=[]\n",
    "    for i,j in  data:\n",
    "        dataX.append(i)\n",
    "        dataY.append(j)\n",
    "        if error:\n",
    "            errB.append(j-error)\n",
    "            errT.append(j+error)\n",
    "    plt.plot(dataX,dataY,marker='o', markersize=2)\n",
    "    print(data.__sizeof__())\n",
    "    if error:\n",
    "        plt.plot(dataX,errB,marker='o', markersize=2)\n",
    "        plt.plot(dataX,errT,marker='o', markersize=2)      \n",
    "\n",
    "def get_spline(data, ERR,bitcount ,plot=False): \n",
    "    G=GreedySpline(error=ERR)\n",
    "    G.load_data(data)\n",
    "    \n",
    "    # print(len(G.greedyspline)/len(data)) \n",
    "    R=RadixSpline(G, bitcount)\n",
    "    if plot:\n",
    "        R.plot()\n",
    "        G.plot()\n",
    "        plot_data(data)\n",
    "        plt.show()\n",
    "    return (G,R)"
   ]
  },
  {
   "cell_type": "code",
   "execution_count": 6,
   "metadata": {},
   "outputs": [],
   "source": [
    "# scv=pd.read_csv('amazon_com.csv', dtype={\"ASIN\":bytes}, index_col=False)  \n",
    "# keys=scv[\"ASIN\"]\n",
    "# sort_keys=keys.sort_values(axis=0).drop_duplicates()\n",
    "# sort_keys.reset_index(drop= True , inplace= True)\n",
    "# # sort_keys.to_csv(\"amazon.csv\")\n",
    "# sort_keys[1]\n",
    "# import base36\n",
    "# data=[[base36.loads(key),ind] for ind,key in enumerate(sort_keys)]\n",
    "# data=data"
   ]
  },
  {
   "cell_type": "code",
   "execution_count": 7,
   "metadata": {},
   "outputs": [],
   "source": [
    "def bin_search(data, key, left, right):\n",
    "    while left <= right:\n",
    "        mid = (left + right) // 2  # Находим середину массив\n",
    "        if data[mid][0] == key:  # Если целевое значение найдено\n",
    "            return mid\n",
    "        elif data[mid][0] < key:  # Если целевое значение справа\n",
    "            left = mid + 1\n",
    "        else:  # Если целевое значение слева\n",
    "            right = mid - 1\n",
    "    return -1  \n",
    "\n",
    "    \n",
    "def get_key(data, spline, key ):\n",
    "    radix_answer=spline[1].give_answer(key[0])\n",
    "    left=radix_answer-spline[0].error\n",
    "    right=radix_answer+spline[0].error\n",
    "    res=bin_search(data, key[0], max(left,data[0][1]),min(right, data[-1][1]))\n",
    "    # print(res)\n",
    "    if res!=key[1]: print (\"FAIL\", res, key, math.floor(left),math.ceil(right))\n",
    "    return res\n",
    "  \n",
    "def check_bin_search(data, key):\n",
    "    res=bin_search(data, key[0],data[0][1], data[-1][1])\n",
    "    if res!=key[1]: print (\"FAIL binsearch\")\n",
    "    return res"
   ]
  },
  {
   "cell_type": "markdown",
   "metadata": {},
   "source": [
    "## Тестирование сплайна"
   ]
  },
  {
   "cell_type": "markdown",
   "metadata": {},
   "source": [
    "создание одного"
   ]
  },
  {
   "cell_type": "code",
   "execution_count": 8,
   "metadata": {},
   "outputs": [],
   "source": [
    "bitcount=5\n",
    "error=2**14\n",
    "A=get_spline(data,16,20)"
   ]
  },
  {
   "cell_type": "markdown",
   "metadata": {},
   "source": [
    "Прогон, поиск всех ключей, для проверки приблизительного времени "
   ]
  },
  {
   "cell_type": "code",
   "execution_count": 9,
   "metadata": {},
   "outputs": [
    {
     "data": {
      "application/vnd.jupyter.widget-view+json": {
       "model_id": "7f3a3ea5efc6459195298126990d4b34",
       "version_major": 2,
       "version_minor": 0
      },
      "text/plain": [
       "  0%|          | 0/630112 [00:00<?, ?it/s]"
      ]
     },
     "metadata": {},
     "output_type": "display_data"
    }
   ],
   "source": [
    "for i in tqdm(data):\n",
    "    get_key(data,A,i)"
   ]
  },
  {
   "cell_type": "markdown",
   "metadata": {},
   "source": [
    "Сравнение с приблизительным временем бинпоиска"
   ]
  },
  {
   "cell_type": "code",
   "execution_count": 10,
   "metadata": {},
   "outputs": [
    {
     "data": {
      "application/vnd.jupyter.widget-view+json": {
       "model_id": "2033d7bb95b2417a9c148c58f9da613d",
       "version_major": 2,
       "version_minor": 0
      },
      "text/plain": [
       "  0%|          | 0/630112 [00:00<?, ?it/s]"
      ]
     },
     "metadata": {},
     "output_type": "display_data"
    }
   ],
   "source": [
    "for i in tqdm(data):\n",
    "    check_bin_search(data,i)"
   ]
  },
  {
   "cell_type": "markdown",
   "metadata": {},
   "source": [
    "Перебор ошибки, для проверки времени"
   ]
  },
  {
   "cell_type": "code",
   "execution_count": 23,
   "metadata": {},
   "outputs": [
    {
     "name": "stdout",
     "output_type": "stream",
     "text": [
      "i= 2\n",
      "gen 602.0 |search 1475.0 |greedy_size 46335 size(bytes)=  6703400\n",
      "______________\n",
      "i= 3\n",
      "gen 614.0 |search 1418.0 |greedy_size 26030 size(bytes)=  3765952\n",
      "______________\n",
      "i= 4\n",
      "gen 620.0 |search 1437.0 |greedy_size 15061 size(bytes)=  2176600\n",
      "______________\n",
      "i= 5\n",
      "gen 615.0 |search 1430.0 |greedy_size 8364 size(bytes)=  1211600\n",
      "______________\n",
      "i= 6\n",
      "gen 617.0 |search 1511.0 |greedy_size 4294 size(bytes)=  628032\n",
      "______________\n",
      "i= 7\n",
      "gen 643.0 |search 1519.0 |greedy_size 1938 size(bytes)=  286560\n",
      "______________\n",
      "i= 8\n",
      "gen 644.0 |search 1472.0 |greedy_size 786 size(bytes)=  120576\n",
      "______________\n",
      "i= 9\n",
      "gen 639.0 |search 1452.0 |greedy_size 297 size(bytes)=  49368\n",
      "______________\n",
      "i= 10\n",
      "gen 627.0 |search 1467.0 |greedy_size 100 size(bytes)=  20112\n",
      "______________\n",
      "i= 11\n",
      "gen 634.0 |search 1527.0 |greedy_size 40 size(bytes)=  10352\n",
      "______________\n",
      "i= 12\n",
      "gen 628.0 |search 1580.0 |greedy_size 19 size(bytes)=  6856\n",
      "______________\n",
      "i= 13\n",
      "gen 647.0 |search 1661.0 |greedy_size 10 size(bytes)=  5280\n",
      "______________\n",
      "i= 14\n",
      "gen 626.0 |search 1757.0 |greedy_size 7 size(bytes)=  4744\n",
      "______________\n",
      "i= 15\n",
      "gen 632.0 |search 1843.0 |greedy_size 4 size(bytes)=  4208\n",
      "______________\n",
      "i= 16\n",
      "gen 633.0 |search 1938.0 |greedy_size 3 size(bytes)=  4040\n",
      "______________\n",
      "i= 17\n",
      "gen 664.0 |search 2054.0 |greedy_size 2 size(bytes)=  3872\n",
      "______________\n",
      "i= 18\n",
      "gen 629.0 |search 2111.0 |greedy_size 2 size(bytes)=  3872\n",
      "______________\n"
     ]
    }
   ],
   "source": [
    "bitcount = 8\n",
    "for i in range(2,19):\n",
    "    print(\"i=\", i)\n",
    "    start1=time.time()\n",
    "    A=get_spline(data,2**i,bitcount)\n",
    "    end1 =time.time()\n",
    "    start2=time.time()\n",
    "    for j in data:\n",
    "        get_key(data,A,j)\n",
    "    end2=time.time()\n",
    "    print(\"gen\",(end1-start1)//0.001,\"|search\",(end2-start2)//0.001,\"|greedy_size\",A[1].len_greedy, \"size(bytes)= \", asizeof.asizeof(A) )\n",
    "    \n",
    "    print(\"_\"*14)\n",
    "    "
   ]
  },
  {
   "cell_type": "markdown",
   "metadata": {},
   "source": [
    "\"Эталонное\" время бинпоиска"
   ]
  },
  {
   "cell_type": "code",
   "execution_count": 24,
   "metadata": {},
   "outputs": [
    {
     "name": "stdout",
     "output_type": "stream",
     "text": [
      "1571.0\n"
     ]
    }
   ],
   "source": [
    "start2=time.time()\n",
    "for i in data:    \n",
    "    check_bin_search(data,i)\n",
    "end2=time.time()\n",
    "print((end2-start2)//0.001)"
   ]
  },
  {
   "cell_type": "markdown",
   "metadata": {},
   "source": [
    "Создание Фенс поинтов"
   ]
  },
  {
   "cell_type": "code",
   "execution_count": 26,
   "metadata": {},
   "outputs": [],
   "source": [
    "scv=pd.read_csv('rating.csv', index_col=False)  \n",
    "keys=scv[\"timestamp\"]\n",
    "sort_keys=keys.sort_values(axis=0).drop_duplicates()\n",
    "sort_keys.reset_index(drop= True , inplace= True)"
   ]
  },
  {
   "cell_type": "code",
   "execution_count": 27,
   "metadata": {},
   "outputs": [
    {
     "name": "stdout",
     "output_type": "stream",
     "text": [
      "32\n"
     ]
    }
   ],
   "source": [
    "case_size=4096\n",
    "len_points=os.path.getsize(\"rating.csv\")//case_size\n",
    "average_size=os.path.getsize(\"rating.csv\")//len(scv)\n",
    "points=[]\n",
    "print(average_size)\n",
    "for i in range (0,len(sort_keys),case_size//average_size ):\n",
    "    points.append(sort_keys[i])"
   ]
  },
  {
   "cell_type": "markdown",
   "metadata": {},
   "source": [
    "Отчет по используемой памяти"
   ]
  },
  {
   "cell_type": "code",
   "execution_count": 28,
   "metadata": {},
   "outputs": [
    {
     "name": "stdout",
     "output_type": "stream",
     "text": [
      "24760980        size ratings\n",
      "11786810        size cinema (обрезанный ratings)\n",
      "10947384   =  asize 16,20 \n",
      "10352   =  asize 2**11,8 \n",
      "199432      =asize points\n"
     ]
    }
   ],
   "source": [
    "print(os.path.getsize(\"rating.csv\"),\"       size ratings\")\n",
    "print(os.path.getsize(\"cinema.csv\"),\"       size cinema (обрезанный ratings)\")\n",
    "\n",
    "print( asizeof.asizeof(get_spline(data,16,20)), \"  =  asize 16,20 \")\n",
    "print( asizeof.asizeof(get_spline(data,2**11,8)),\"  =  asize 2**11,8 \")\n",
    "print(asizeof.asizeof(points), \"     =asize points\")"
   ]
  },
  {
   "cell_type": "code",
   "execution_count": null,
   "metadata": {},
   "outputs": [],
   "source": []
  }
 ],
 "metadata": {
  "kernelspec": {
   "display_name": "base",
   "language": "python",
   "name": "python3"
  },
  "language_info": {
   "codemirror_mode": {
    "name": "ipython",
    "version": 3
   },
   "file_extension": ".py",
   "mimetype": "text/x-python",
   "name": "python",
   "nbconvert_exporter": "python",
   "pygments_lexer": "ipython3",
   "version": "3.11.7"
  }
 },
 "nbformat": 4,
 "nbformat_minor": 2
}
