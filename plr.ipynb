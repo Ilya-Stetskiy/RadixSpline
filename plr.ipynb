{
 "cells": [
  {
   "cell_type": "code",
   "execution_count": 28,
   "metadata": {},
   "outputs": [],
   "source": [
    "import plotly.graph_objects as go\n",
    "import plotly.express as px\n",
    "from tqdm.notebook import tqdm"
   ]
  },
  {
   "cell_type": "code",
   "execution_count": 29,
   "metadata": {},
   "outputs": [],
   "source": [
    "def tg(left_point, right_point):\n",
    "    if left_point[0]==right_point[0]:\n",
    "        tg=float(\"inf\")*(-left_point[1]+right_point[1])\n",
    "    else:\n",
    "        tg=(left_point[1]-right_point[1])/(left_point[0]-right_point[0])\n",
    "    return tg\n"
   ]
  },
  {
   "cell_type": "code",
   "execution_count": 48,
   "metadata": {},
   "outputs": [],
   "source": [
    "\n",
    "        \n",
    "\n",
    "\n",
    "\n",
    "\n",
    "\n",
    "class One_Line:\n",
    "    def __init__ (self,start_point,err):\n",
    "        self.start_point=start_point\n",
    "        self.finish_point=start_point\n",
    "        # self.finish_point=[start_point[0]+1,start_point[1]+1]\n",
    "        self.err=err\n",
    "        self.points=[self.start_point,self.finish_point]\n",
    "        s_a,s_b=self.err_diapason(start_point)\n",
    "        s_d,s_c=self.err_diapason(self.finish_point)\n",
    "        self.pmin=tg(s_a,s_c)\n",
    "        self.pmax=tg(s_b,s_d)\n",
    "        self.cvx_top=[s_a]\n",
    "        self.cvx_bot=[s_b]\n",
    "        \n",
    "        # print(self.pmin, self.pmax)\n",
    "        \n",
    "    def err_diapason(self, point):\n",
    "        plus_err=[point[0],point[1]+self.err]\n",
    "        minus_err=[point[0],point[1]-self.err]\n",
    "        return plus_err,minus_err\n",
    "    \n",
    "    def check_not_outside(self, plus_err,minus_err):\n",
    "        return tg(self.cvx_top[0],minus_err)<=self.pmax and tg(self.cvx_bot[0],plus_err)>=self.pmin\n",
    "    \n",
    "    def show_spline(self, fig):\n",
    "        # step_right=1\n",
    "        # fig=go.Figure()\n",
    "        for i in self.points:\n",
    "            fig=self.plot_point(fig,i)\n",
    "        # fig=self.plot_line(fig,self.points, \"points\")\n",
    "        # for i in self.err_array(self.points):\n",
    "        #     fig=self.plot_line(fig,i, \"err\")\n",
    "        fig=self.plot_line(fig,[self.cvx_bot[0],self.cvx_top[-1]], \"p\")\n",
    "        fig=self.plot_line(fig,[self.cvx_top[0],self.cvx_bot[-1]], \"p\")\n",
    "        fig=self.plot_line(fig,[self.startLine,self.endLine], \"spline\")\n",
    "        # fig=self.plot_line(fig,[self.cvx_top[0],self.cvx_bot[-1]], \"p\")\n",
    "        # fig.show()\n",
    "        return fig\n",
    "        \n",
    "    def plot_point(self, fig, point):\n",
    "        plus_err,minus_err=self.err_diapason(point)\n",
    "        \n",
    "        # fig=px.scatter(self.points)\n",
    "        fig=self.plot_line(fig,[plus_err,point,minus_err],\"\",showlegend=False )\n",
    "        return fig\n",
    "        \n",
    "    \n",
    "    def plot_line(self, fig, line, name, showlegend=False):\n",
    "        x_=[]\n",
    "        y_=[]\n",
    "        for i in line:\n",
    "            x_.append(i[0])\n",
    "            y_.append(i[1])\n",
    "            \n",
    "        \n",
    "        # fig=px.scatter(self.points)\n",
    "        fig.add_trace(go.Scatter(x=x_,y=y_, name=name,showlegend=showlegend))\n",
    "        return fig\n",
    "        \n",
    "    def add_point(self,point):\n",
    "        plus_err,minus_err=self.err_diapason(point)\n",
    "        result=self.check_not_outside(plus_err,minus_err)\n",
    "        if result:\n",
    "            self.points.append(point)\n",
    "            self.add_top_err_point(plus_err)\n",
    "            self.add_bot_err_point(minus_err)\n",
    "            # print(plus_err,minus_err)\n",
    "            self.finish_point=point\n",
    "            \n",
    "            # print(self.pmin, self.pmax)\n",
    "            # print(self.cvx_bot)\n",
    "            # print(self.cvx_top)\n",
    "        else:\n",
    "            self.end_line()\n",
    "        return result\n",
    "    \n",
    "    \n",
    "    def end_line(self):\n",
    "        intersection_point=self.intersection_point()\n",
    "        if intersection_point!=None:\n",
    "                intersection_point=self.intersection_point()\n",
    "                p=(self.pmin+self.pmax)/2\n",
    "                self.startLine=self.point_on_line(intersection_point, p, self.start_point[0])\n",
    "                self.endLine=self.point_on_line(intersection_point, p, self.finish_point[0])\n",
    "        else:\n",
    "            self.startLine=self.endLine=self.start_point\n",
    "            \n",
    "    def point_on_line(self, intersection_point, p, target_x):\n",
    "        x0,y0=intersection_point\n",
    "        b = y0 - p * x0\n",
    "        y = p * target_x + b\n",
    "        return (target_x, y)\n",
    "            \n",
    "    def intersection_point(self):\n",
    "        x1, y1 = self.cvx_top[0]\n",
    "        x2, y2 = self.cvx_bot[-1]\n",
    "        x3, y3 = self.cvx_bot[0]\n",
    "        x4, y4 = self.cvx_top[-1]\n",
    "\n",
    "        # Вычисление знаменателя\n",
    "        denominator = (x1 - x2) * (y3 - y4) - (y1 - y2) * (x3 - x4)\n",
    "\n",
    "        # Если знаменатель равен 0, прямые параллельны или совпадают\n",
    "        if denominator == 0:\n",
    "            return None\n",
    "\n",
    "        # Вычисление числителей для x и y\n",
    "        x_numerator = (x1 * y2 - y1 * x2) * (x3 - x4) - (x1 - x2) * (x3 * y4 - y3 * x4)\n",
    "        y_numerator = (x1 * y2 - y1 * x2) * (y3 - y4) - (y1 - y2) * (x3 * y4 - y3 * x4)\n",
    "\n",
    "        # Нахождение координат точки пересечения\n",
    "        x = x_numerator / denominator\n",
    "        y = y_numerator / denominator\n",
    "\n",
    "        return (x, y)\n",
    "   \n",
    "    def add_bot_err_point(self, new_point_bot_err):\n",
    "        \n",
    "        if tg(self.cvx_top[0], new_point_bot_err)> self.pmin:\n",
    "            \n",
    "            temp_pmin=tg(self.cvx_top[0], new_point_bot_err)\n",
    "            ln=len(self.cvx_top)\n",
    "            while ln>1 and tg(self.cvx_top[1], new_point_bot_err)> temp_pmin:\n",
    "                temp_pmin=tg(self.cvx_top[1], new_point_bot_err)\n",
    "                self.cvx_top.pop(0)\n",
    "                ln-=1\n",
    "            self.pmin=temp_pmin\n",
    "            \n",
    "        ln=len(self.cvx_bot)\n",
    "        last_p=tg(self.cvx_bot[-1], new_point_bot_err)\n",
    "        while ln>1 and tg(self.cvx_bot[-2], new_point_bot_err)< last_p:\n",
    "            last_p=tg(self.cvx_bot[-2], new_point_bot_err)\n",
    "            self.cvx_bot.pop()\n",
    "            ln-=1\n",
    "        self.cvx_bot.append(new_point_bot_err)\n",
    "            \n",
    "    def add_top_err_point(self, new_point_top_err):\n",
    "        \n",
    "        if tg(self.cvx_bot[0], new_point_top_err)< self.pmax:\n",
    "            temp_pmax=tg(self.cvx_bot[0], new_point_top_err)\n",
    "            ln=len(self.cvx_bot)\n",
    "            # print(self.cvx_bot)\n",
    "            while  ln>1 and tg(self.cvx_bot[1], new_point_top_err)< temp_pmax:\n",
    "                temp_pmax=tg(self.cvx_bot[1], new_point_top_err)\n",
    "                self.cvx_bot.pop(0)\n",
    "                ln-=1\n",
    "            self.pmax=temp_pmax\n",
    "        ln=len(self.cvx_top)    \n",
    "        last_p=tg(self.cvx_top[-1], new_point_top_err)\n",
    "        while  ln>1 and tg(self.cvx_top[-2], new_point_top_err)> last_p:\n",
    "            last_p=tg(self.cvx_top[-2], new_point_top_err)\n",
    "            self.cvx_top.pop()\n",
    "            ln-=1\n",
    "        self.cvx_top.append(new_point_top_err)\n",
    "            # print(self.cvx_bot)\n",
    "            # print(self.cvx_top)\n",
    "        "
   ]
  },
  {
   "cell_type": "code",
   "execution_count": 49,
   "metadata": {},
   "outputs": [],
   "source": [
    "def PLR(data, err, show=False):\n",
    "    line=One_Line(data[0],err=err)\n",
    "    PLRSpline=[]\n",
    "    fig=go.Figure()\n",
    "    for i in data[1:]:\n",
    "        if not line.add_point(i):\n",
    "            # print(\"New_line\")\n",
    "            if show: \n",
    "                fig=line.show_spline(fig)\n",
    "            PLRSpline.append([line.startLine, line.endLine])\n",
    "            line=One_Line(i,err=err)\n",
    "    line.end_line()\n",
    "    PLRSpline.append([line.startLine, line.endLine])\n",
    "    if show: \n",
    "        fig=line.show_spline(fig)\n",
    "        fig.show()\n",
    "    return PLRSpline\n",
    "            "
   ]
  },
  {
   "cell_type": "code",
   "execution_count": 50,
   "metadata": {},
   "outputs": [],
   "source": [
    "data=[ [i,i**2] for i in range (100)]"
   ]
  },
  {
   "cell_type": "code",
   "execution_count": 51,
   "metadata": {},
   "outputs": [
    {
     "data": {
      "application/vnd.plotly.v1+json": {
       "config": {
        "plotlyServerURL": "https://plot.ly"
       },
       "data": [
        {
         "name": "",
         "showlegend": false,
         "type": "scatter",
         "x": [
          0,
          0,
          0
         ],
         "y": [
          100,
          0,
          -100
         ]
        },
        {
         "name": "",
         "showlegend": false,
         "type": "scatter",
         "x": [
          0,
          0,
          0
         ],
         "y": [
          100,
          0,
          -100
         ]
        },
        {
         "name": "",
         "showlegend": false,
         "type": "scatter",
         "x": [
          1,
          1,
          1
         ],
         "y": [
          101,
          1,
          -99
         ]
        },
        {
         "name": "",
         "showlegend": false,
         "type": "scatter",
         "x": [
          2,
          2,
          2
         ],
         "y": [
          104,
          4,
          -96
         ]
        },
        {
         "name": "",
         "showlegend": false,
         "type": "scatter",
         "x": [
          3,
          3,
          3
         ],
         "y": [
          109,
          9,
          -91
         ]
        },
        {
         "name": "",
         "showlegend": false,
         "type": "scatter",
         "x": [
          4,
          4,
          4
         ],
         "y": [
          116,
          16,
          -84
         ]
        },
        {
         "name": "",
         "showlegend": false,
         "type": "scatter",
         "x": [
          5,
          5,
          5
         ],
         "y": [
          125,
          25,
          -75
         ]
        },
        {
         "name": "",
         "showlegend": false,
         "type": "scatter",
         "x": [
          6,
          6,
          6
         ],
         "y": [
          136,
          36,
          -64
         ]
        },
        {
         "name": "",
         "showlegend": false,
         "type": "scatter",
         "x": [
          7,
          7,
          7
         ],
         "y": [
          149,
          49,
          -51
         ]
        },
        {
         "name": "",
         "showlegend": false,
         "type": "scatter",
         "x": [
          8,
          8,
          8
         ],
         "y": [
          164,
          64,
          -36
         ]
        },
        {
         "name": "",
         "showlegend": false,
         "type": "scatter",
         "x": [
          9,
          9,
          9
         ],
         "y": [
          181,
          81,
          -19
         ]
        },
        {
         "name": "",
         "showlegend": false,
         "type": "scatter",
         "x": [
          10,
          10,
          10
         ],
         "y": [
          200,
          100,
          0
         ]
        },
        {
         "name": "",
         "showlegend": false,
         "type": "scatter",
         "x": [
          11,
          11,
          11
         ],
         "y": [
          221,
          121,
          21
         ]
        },
        {
         "name": "",
         "showlegend": false,
         "type": "scatter",
         "x": [
          12,
          12,
          12
         ],
         "y": [
          244,
          144,
          44
         ]
        },
        {
         "name": "",
         "showlegend": false,
         "type": "scatter",
         "x": [
          13,
          13,
          13
         ],
         "y": [
          269,
          169,
          69
         ]
        },
        {
         "name": "",
         "showlegend": false,
         "type": "scatter",
         "x": [
          14,
          14,
          14
         ],
         "y": [
          296,
          196,
          96
         ]
        },
        {
         "name": "",
         "showlegend": false,
         "type": "scatter",
         "x": [
          15,
          15,
          15
         ],
         "y": [
          325,
          225,
          125
         ]
        },
        {
         "name": "",
         "showlegend": false,
         "type": "scatter",
         "x": [
          16,
          16,
          16
         ],
         "y": [
          356,
          256,
          156
         ]
        },
        {
         "name": "",
         "showlegend": false,
         "type": "scatter",
         "x": [
          17,
          17,
          17
         ],
         "y": [
          389,
          289,
          189
         ]
        },
        {
         "name": "",
         "showlegend": false,
         "type": "scatter",
         "x": [
          18,
          18,
          18
         ],
         "y": [
          424,
          324,
          224
         ]
        },
        {
         "name": "",
         "showlegend": false,
         "type": "scatter",
         "x": [
          19,
          19,
          19
         ],
         "y": [
          461,
          361,
          261
         ]
        },
        {
         "name": "",
         "showlegend": false,
         "type": "scatter",
         "x": [
          20,
          20,
          20
         ],
         "y": [
          500,
          400,
          300
         ]
        },
        {
         "name": "",
         "showlegend": false,
         "type": "scatter",
         "x": [
          21,
          21,
          21
         ],
         "y": [
          541,
          441,
          341
         ]
        },
        {
         "name": "",
         "showlegend": false,
         "type": "scatter",
         "x": [
          22,
          22,
          22
         ],
         "y": [
          584,
          484,
          384
         ]
        },
        {
         "name": "",
         "showlegend": false,
         "type": "scatter",
         "x": [
          23,
          23,
          23
         ],
         "y": [
          629,
          529,
          429
         ]
        },
        {
         "name": "",
         "showlegend": false,
         "type": "scatter",
         "x": [
          24,
          24,
          24
         ],
         "y": [
          676,
          576,
          476
         ]
        },
        {
         "name": "",
         "showlegend": false,
         "type": "scatter",
         "x": [
          25,
          25,
          25
         ],
         "y": [
          725,
          625,
          525
         ]
        },
        {
         "name": "",
         "showlegend": false,
         "type": "scatter",
         "x": [
          26,
          26,
          26
         ],
         "y": [
          776,
          676,
          576
         ]
        },
        {
         "name": "",
         "showlegend": false,
         "type": "scatter",
         "x": [
          27,
          27,
          27
         ],
         "y": [
          829,
          729,
          629
         ]
        },
        {
         "name": "",
         "showlegend": false,
         "type": "scatter",
         "x": [
          28,
          28,
          28
         ],
         "y": [
          884,
          784,
          684
         ]
        },
        {
         "name": "p",
         "showlegend": false,
         "type": "scatter",
         "x": [
          0,
          28
         ],
         "y": [
          -100,
          884
         ]
        },
        {
         "name": "p",
         "showlegend": false,
         "type": "scatter",
         "x": [
          14,
          28
         ],
         "y": [
          296,
          684
         ]
        },
        {
         "name": "spline",
         "showlegend": false,
         "type": "scatter",
         "x": [
          0,
          28
         ],
         "y": [
          -92.3076923076923,
          691.6923076923077
         ]
        },
        {
         "name": "",
         "showlegend": false,
         "type": "scatter",
         "x": [
          29,
          29,
          29
         ],
         "y": [
          941,
          841,
          741
         ]
        },
        {
         "name": "",
         "showlegend": false,
         "type": "scatter",
         "x": [
          29,
          29,
          29
         ],
         "y": [
          941,
          841,
          741
         ]
        },
        {
         "name": "",
         "showlegend": false,
         "type": "scatter",
         "x": [
          30,
          30,
          30
         ],
         "y": [
          1000,
          900,
          800
         ]
        },
        {
         "name": "",
         "showlegend": false,
         "type": "scatter",
         "x": [
          31,
          31,
          31
         ],
         "y": [
          1061,
          961,
          861
         ]
        },
        {
         "name": "",
         "showlegend": false,
         "type": "scatter",
         "x": [
          32,
          32,
          32
         ],
         "y": [
          1124,
          1024,
          924
         ]
        },
        {
         "name": "",
         "showlegend": false,
         "type": "scatter",
         "x": [
          33,
          33,
          33
         ],
         "y": [
          1189,
          1089,
          989
         ]
        },
        {
         "name": "",
         "showlegend": false,
         "type": "scatter",
         "x": [
          34,
          34,
          34
         ],
         "y": [
          1256,
          1156,
          1056
         ]
        },
        {
         "name": "",
         "showlegend": false,
         "type": "scatter",
         "x": [
          35,
          35,
          35
         ],
         "y": [
          1325,
          1225,
          1125
         ]
        },
        {
         "name": "",
         "showlegend": false,
         "type": "scatter",
         "x": [
          36,
          36,
          36
         ],
         "y": [
          1396,
          1296,
          1196
         ]
        },
        {
         "name": "",
         "showlegend": false,
         "type": "scatter",
         "x": [
          37,
          37,
          37
         ],
         "y": [
          1469,
          1369,
          1269
         ]
        },
        {
         "name": "",
         "showlegend": false,
         "type": "scatter",
         "x": [
          38,
          38,
          38
         ],
         "y": [
          1544,
          1444,
          1344
         ]
        },
        {
         "name": "",
         "showlegend": false,
         "type": "scatter",
         "x": [
          39,
          39,
          39
         ],
         "y": [
          1621,
          1521,
          1421
         ]
        },
        {
         "name": "",
         "showlegend": false,
         "type": "scatter",
         "x": [
          40,
          40,
          40
         ],
         "y": [
          1700,
          1600,
          1500
         ]
        },
        {
         "name": "",
         "showlegend": false,
         "type": "scatter",
         "x": [
          41,
          41,
          41
         ],
         "y": [
          1781,
          1681,
          1581
         ]
        },
        {
         "name": "",
         "showlegend": false,
         "type": "scatter",
         "x": [
          42,
          42,
          42
         ],
         "y": [
          1864,
          1764,
          1664
         ]
        },
        {
         "name": "",
         "showlegend": false,
         "type": "scatter",
         "x": [
          43,
          43,
          43
         ],
         "y": [
          1949,
          1849,
          1749
         ]
        },
        {
         "name": "",
         "showlegend": false,
         "type": "scatter",
         "x": [
          44,
          44,
          44
         ],
         "y": [
          2036,
          1936,
          1836
         ]
        },
        {
         "name": "",
         "showlegend": false,
         "type": "scatter",
         "x": [
          45,
          45,
          45
         ],
         "y": [
          2125,
          2025,
          1925
         ]
        },
        {
         "name": "",
         "showlegend": false,
         "type": "scatter",
         "x": [
          46,
          46,
          46
         ],
         "y": [
          2216,
          2116,
          2016
         ]
        },
        {
         "name": "",
         "showlegend": false,
         "type": "scatter",
         "x": [
          47,
          47,
          47
         ],
         "y": [
          2309,
          2209,
          2109
         ]
        },
        {
         "name": "",
         "showlegend": false,
         "type": "scatter",
         "x": [
          48,
          48,
          48
         ],
         "y": [
          2404,
          2304,
          2204
         ]
        },
        {
         "name": "",
         "showlegend": false,
         "type": "scatter",
         "x": [
          49,
          49,
          49
         ],
         "y": [
          2501,
          2401,
          2301
         ]
        },
        {
         "name": "",
         "showlegend": false,
         "type": "scatter",
         "x": [
          50,
          50,
          50
         ],
         "y": [
          2600,
          2500,
          2400
         ]
        },
        {
         "name": "",
         "showlegend": false,
         "type": "scatter",
         "x": [
          51,
          51,
          51
         ],
         "y": [
          2701,
          2601,
          2501
         ]
        },
        {
         "name": "",
         "showlegend": false,
         "type": "scatter",
         "x": [
          52,
          52,
          52
         ],
         "y": [
          2804,
          2704,
          2604
         ]
        },
        {
         "name": "",
         "showlegend": false,
         "type": "scatter",
         "x": [
          53,
          53,
          53
         ],
         "y": [
          2909,
          2809,
          2709
         ]
        },
        {
         "name": "",
         "showlegend": false,
         "type": "scatter",
         "x": [
          54,
          54,
          54
         ],
         "y": [
          3016,
          2916,
          2816
         ]
        },
        {
         "name": "",
         "showlegend": false,
         "type": "scatter",
         "x": [
          55,
          55,
          55
         ],
         "y": [
          3125,
          3025,
          2925
         ]
        },
        {
         "name": "",
         "showlegend": false,
         "type": "scatter",
         "x": [
          56,
          56,
          56
         ],
         "y": [
          3236,
          3136,
          3036
         ]
        },
        {
         "name": "",
         "showlegend": false,
         "type": "scatter",
         "x": [
          57,
          57,
          57
         ],
         "y": [
          3349,
          3249,
          3149
         ]
        },
        {
         "name": "p",
         "showlegend": false,
         "type": "scatter",
         "x": [
          29,
          57
         ],
         "y": [
          741,
          3349
         ]
        },
        {
         "name": "p",
         "showlegend": false,
         "type": "scatter",
         "x": [
          43,
          57
         ],
         "y": [
          1949,
          3149
         ]
        },
        {
         "name": "spline",
         "showlegend": false,
         "type": "scatter",
         "x": [
          29,
          57
         ],
         "y": [
          748.6923076923076,
          3156.6923076923076
         ]
        },
        {
         "name": "",
         "showlegend": false,
         "type": "scatter",
         "x": [
          58,
          58,
          58
         ],
         "y": [
          3464,
          3364,
          3264
         ]
        },
        {
         "name": "",
         "showlegend": false,
         "type": "scatter",
         "x": [
          58,
          58,
          58
         ],
         "y": [
          3464,
          3364,
          3264
         ]
        },
        {
         "name": "",
         "showlegend": false,
         "type": "scatter",
         "x": [
          59,
          59,
          59
         ],
         "y": [
          3581,
          3481,
          3381
         ]
        },
        {
         "name": "",
         "showlegend": false,
         "type": "scatter",
         "x": [
          60,
          60,
          60
         ],
         "y": [
          3700,
          3600,
          3500
         ]
        },
        {
         "name": "",
         "showlegend": false,
         "type": "scatter",
         "x": [
          61,
          61,
          61
         ],
         "y": [
          3821,
          3721,
          3621
         ]
        },
        {
         "name": "",
         "showlegend": false,
         "type": "scatter",
         "x": [
          62,
          62,
          62
         ],
         "y": [
          3944,
          3844,
          3744
         ]
        },
        {
         "name": "",
         "showlegend": false,
         "type": "scatter",
         "x": [
          63,
          63,
          63
         ],
         "y": [
          4069,
          3969,
          3869
         ]
        },
        {
         "name": "",
         "showlegend": false,
         "type": "scatter",
         "x": [
          64,
          64,
          64
         ],
         "y": [
          4196,
          4096,
          3996
         ]
        },
        {
         "name": "",
         "showlegend": false,
         "type": "scatter",
         "x": [
          65,
          65,
          65
         ],
         "y": [
          4325,
          4225,
          4125
         ]
        },
        {
         "name": "",
         "showlegend": false,
         "type": "scatter",
         "x": [
          66,
          66,
          66
         ],
         "y": [
          4456,
          4356,
          4256
         ]
        },
        {
         "name": "",
         "showlegend": false,
         "type": "scatter",
         "x": [
          67,
          67,
          67
         ],
         "y": [
          4589,
          4489,
          4389
         ]
        },
        {
         "name": "",
         "showlegend": false,
         "type": "scatter",
         "x": [
          68,
          68,
          68
         ],
         "y": [
          4724,
          4624,
          4524
         ]
        },
        {
         "name": "",
         "showlegend": false,
         "type": "scatter",
         "x": [
          69,
          69,
          69
         ],
         "y": [
          4861,
          4761,
          4661
         ]
        },
        {
         "name": "",
         "showlegend": false,
         "type": "scatter",
         "x": [
          70,
          70,
          70
         ],
         "y": [
          5000,
          4900,
          4800
         ]
        },
        {
         "name": "",
         "showlegend": false,
         "type": "scatter",
         "x": [
          71,
          71,
          71
         ],
         "y": [
          5141,
          5041,
          4941
         ]
        },
        {
         "name": "",
         "showlegend": false,
         "type": "scatter",
         "x": [
          72,
          72,
          72
         ],
         "y": [
          5284,
          5184,
          5084
         ]
        },
        {
         "name": "",
         "showlegend": false,
         "type": "scatter",
         "x": [
          73,
          73,
          73
         ],
         "y": [
          5429,
          5329,
          5229
         ]
        },
        {
         "name": "",
         "showlegend": false,
         "type": "scatter",
         "x": [
          74,
          74,
          74
         ],
         "y": [
          5576,
          5476,
          5376
         ]
        },
        {
         "name": "",
         "showlegend": false,
         "type": "scatter",
         "x": [
          75,
          75,
          75
         ],
         "y": [
          5725,
          5625,
          5525
         ]
        },
        {
         "name": "",
         "showlegend": false,
         "type": "scatter",
         "x": [
          76,
          76,
          76
         ],
         "y": [
          5876,
          5776,
          5676
         ]
        },
        {
         "name": "",
         "showlegend": false,
         "type": "scatter",
         "x": [
          77,
          77,
          77
         ],
         "y": [
          6029,
          5929,
          5829
         ]
        },
        {
         "name": "",
         "showlegend": false,
         "type": "scatter",
         "x": [
          78,
          78,
          78
         ],
         "y": [
          6184,
          6084,
          5984
         ]
        },
        {
         "name": "",
         "showlegend": false,
         "type": "scatter",
         "x": [
          79,
          79,
          79
         ],
         "y": [
          6341,
          6241,
          6141
         ]
        },
        {
         "name": "",
         "showlegend": false,
         "type": "scatter",
         "x": [
          80,
          80,
          80
         ],
         "y": [
          6500,
          6400,
          6300
         ]
        },
        {
         "name": "",
         "showlegend": false,
         "type": "scatter",
         "x": [
          81,
          81,
          81
         ],
         "y": [
          6661,
          6561,
          6461
         ]
        },
        {
         "name": "",
         "showlegend": false,
         "type": "scatter",
         "x": [
          82,
          82,
          82
         ],
         "y": [
          6824,
          6724,
          6624
         ]
        },
        {
         "name": "",
         "showlegend": false,
         "type": "scatter",
         "x": [
          83,
          83,
          83
         ],
         "y": [
          6989,
          6889,
          6789
         ]
        },
        {
         "name": "",
         "showlegend": false,
         "type": "scatter",
         "x": [
          84,
          84,
          84
         ],
         "y": [
          7156,
          7056,
          6956
         ]
        },
        {
         "name": "",
         "showlegend": false,
         "type": "scatter",
         "x": [
          85,
          85,
          85
         ],
         "y": [
          7325,
          7225,
          7125
         ]
        },
        {
         "name": "",
         "showlegend": false,
         "type": "scatter",
         "x": [
          86,
          86,
          86
         ],
         "y": [
          7496,
          7396,
          7296
         ]
        },
        {
         "name": "p",
         "showlegend": false,
         "type": "scatter",
         "x": [
          58,
          86
         ],
         "y": [
          3264,
          7496
         ]
        },
        {
         "name": "p",
         "showlegend": false,
         "type": "scatter",
         "x": [
          72,
          86
         ],
         "y": [
          5284,
          7296
         ]
        },
        {
         "name": "spline",
         "showlegend": false,
         "type": "scatter",
         "x": [
          58,
          86
         ],
         "y": [
          3271.6923076923067,
          7303.692307692307
         ]
        },
        {
         "name": "",
         "showlegend": false,
         "type": "scatter",
         "x": [
          87,
          87,
          87
         ],
         "y": [
          7669,
          7569,
          7469
         ]
        },
        {
         "name": "",
         "showlegend": false,
         "type": "scatter",
         "x": [
          87,
          87,
          87
         ],
         "y": [
          7669,
          7569,
          7469
         ]
        },
        {
         "name": "",
         "showlegend": false,
         "type": "scatter",
         "x": [
          88,
          88,
          88
         ],
         "y": [
          7844,
          7744,
          7644
         ]
        },
        {
         "name": "",
         "showlegend": false,
         "type": "scatter",
         "x": [
          89,
          89,
          89
         ],
         "y": [
          8021,
          7921,
          7821
         ]
        },
        {
         "name": "",
         "showlegend": false,
         "type": "scatter",
         "x": [
          90,
          90,
          90
         ],
         "y": [
          8200,
          8100,
          8000
         ]
        },
        {
         "name": "",
         "showlegend": false,
         "type": "scatter",
         "x": [
          91,
          91,
          91
         ],
         "y": [
          8381,
          8281,
          8181
         ]
        },
        {
         "name": "",
         "showlegend": false,
         "type": "scatter",
         "x": [
          92,
          92,
          92
         ],
         "y": [
          8564,
          8464,
          8364
         ]
        },
        {
         "name": "",
         "showlegend": false,
         "type": "scatter",
         "x": [
          93,
          93,
          93
         ],
         "y": [
          8749,
          8649,
          8549
         ]
        },
        {
         "name": "",
         "showlegend": false,
         "type": "scatter",
         "x": [
          94,
          94,
          94
         ],
         "y": [
          8936,
          8836,
          8736
         ]
        },
        {
         "name": "",
         "showlegend": false,
         "type": "scatter",
         "x": [
          95,
          95,
          95
         ],
         "y": [
          9125,
          9025,
          8925
         ]
        },
        {
         "name": "",
         "showlegend": false,
         "type": "scatter",
         "x": [
          96,
          96,
          96
         ],
         "y": [
          9316,
          9216,
          9116
         ]
        },
        {
         "name": "",
         "showlegend": false,
         "type": "scatter",
         "x": [
          97,
          97,
          97
         ],
         "y": [
          9509,
          9409,
          9309
         ]
        },
        {
         "name": "",
         "showlegend": false,
         "type": "scatter",
         "x": [
          98,
          98,
          98
         ],
         "y": [
          9704,
          9604,
          9504
         ]
        },
        {
         "name": "",
         "showlegend": false,
         "type": "scatter",
         "x": [
          99,
          99,
          99
         ],
         "y": [
          9901,
          9801,
          9701
         ]
        },
        {
         "name": "p",
         "showlegend": false,
         "type": "scatter",
         "x": [
          87,
          99
         ],
         "y": [
          7469,
          9901
         ]
        },
        {
         "name": "p",
         "showlegend": false,
         "type": "scatter",
         "x": [
          87,
          99
         ],
         "y": [
          7669,
          9701
         ]
        },
        {
         "name": "spline",
         "showlegend": false,
         "type": "scatter",
         "x": [
          87,
          99
         ],
         "y": [
          7569,
          9801
         ]
        }
       ],
       "layout": {
        "template": {
         "data": {
          "bar": [
           {
            "error_x": {
             "color": "#2a3f5f"
            },
            "error_y": {
             "color": "#2a3f5f"
            },
            "marker": {
             "line": {
              "color": "#E5ECF6",
              "width": 0.5
             },
             "pattern": {
              "fillmode": "overlay",
              "size": 10,
              "solidity": 0.2
             }
            },
            "type": "bar"
           }
          ],
          "barpolar": [
           {
            "marker": {
             "line": {
              "color": "#E5ECF6",
              "width": 0.5
             },
             "pattern": {
              "fillmode": "overlay",
              "size": 10,
              "solidity": 0.2
             }
            },
            "type": "barpolar"
           }
          ],
          "carpet": [
           {
            "aaxis": {
             "endlinecolor": "#2a3f5f",
             "gridcolor": "white",
             "linecolor": "white",
             "minorgridcolor": "white",
             "startlinecolor": "#2a3f5f"
            },
            "baxis": {
             "endlinecolor": "#2a3f5f",
             "gridcolor": "white",
             "linecolor": "white",
             "minorgridcolor": "white",
             "startlinecolor": "#2a3f5f"
            },
            "type": "carpet"
           }
          ],
          "choropleth": [
           {
            "colorbar": {
             "outlinewidth": 0,
             "ticks": ""
            },
            "type": "choropleth"
           }
          ],
          "contour": [
           {
            "colorbar": {
             "outlinewidth": 0,
             "ticks": ""
            },
            "colorscale": [
             [
              0,
              "#0d0887"
             ],
             [
              0.1111111111111111,
              "#46039f"
             ],
             [
              0.2222222222222222,
              "#7201a8"
             ],
             [
              0.3333333333333333,
              "#9c179e"
             ],
             [
              0.4444444444444444,
              "#bd3786"
             ],
             [
              0.5555555555555556,
              "#d8576b"
             ],
             [
              0.6666666666666666,
              "#ed7953"
             ],
             [
              0.7777777777777778,
              "#fb9f3a"
             ],
             [
              0.8888888888888888,
              "#fdca26"
             ],
             [
              1,
              "#f0f921"
             ]
            ],
            "type": "contour"
           }
          ],
          "contourcarpet": [
           {
            "colorbar": {
             "outlinewidth": 0,
             "ticks": ""
            },
            "type": "contourcarpet"
           }
          ],
          "heatmap": [
           {
            "colorbar": {
             "outlinewidth": 0,
             "ticks": ""
            },
            "colorscale": [
             [
              0,
              "#0d0887"
             ],
             [
              0.1111111111111111,
              "#46039f"
             ],
             [
              0.2222222222222222,
              "#7201a8"
             ],
             [
              0.3333333333333333,
              "#9c179e"
             ],
             [
              0.4444444444444444,
              "#bd3786"
             ],
             [
              0.5555555555555556,
              "#d8576b"
             ],
             [
              0.6666666666666666,
              "#ed7953"
             ],
             [
              0.7777777777777778,
              "#fb9f3a"
             ],
             [
              0.8888888888888888,
              "#fdca26"
             ],
             [
              1,
              "#f0f921"
             ]
            ],
            "type": "heatmap"
           }
          ],
          "heatmapgl": [
           {
            "colorbar": {
             "outlinewidth": 0,
             "ticks": ""
            },
            "colorscale": [
             [
              0,
              "#0d0887"
             ],
             [
              0.1111111111111111,
              "#46039f"
             ],
             [
              0.2222222222222222,
              "#7201a8"
             ],
             [
              0.3333333333333333,
              "#9c179e"
             ],
             [
              0.4444444444444444,
              "#bd3786"
             ],
             [
              0.5555555555555556,
              "#d8576b"
             ],
             [
              0.6666666666666666,
              "#ed7953"
             ],
             [
              0.7777777777777778,
              "#fb9f3a"
             ],
             [
              0.8888888888888888,
              "#fdca26"
             ],
             [
              1,
              "#f0f921"
             ]
            ],
            "type": "heatmapgl"
           }
          ],
          "histogram": [
           {
            "marker": {
             "pattern": {
              "fillmode": "overlay",
              "size": 10,
              "solidity": 0.2
             }
            },
            "type": "histogram"
           }
          ],
          "histogram2d": [
           {
            "colorbar": {
             "outlinewidth": 0,
             "ticks": ""
            },
            "colorscale": [
             [
              0,
              "#0d0887"
             ],
             [
              0.1111111111111111,
              "#46039f"
             ],
             [
              0.2222222222222222,
              "#7201a8"
             ],
             [
              0.3333333333333333,
              "#9c179e"
             ],
             [
              0.4444444444444444,
              "#bd3786"
             ],
             [
              0.5555555555555556,
              "#d8576b"
             ],
             [
              0.6666666666666666,
              "#ed7953"
             ],
             [
              0.7777777777777778,
              "#fb9f3a"
             ],
             [
              0.8888888888888888,
              "#fdca26"
             ],
             [
              1,
              "#f0f921"
             ]
            ],
            "type": "histogram2d"
           }
          ],
          "histogram2dcontour": [
           {
            "colorbar": {
             "outlinewidth": 0,
             "ticks": ""
            },
            "colorscale": [
             [
              0,
              "#0d0887"
             ],
             [
              0.1111111111111111,
              "#46039f"
             ],
             [
              0.2222222222222222,
              "#7201a8"
             ],
             [
              0.3333333333333333,
              "#9c179e"
             ],
             [
              0.4444444444444444,
              "#bd3786"
             ],
             [
              0.5555555555555556,
              "#d8576b"
             ],
             [
              0.6666666666666666,
              "#ed7953"
             ],
             [
              0.7777777777777778,
              "#fb9f3a"
             ],
             [
              0.8888888888888888,
              "#fdca26"
             ],
             [
              1,
              "#f0f921"
             ]
            ],
            "type": "histogram2dcontour"
           }
          ],
          "mesh3d": [
           {
            "colorbar": {
             "outlinewidth": 0,
             "ticks": ""
            },
            "type": "mesh3d"
           }
          ],
          "parcoords": [
           {
            "line": {
             "colorbar": {
              "outlinewidth": 0,
              "ticks": ""
             }
            },
            "type": "parcoords"
           }
          ],
          "pie": [
           {
            "automargin": true,
            "type": "pie"
           }
          ],
          "scatter": [
           {
            "fillpattern": {
             "fillmode": "overlay",
             "size": 10,
             "solidity": 0.2
            },
            "type": "scatter"
           }
          ],
          "scatter3d": [
           {
            "line": {
             "colorbar": {
              "outlinewidth": 0,
              "ticks": ""
             }
            },
            "marker": {
             "colorbar": {
              "outlinewidth": 0,
              "ticks": ""
             }
            },
            "type": "scatter3d"
           }
          ],
          "scattercarpet": [
           {
            "marker": {
             "colorbar": {
              "outlinewidth": 0,
              "ticks": ""
             }
            },
            "type": "scattercarpet"
           }
          ],
          "scattergeo": [
           {
            "marker": {
             "colorbar": {
              "outlinewidth": 0,
              "ticks": ""
             }
            },
            "type": "scattergeo"
           }
          ],
          "scattergl": [
           {
            "marker": {
             "colorbar": {
              "outlinewidth": 0,
              "ticks": ""
             }
            },
            "type": "scattergl"
           }
          ],
          "scattermapbox": [
           {
            "marker": {
             "colorbar": {
              "outlinewidth": 0,
              "ticks": ""
             }
            },
            "type": "scattermapbox"
           }
          ],
          "scatterpolar": [
           {
            "marker": {
             "colorbar": {
              "outlinewidth": 0,
              "ticks": ""
             }
            },
            "type": "scatterpolar"
           }
          ],
          "scatterpolargl": [
           {
            "marker": {
             "colorbar": {
              "outlinewidth": 0,
              "ticks": ""
             }
            },
            "type": "scatterpolargl"
           }
          ],
          "scatterternary": [
           {
            "marker": {
             "colorbar": {
              "outlinewidth": 0,
              "ticks": ""
             }
            },
            "type": "scatterternary"
           }
          ],
          "surface": [
           {
            "colorbar": {
             "outlinewidth": 0,
             "ticks": ""
            },
            "colorscale": [
             [
              0,
              "#0d0887"
             ],
             [
              0.1111111111111111,
              "#46039f"
             ],
             [
              0.2222222222222222,
              "#7201a8"
             ],
             [
              0.3333333333333333,
              "#9c179e"
             ],
             [
              0.4444444444444444,
              "#bd3786"
             ],
             [
              0.5555555555555556,
              "#d8576b"
             ],
             [
              0.6666666666666666,
              "#ed7953"
             ],
             [
              0.7777777777777778,
              "#fb9f3a"
             ],
             [
              0.8888888888888888,
              "#fdca26"
             ],
             [
              1,
              "#f0f921"
             ]
            ],
            "type": "surface"
           }
          ],
          "table": [
           {
            "cells": {
             "fill": {
              "color": "#EBF0F8"
             },
             "line": {
              "color": "white"
             }
            },
            "header": {
             "fill": {
              "color": "#C8D4E3"
             },
             "line": {
              "color": "white"
             }
            },
            "type": "table"
           }
          ]
         },
         "layout": {
          "annotationdefaults": {
           "arrowcolor": "#2a3f5f",
           "arrowhead": 0,
           "arrowwidth": 1
          },
          "autotypenumbers": "strict",
          "coloraxis": {
           "colorbar": {
            "outlinewidth": 0,
            "ticks": ""
           }
          },
          "colorscale": {
           "diverging": [
            [
             0,
             "#8e0152"
            ],
            [
             0.1,
             "#c51b7d"
            ],
            [
             0.2,
             "#de77ae"
            ],
            [
             0.3,
             "#f1b6da"
            ],
            [
             0.4,
             "#fde0ef"
            ],
            [
             0.5,
             "#f7f7f7"
            ],
            [
             0.6,
             "#e6f5d0"
            ],
            [
             0.7,
             "#b8e186"
            ],
            [
             0.8,
             "#7fbc41"
            ],
            [
             0.9,
             "#4d9221"
            ],
            [
             1,
             "#276419"
            ]
           ],
           "sequential": [
            [
             0,
             "#0d0887"
            ],
            [
             0.1111111111111111,
             "#46039f"
            ],
            [
             0.2222222222222222,
             "#7201a8"
            ],
            [
             0.3333333333333333,
             "#9c179e"
            ],
            [
             0.4444444444444444,
             "#bd3786"
            ],
            [
             0.5555555555555556,
             "#d8576b"
            ],
            [
             0.6666666666666666,
             "#ed7953"
            ],
            [
             0.7777777777777778,
             "#fb9f3a"
            ],
            [
             0.8888888888888888,
             "#fdca26"
            ],
            [
             1,
             "#f0f921"
            ]
           ],
           "sequentialminus": [
            [
             0,
             "#0d0887"
            ],
            [
             0.1111111111111111,
             "#46039f"
            ],
            [
             0.2222222222222222,
             "#7201a8"
            ],
            [
             0.3333333333333333,
             "#9c179e"
            ],
            [
             0.4444444444444444,
             "#bd3786"
            ],
            [
             0.5555555555555556,
             "#d8576b"
            ],
            [
             0.6666666666666666,
             "#ed7953"
            ],
            [
             0.7777777777777778,
             "#fb9f3a"
            ],
            [
             0.8888888888888888,
             "#fdca26"
            ],
            [
             1,
             "#f0f921"
            ]
           ]
          },
          "colorway": [
           "#636efa",
           "#EF553B",
           "#00cc96",
           "#ab63fa",
           "#FFA15A",
           "#19d3f3",
           "#FF6692",
           "#B6E880",
           "#FF97FF",
           "#FECB52"
          ],
          "font": {
           "color": "#2a3f5f"
          },
          "geo": {
           "bgcolor": "white",
           "lakecolor": "white",
           "landcolor": "#E5ECF6",
           "showlakes": true,
           "showland": true,
           "subunitcolor": "white"
          },
          "hoverlabel": {
           "align": "left"
          },
          "hovermode": "closest",
          "mapbox": {
           "style": "light"
          },
          "paper_bgcolor": "white",
          "plot_bgcolor": "#E5ECF6",
          "polar": {
           "angularaxis": {
            "gridcolor": "white",
            "linecolor": "white",
            "ticks": ""
           },
           "bgcolor": "#E5ECF6",
           "radialaxis": {
            "gridcolor": "white",
            "linecolor": "white",
            "ticks": ""
           }
          },
          "scene": {
           "xaxis": {
            "backgroundcolor": "#E5ECF6",
            "gridcolor": "white",
            "gridwidth": 2,
            "linecolor": "white",
            "showbackground": true,
            "ticks": "",
            "zerolinecolor": "white"
           },
           "yaxis": {
            "backgroundcolor": "#E5ECF6",
            "gridcolor": "white",
            "gridwidth": 2,
            "linecolor": "white",
            "showbackground": true,
            "ticks": "",
            "zerolinecolor": "white"
           },
           "zaxis": {
            "backgroundcolor": "#E5ECF6",
            "gridcolor": "white",
            "gridwidth": 2,
            "linecolor": "white",
            "showbackground": true,
            "ticks": "",
            "zerolinecolor": "white"
           }
          },
          "shapedefaults": {
           "line": {
            "color": "#2a3f5f"
           }
          },
          "ternary": {
           "aaxis": {
            "gridcolor": "white",
            "linecolor": "white",
            "ticks": ""
           },
           "baxis": {
            "gridcolor": "white",
            "linecolor": "white",
            "ticks": ""
           },
           "bgcolor": "#E5ECF6",
           "caxis": {
            "gridcolor": "white",
            "linecolor": "white",
            "ticks": ""
           }
          },
          "title": {
           "x": 0.05
          },
          "xaxis": {
           "automargin": true,
           "gridcolor": "white",
           "linecolor": "white",
           "ticks": "",
           "title": {
            "standoff": 15
           },
           "zerolinecolor": "white",
           "zerolinewidth": 2
          },
          "yaxis": {
           "automargin": true,
           "gridcolor": "white",
           "linecolor": "white",
           "ticks": "",
           "title": {
            "standoff": 15
           },
           "zerolinecolor": "white",
           "zerolinewidth": 2
          }
         }
        }
       }
      }
     },
     "metadata": {},
     "output_type": "display_data"
    },
    {
     "name": "stdout",
     "output_type": "stream",
     "text": [
      "4\n"
     ]
    }
   ],
   "source": [
    "print(len(PLR(data, 100, show=True)))"
   ]
  },
  {
   "cell_type": "code",
   "execution_count": 52,
   "metadata": {},
   "outputs": [],
   "source": [
    "import pandas as pd"
   ]
  },
  {
   "cell_type": "code",
   "execution_count": 53,
   "metadata": {},
   "outputs": [
    {
     "name": "stdout",
     "output_type": "stream",
     "text": [
      "630112 [825491678, 1]\n"
     ]
    }
   ],
   "source": [
    "scv=pd.read_csv(\"cinema.csv\", index_col=False)\n",
    "sort_keys=scv[\"timestamp\"]\n",
    "# import base36\n",
    "data=[[key,ind] for ind,key in enumerate(sort_keys)]\n",
    "\n",
    "print(len(data), data[1])"
   ]
  },
  {
   "cell_type": "code",
   "execution_count": 57,
   "metadata": {},
   "outputs": [
    {
     "data": {
      "application/vnd.plotly.v1+json": {
       "config": {
        "plotlyServerURL": "https://plot.ly"
       },
       "data": [
        {
         "name": "",
         "showlegend": false,
         "type": "scatter",
         "x": [
          825491677,
          825491677,
          825491677
         ],
         "y": [
          2,
          0,
          -2
         ]
        },
        {
         "name": "",
         "showlegend": false,
         "type": "scatter",
         "x": [
          825491677,
          825491677,
          825491677
         ],
         "y": [
          2,
          0,
          -2
         ]
        },
        {
         "name": "",
         "showlegend": false,
         "type": "scatter",
         "x": [
          825491678,
          825491678,
          825491678
         ],
         "y": [
          3,
          1,
          -1
         ]
        },
        {
         "name": "",
         "showlegend": false,
         "type": "scatter",
         "x": [
          825491679,
          825491679,
          825491679
         ],
         "y": [
          4,
          2,
          0
         ]
        },
        {
         "name": "",
         "showlegend": false,
         "type": "scatter",
         "x": [
          825491680,
          825491680,
          825491680
         ],
         "y": [
          5,
          3,
          1
         ]
        },
        {
         "name": "",
         "showlegend": false,
         "type": "scatter",
         "x": [
          825638400,
          825638400,
          825638400
         ],
         "y": [
          6,
          4,
          2
         ]
        },
        {
         "name": "",
         "showlegend": false,
         "type": "scatter",
         "x": [
          825789867,
          825789867,
          825789867
         ],
         "y": [
          7,
          5,
          3
         ]
        },
        {
         "name": "",
         "showlegend": false,
         "type": "scatter",
         "x": [
          825789868,
          825789868,
          825789868
         ],
         "y": [
          8,
          6,
          4
         ]
        },
        {
         "name": "",
         "showlegend": false,
         "type": "scatter",
         "x": [
          825790158,
          825790158,
          825790158
         ],
         "y": [
          9,
          7,
          5
         ]
        },
        {
         "name": "",
         "showlegend": false,
         "type": "scatter",
         "x": [
          825790159,
          825790159,
          825790159
         ],
         "y": [
          10,
          8,
          6
         ]
        },
        {
         "name": "",
         "showlegend": false,
         "type": "scatter",
         "x": [
          825868150,
          825868150,
          825868150
         ],
         "y": [
          11,
          9,
          7
         ]
        },
        {
         "name": "p",
         "showlegend": false,
         "type": "scatter",
         "x": [
          825491680,
          825868150
         ],
         "y": [
          1,
          11
         ]
        },
        {
         "name": "p",
         "showlegend": false,
         "type": "scatter",
         "x": [
          825491677,
          825868150
         ],
         "y": [
          2,
          7
         ]
        },
        {
         "name": "spline",
         "showlegend": false,
         "type": "scatter",
         "x": [
          825491677,
          825868150
         ],
         "y": [
          1.7379424699920492,
          8.048146595720027
         ]
        }
       ],
       "layout": {
        "template": {
         "data": {
          "bar": [
           {
            "error_x": {
             "color": "#2a3f5f"
            },
            "error_y": {
             "color": "#2a3f5f"
            },
            "marker": {
             "line": {
              "color": "#E5ECF6",
              "width": 0.5
             },
             "pattern": {
              "fillmode": "overlay",
              "size": 10,
              "solidity": 0.2
             }
            },
            "type": "bar"
           }
          ],
          "barpolar": [
           {
            "marker": {
             "line": {
              "color": "#E5ECF6",
              "width": 0.5
             },
             "pattern": {
              "fillmode": "overlay",
              "size": 10,
              "solidity": 0.2
             }
            },
            "type": "barpolar"
           }
          ],
          "carpet": [
           {
            "aaxis": {
             "endlinecolor": "#2a3f5f",
             "gridcolor": "white",
             "linecolor": "white",
             "minorgridcolor": "white",
             "startlinecolor": "#2a3f5f"
            },
            "baxis": {
             "endlinecolor": "#2a3f5f",
             "gridcolor": "white",
             "linecolor": "white",
             "minorgridcolor": "white",
             "startlinecolor": "#2a3f5f"
            },
            "type": "carpet"
           }
          ],
          "choropleth": [
           {
            "colorbar": {
             "outlinewidth": 0,
             "ticks": ""
            },
            "type": "choropleth"
           }
          ],
          "contour": [
           {
            "colorbar": {
             "outlinewidth": 0,
             "ticks": ""
            },
            "colorscale": [
             [
              0,
              "#0d0887"
             ],
             [
              0.1111111111111111,
              "#46039f"
             ],
             [
              0.2222222222222222,
              "#7201a8"
             ],
             [
              0.3333333333333333,
              "#9c179e"
             ],
             [
              0.4444444444444444,
              "#bd3786"
             ],
             [
              0.5555555555555556,
              "#d8576b"
             ],
             [
              0.6666666666666666,
              "#ed7953"
             ],
             [
              0.7777777777777778,
              "#fb9f3a"
             ],
             [
              0.8888888888888888,
              "#fdca26"
             ],
             [
              1,
              "#f0f921"
             ]
            ],
            "type": "contour"
           }
          ],
          "contourcarpet": [
           {
            "colorbar": {
             "outlinewidth": 0,
             "ticks": ""
            },
            "type": "contourcarpet"
           }
          ],
          "heatmap": [
           {
            "colorbar": {
             "outlinewidth": 0,
             "ticks": ""
            },
            "colorscale": [
             [
              0,
              "#0d0887"
             ],
             [
              0.1111111111111111,
              "#46039f"
             ],
             [
              0.2222222222222222,
              "#7201a8"
             ],
             [
              0.3333333333333333,
              "#9c179e"
             ],
             [
              0.4444444444444444,
              "#bd3786"
             ],
             [
              0.5555555555555556,
              "#d8576b"
             ],
             [
              0.6666666666666666,
              "#ed7953"
             ],
             [
              0.7777777777777778,
              "#fb9f3a"
             ],
             [
              0.8888888888888888,
              "#fdca26"
             ],
             [
              1,
              "#f0f921"
             ]
            ],
            "type": "heatmap"
           }
          ],
          "heatmapgl": [
           {
            "colorbar": {
             "outlinewidth": 0,
             "ticks": ""
            },
            "colorscale": [
             [
              0,
              "#0d0887"
             ],
             [
              0.1111111111111111,
              "#46039f"
             ],
             [
              0.2222222222222222,
              "#7201a8"
             ],
             [
              0.3333333333333333,
              "#9c179e"
             ],
             [
              0.4444444444444444,
              "#bd3786"
             ],
             [
              0.5555555555555556,
              "#d8576b"
             ],
             [
              0.6666666666666666,
              "#ed7953"
             ],
             [
              0.7777777777777778,
              "#fb9f3a"
             ],
             [
              0.8888888888888888,
              "#fdca26"
             ],
             [
              1,
              "#f0f921"
             ]
            ],
            "type": "heatmapgl"
           }
          ],
          "histogram": [
           {
            "marker": {
             "pattern": {
              "fillmode": "overlay",
              "size": 10,
              "solidity": 0.2
             }
            },
            "type": "histogram"
           }
          ],
          "histogram2d": [
           {
            "colorbar": {
             "outlinewidth": 0,
             "ticks": ""
            },
            "colorscale": [
             [
              0,
              "#0d0887"
             ],
             [
              0.1111111111111111,
              "#46039f"
             ],
             [
              0.2222222222222222,
              "#7201a8"
             ],
             [
              0.3333333333333333,
              "#9c179e"
             ],
             [
              0.4444444444444444,
              "#bd3786"
             ],
             [
              0.5555555555555556,
              "#d8576b"
             ],
             [
              0.6666666666666666,
              "#ed7953"
             ],
             [
              0.7777777777777778,
              "#fb9f3a"
             ],
             [
              0.8888888888888888,
              "#fdca26"
             ],
             [
              1,
              "#f0f921"
             ]
            ],
            "type": "histogram2d"
           }
          ],
          "histogram2dcontour": [
           {
            "colorbar": {
             "outlinewidth": 0,
             "ticks": ""
            },
            "colorscale": [
             [
              0,
              "#0d0887"
             ],
             [
              0.1111111111111111,
              "#46039f"
             ],
             [
              0.2222222222222222,
              "#7201a8"
             ],
             [
              0.3333333333333333,
              "#9c179e"
             ],
             [
              0.4444444444444444,
              "#bd3786"
             ],
             [
              0.5555555555555556,
              "#d8576b"
             ],
             [
              0.6666666666666666,
              "#ed7953"
             ],
             [
              0.7777777777777778,
              "#fb9f3a"
             ],
             [
              0.8888888888888888,
              "#fdca26"
             ],
             [
              1,
              "#f0f921"
             ]
            ],
            "type": "histogram2dcontour"
           }
          ],
          "mesh3d": [
           {
            "colorbar": {
             "outlinewidth": 0,
             "ticks": ""
            },
            "type": "mesh3d"
           }
          ],
          "parcoords": [
           {
            "line": {
             "colorbar": {
              "outlinewidth": 0,
              "ticks": ""
             }
            },
            "type": "parcoords"
           }
          ],
          "pie": [
           {
            "automargin": true,
            "type": "pie"
           }
          ],
          "scatter": [
           {
            "fillpattern": {
             "fillmode": "overlay",
             "size": 10,
             "solidity": 0.2
            },
            "type": "scatter"
           }
          ],
          "scatter3d": [
           {
            "line": {
             "colorbar": {
              "outlinewidth": 0,
              "ticks": ""
             }
            },
            "marker": {
             "colorbar": {
              "outlinewidth": 0,
              "ticks": ""
             }
            },
            "type": "scatter3d"
           }
          ],
          "scattercarpet": [
           {
            "marker": {
             "colorbar": {
              "outlinewidth": 0,
              "ticks": ""
             }
            },
            "type": "scattercarpet"
           }
          ],
          "scattergeo": [
           {
            "marker": {
             "colorbar": {
              "outlinewidth": 0,
              "ticks": ""
             }
            },
            "type": "scattergeo"
           }
          ],
          "scattergl": [
           {
            "marker": {
             "colorbar": {
              "outlinewidth": 0,
              "ticks": ""
             }
            },
            "type": "scattergl"
           }
          ],
          "scattermapbox": [
           {
            "marker": {
             "colorbar": {
              "outlinewidth": 0,
              "ticks": ""
             }
            },
            "type": "scattermapbox"
           }
          ],
          "scatterpolar": [
           {
            "marker": {
             "colorbar": {
              "outlinewidth": 0,
              "ticks": ""
             }
            },
            "type": "scatterpolar"
           }
          ],
          "scatterpolargl": [
           {
            "marker": {
             "colorbar": {
              "outlinewidth": 0,
              "ticks": ""
             }
            },
            "type": "scatterpolargl"
           }
          ],
          "scatterternary": [
           {
            "marker": {
             "colorbar": {
              "outlinewidth": 0,
              "ticks": ""
             }
            },
            "type": "scatterternary"
           }
          ],
          "surface": [
           {
            "colorbar": {
             "outlinewidth": 0,
             "ticks": ""
            },
            "colorscale": [
             [
              0,
              "#0d0887"
             ],
             [
              0.1111111111111111,
              "#46039f"
             ],
             [
              0.2222222222222222,
              "#7201a8"
             ],
             [
              0.3333333333333333,
              "#9c179e"
             ],
             [
              0.4444444444444444,
              "#bd3786"
             ],
             [
              0.5555555555555556,
              "#d8576b"
             ],
             [
              0.6666666666666666,
              "#ed7953"
             ],
             [
              0.7777777777777778,
              "#fb9f3a"
             ],
             [
              0.8888888888888888,
              "#fdca26"
             ],
             [
              1,
              "#f0f921"
             ]
            ],
            "type": "surface"
           }
          ],
          "table": [
           {
            "cells": {
             "fill": {
              "color": "#EBF0F8"
             },
             "line": {
              "color": "white"
             }
            },
            "header": {
             "fill": {
              "color": "#C8D4E3"
             },
             "line": {
              "color": "white"
             }
            },
            "type": "table"
           }
          ]
         },
         "layout": {
          "annotationdefaults": {
           "arrowcolor": "#2a3f5f",
           "arrowhead": 0,
           "arrowwidth": 1
          },
          "autotypenumbers": "strict",
          "coloraxis": {
           "colorbar": {
            "outlinewidth": 0,
            "ticks": ""
           }
          },
          "colorscale": {
           "diverging": [
            [
             0,
             "#8e0152"
            ],
            [
             0.1,
             "#c51b7d"
            ],
            [
             0.2,
             "#de77ae"
            ],
            [
             0.3,
             "#f1b6da"
            ],
            [
             0.4,
             "#fde0ef"
            ],
            [
             0.5,
             "#f7f7f7"
            ],
            [
             0.6,
             "#e6f5d0"
            ],
            [
             0.7,
             "#b8e186"
            ],
            [
             0.8,
             "#7fbc41"
            ],
            [
             0.9,
             "#4d9221"
            ],
            [
             1,
             "#276419"
            ]
           ],
           "sequential": [
            [
             0,
             "#0d0887"
            ],
            [
             0.1111111111111111,
             "#46039f"
            ],
            [
             0.2222222222222222,
             "#7201a8"
            ],
            [
             0.3333333333333333,
             "#9c179e"
            ],
            [
             0.4444444444444444,
             "#bd3786"
            ],
            [
             0.5555555555555556,
             "#d8576b"
            ],
            [
             0.6666666666666666,
             "#ed7953"
            ],
            [
             0.7777777777777778,
             "#fb9f3a"
            ],
            [
             0.8888888888888888,
             "#fdca26"
            ],
            [
             1,
             "#f0f921"
            ]
           ],
           "sequentialminus": [
            [
             0,
             "#0d0887"
            ],
            [
             0.1111111111111111,
             "#46039f"
            ],
            [
             0.2222222222222222,
             "#7201a8"
            ],
            [
             0.3333333333333333,
             "#9c179e"
            ],
            [
             0.4444444444444444,
             "#bd3786"
            ],
            [
             0.5555555555555556,
             "#d8576b"
            ],
            [
             0.6666666666666666,
             "#ed7953"
            ],
            [
             0.7777777777777778,
             "#fb9f3a"
            ],
            [
             0.8888888888888888,
             "#fdca26"
            ],
            [
             1,
             "#f0f921"
            ]
           ]
          },
          "colorway": [
           "#636efa",
           "#EF553B",
           "#00cc96",
           "#ab63fa",
           "#FFA15A",
           "#19d3f3",
           "#FF6692",
           "#B6E880",
           "#FF97FF",
           "#FECB52"
          ],
          "font": {
           "color": "#2a3f5f"
          },
          "geo": {
           "bgcolor": "white",
           "lakecolor": "white",
           "landcolor": "#E5ECF6",
           "showlakes": true,
           "showland": true,
           "subunitcolor": "white"
          },
          "hoverlabel": {
           "align": "left"
          },
          "hovermode": "closest",
          "mapbox": {
           "style": "light"
          },
          "paper_bgcolor": "white",
          "plot_bgcolor": "#E5ECF6",
          "polar": {
           "angularaxis": {
            "gridcolor": "white",
            "linecolor": "white",
            "ticks": ""
           },
           "bgcolor": "#E5ECF6",
           "radialaxis": {
            "gridcolor": "white",
            "linecolor": "white",
            "ticks": ""
           }
          },
          "scene": {
           "xaxis": {
            "backgroundcolor": "#E5ECF6",
            "gridcolor": "white",
            "gridwidth": 2,
            "linecolor": "white",
            "showbackground": true,
            "ticks": "",
            "zerolinecolor": "white"
           },
           "yaxis": {
            "backgroundcolor": "#E5ECF6",
            "gridcolor": "white",
            "gridwidth": 2,
            "linecolor": "white",
            "showbackground": true,
            "ticks": "",
            "zerolinecolor": "white"
           },
           "zaxis": {
            "backgroundcolor": "#E5ECF6",
            "gridcolor": "white",
            "gridwidth": 2,
            "linecolor": "white",
            "showbackground": true,
            "ticks": "",
            "zerolinecolor": "white"
           }
          },
          "shapedefaults": {
           "line": {
            "color": "#2a3f5f"
           }
          },
          "ternary": {
           "aaxis": {
            "gridcolor": "white",
            "linecolor": "white",
            "ticks": ""
           },
           "baxis": {
            "gridcolor": "white",
            "linecolor": "white",
            "ticks": ""
           },
           "bgcolor": "#E5ECF6",
           "caxis": {
            "gridcolor": "white",
            "linecolor": "white",
            "ticks": ""
           }
          },
          "title": {
           "x": 0.05
          },
          "xaxis": {
           "automargin": true,
           "gridcolor": "white",
           "linecolor": "white",
           "ticks": "",
           "title": {
            "standoff": 15
           },
           "zerolinecolor": "white",
           "zerolinewidth": 2
          },
          "yaxis": {
           "automargin": true,
           "gridcolor": "white",
           "linecolor": "white",
           "ticks": "",
           "title": {
            "standoff": 15
           },
           "zerolinecolor": "white",
           "zerolinewidth": 2
          }
         }
        }
       }
      }
     },
     "metadata": {},
     "output_type": "display_data"
    },
    {
     "name": "stdout",
     "output_type": "stream",
     "text": [
      "1\n"
     ]
    }
   ],
   "source": [
    "print(len(PLR(data[:10], 2, show=True)))\n"
   ]
  },
  {
   "cell_type": "code",
   "execution_count": 55,
   "metadata": {},
   "outputs": [
    {
     "name": "stdout",
     "output_type": "stream",
     "text": [
      "39940\n"
     ]
    }
   ],
   "source": [
    "print(len(PLR(data, 2, show=False)))"
   ]
  },
  {
   "cell_type": "code",
   "execution_count": null,
   "metadata": {},
   "outputs": [],
   "source": []
  }
 ],
 "metadata": {
  "kernelspec": {
   "display_name": "base",
   "language": "python",
   "name": "python3"
  },
  "language_info": {
   "codemirror_mode": {
    "name": "ipython",
    "version": 3
   },
   "file_extension": ".py",
   "mimetype": "text/x-python",
   "name": "python",
   "nbconvert_exporter": "python",
   "pygments_lexer": "ipython3",
   "version": "3.12.7"
  }
 },
 "nbformat": 4,
 "nbformat_minor": 2
}
