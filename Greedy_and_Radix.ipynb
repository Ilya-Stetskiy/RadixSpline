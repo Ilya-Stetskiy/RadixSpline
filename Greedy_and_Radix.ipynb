{
 "cells": [
  {
   "cell_type": "code",
   "execution_count": 2,
   "metadata": {},
   "outputs": [],
   "source": [
    "import math\n",
    "import matplotlib.pyplot as plt\n",
    "import pandas as pd\n",
    "import time\n",
    "from tqdm.notebook import tqdm\n",
    "import os\n",
    "from pympler import asizeof"
   ]
  },
  {
   "cell_type": "code",
   "execution_count": 12,
   "metadata": {},
   "outputs": [
    {
     "name": "stdout",
     "output_type": "stream",
     "text": [
      "25976523 [789652009, 1]\n"
     ]
    }
   ],
   "source": [
    "# scv=pd.read_csv('ratings.csv', index_col=False)  \n",
    "# keys=scv[\"timestamp\"]\n",
    "# sort_keys=keys.sort_values(axis=0).drop_duplicates()\n",
    "# sort_keys.reset_index(drop= True , inplace= True)\n",
    "\n",
    "scv=pd.read_csv(\"cinema.csv\", index_col=False)\n",
    "sort_keys=scv[\"timestamp\"]\n",
    "# import base36\n",
    "data=[[key,ind] for ind,key in enumerate(sort_keys)]\n",
    "\n",
    "print(len(data), data[1])"
   ]
  },
  {
   "cell_type": "code",
   "execution_count": null,
   "metadata": {},
   "outputs": [],
   "source": [
    "class GreedySpline:\n",
    "    def __init__(self, error=10):\n",
    "        self.error=error\n",
    "        self.greedyspline=[]\n",
    "\n",
    "    def start(self,new_point):\n",
    "        self.tg_err_top=float(\"inf\")\n",
    "        self.tg_err_bot=float(\"-inf\")\n",
    "        self.greedyspline.append(new_point)\n",
    "        self.greedyspline.append(new_point)\n",
    "        self.last_point=new_point\n",
    "    \n",
    "    def tg(self, a,b,err=0):\n",
    "        return (a[1]+self.error*err-b[1])/(a[0]-b[0])\n",
    "        \n",
    "    def new_coridor (self,a,b):\n",
    "        self.tg_err_top=min(self.tg_err_top, self.tg(a,b,1))\n",
    "        self.tg_err_bot=max(self.tg_err_bot, self.tg(a,b,-1))\n",
    "        \n",
    "    def new_spline(self, new_point): \n",
    "        if not self.greedyspline:\n",
    "            self.start(new_point)\n",
    "            return\n",
    "        tg_new_point=self.tg(new_point,self.greedyspline[-2])\n",
    "        if tg_new_point<self.tg_err_top and tg_new_point>self.tg_err_bot:\n",
    "            self.new_coridor(new_point, self.greedyspline[-2])\n",
    "            self.greedyspline[-1]=new_point\n",
    "        else:\n",
    "            self.greedyspline.append(self.last_point)\n",
    "            self.tg_err_top=self.tg(new_point, self.greedyspline[-1],1)\n",
    "            self.tg_err_bot=self.tg(new_point, self.greedyspline[-1],-1)\n",
    "        self.last_point=new_point \n",
    "        \n",
    "        \n",
    "        \n",
    "    def load_data(self,data):\n",
    "        for i in data:\n",
    "            self.new_spline(i)\n",
    "    \n",
    "    def plot(self):\n",
    "        dataX=[]\n",
    "        dataY=[]\n",
    "        for i,j in  self.greedyspline:\n",
    "            dataX.append(i)\n",
    "            dataY.append(j)\n",
    "        plt.plot(dataX,dataY, marker='o', markersize=6)\n",
    "    \n",
    "        \n",
    "        \n",
    "    \n",
    "class RadixSpline:\n",
    "    def __init__(self,GreedySpline,bitcount):\n",
    "        self.bitcount=bitcount\n",
    "        self.greedyspline=GreedySpline.greedyspline\n",
    "        self.error=GreedySpline.error\n",
    "        self.radixspline=[None]*2**self.bitcount\n",
    "        self.bit_len=self.bit_lenght(self.greedyspline[-1][0])\n",
    "        # print(\"bit_len\",self.bit_len)\n",
    "        self.len_greedy=len(self.greedyspline)\n",
    "        self.not_prefics,self.mod=self.not_prefics_count()\n",
    "        self.move_right=self.bit_len-self.bitcount-self.not_prefics\n",
    "        # print(\"not_prefics\",self.not_prefics)\n",
    "        # print(\"mod\", self.mod)\n",
    "        # print(\"move_right\",self.move_right)\n",
    "        self.get_RadixSpline()\n",
    "        \n",
    "    def bit_lenght(self,n):\n",
    "        return(len(bin(n).lstrip('-0b')))\n",
    "    def not_prefics_count(self):\n",
    "        n=self.greedyspline[0][0]\n",
    "        count,pref=0,0\n",
    "        \n",
    "        if self.bit_lenght(n)==self.bit_len:\n",
    "            count=self.bit_len-self.bit_lenght(((1<<self.bit_len)-1)^n)\n",
    "        for i in range(count):\n",
    "            pref=(pref<<1)+1\n",
    "        pref<<=(self.bit_len-count)\n",
    "        return count,pref\n",
    "        \n",
    "        \n",
    "    \n",
    "    ##Способ построение радикс сплайна, нужно заменить\n",
    "    def first_bits(self,n):\n",
    "        if self.not_prefics:\n",
    "           n%=self.mod\n",
    "        #    print(n)\n",
    "        return n>>self.move_right\n",
    "    \n",
    "    def get_RadixSpline(self):\n",
    "        \n",
    "        for ind in range(len(self.greedyspline)):\n",
    "            temp=self.first_bits(self.greedyspline[ind][0])\n",
    "            # print(temp)\n",
    "            if not self.radixspline[temp]:\n",
    "                self.radixspline[temp]=ind\n",
    "        if  self.radixspline[2**self.bitcount-1]==None:\n",
    "             self.radixspline[2**self.bitcount-1]=len(self.greedyspline)-1\n",
    "        for i in range (2**self.bitcount-1,-1,-1):\n",
    "            if self.radixspline[i]==None:                \n",
    "                self.radixspline[i]=self.radixspline[i+1]\n",
    "        return self.radixspline\n",
    "    \n",
    "    def bin_search_spline(self,left,right,key):\n",
    "        while left<=right:\n",
    "            mid=(left+right)//2\n",
    "            if key>= self.greedyspline[mid][0] :\n",
    "                if key<=self.greedyspline[mid+1][0] :\n",
    "                   return [mid,mid+1]\n",
    "                else: \n",
    "                   left=mid+1\n",
    "            else:\n",
    "                right=mid-1\n",
    "\n",
    "\n",
    "    \n",
    "        \n",
    "    def give_answer(self,key):\n",
    "        first_bit=self.first_bits(key)\n",
    "        left=self.radixspline[first_bit]-1\n",
    "        if first_bit==len(self.radixspline)-1:\n",
    "            right=len(self.greedyspline)-1\n",
    "        else:\n",
    "            right=self.radixspline[first_bit+1]\n",
    "        # left=0\n",
    "        # right=len(self.greedyspline)-1\n",
    "        bin_ans=self.bin_search_spline(left,right,key)\n",
    "        kl,pl=self.greedyspline[bin_ans[0]]\n",
    "        kr,pr=self.greedyspline[bin_ans[1]]\n",
    "\n",
    "        return pl+(key-kl)*(pr-pl)//(kr-kl)\n",
    "    \n",
    "    def plot(self):\n",
    "        dataX=[]\n",
    "        dataY=[]\n",
    "        for i in  self.radixspline:\n",
    "            dataX.append(self.greedyspline[i][0])\n",
    "            dataY.append(self.greedyspline[i][1])\n",
    "        plt.plot(dataX,dataY, marker='o', markersize=15)"
   ]
  },
  {
   "cell_type": "code",
   "execution_count": 14,
   "metadata": {},
   "outputs": [],
   "source": [
    "def plot_data(data,error=0):\n",
    "    dataX=[]\n",
    "    errT=[]\n",
    "    errB=[]\n",
    "    dataY=[]\n",
    "    for i,j in  data:\n",
    "        dataX.append(i)\n",
    "        dataY.append(j)\n",
    "        if error:\n",
    "            errB.append(j-error)\n",
    "            errT.append(j+error)\n",
    "    plt.plot(dataX,dataY,marker='o', markersize=2)\n",
    "    print(data.__sizeof__())\n",
    "    if error:\n",
    "        plt.plot(dataX,errB,marker='o', markersize=2)\n",
    "        plt.plot(dataX,errT,marker='o', markersize=2)      \n",
    "\n",
    "def get_spline(data, ERR,bitcount ,plot=False): \n",
    "    G=GreedySpline(error=ERR)\n",
    "    G.load_data(data)\n",
    "    \n",
    "    # print(len(G.greedyspline)/len(data)) \n",
    "    R=RadixSpline(G, bitcount)\n",
    "    if plot:\n",
    "        R.plot()\n",
    "        G.plot()\n",
    "        plot_data(data)\n",
    "        plt.show()\n",
    "    return (G,R)"
   ]
  },
  {
   "cell_type": "code",
   "execution_count": 15,
   "metadata": {},
   "outputs": [],
   "source": [
    "# scv=pd.read_csv('amazon_com.csv', dtype={\"ASIN\":bytes}, index_col=False)  \n",
    "# keys=scv[\"ASIN\"]\n",
    "# sort_keys=keys.sort_values(axis=0).drop_duplicates()\n",
    "# sort_keys.reset_index(drop= True , inplace= True)\n",
    "# # sort_keys.to_csv(\"amazon.csv\")\n",
    "# sort_keys[1]\n",
    "# import base36\n",
    "# data=[[base36.loads(key),ind] for ind,key in enumerate(sort_keys)]\n",
    "# data=data"
   ]
  },
  {
   "cell_type": "code",
   "execution_count": 16,
   "metadata": {},
   "outputs": [],
   "source": [
    "def bin_search(data, key, left, right):\n",
    "    while left <= right:\n",
    "        mid = (left + right) // 2  # Находим середину массив\n",
    "        if data[mid][0] == key:  # Если целевое значение найдено\n",
    "            return mid\n",
    "        elif data[mid][0] < key:  # Если целевое значение справа\n",
    "            left = mid + 1\n",
    "        else:  # Если целевое значение слева\n",
    "            right = mid - 1\n",
    "    return -1  \n",
    "\n",
    "    \n",
    "def get_key(data, spline, key ):\n",
    "    radix_answer=spline[1].give_answer(key[0])\n",
    "    left=radix_answer-spline[0].error\n",
    "    right=radix_answer+spline[0].error\n",
    "    res=bin_search(data, key[0], max(left,data[0][1]),min(right, data[-1][1]))\n",
    "    # print(res)\n",
    "    if res!=key[1]: print (\"FAIL\", res, key, math.floor(left),math.ceil(right))\n",
    "    return res\n",
    "  \n",
    "def check_bin_search(data, key):\n",
    "    res=bin_search(data, key[0],data[0][1], data[-1][1])\n",
    "    if res!=key[1]: print (\"FAIL binsearch\")\n",
    "    return res"
   ]
  },
  {
   "cell_type": "markdown",
   "metadata": {},
   "source": [
    "## Тестирование сплайна"
   ]
  },
  {
   "cell_type": "markdown",
   "metadata": {},
   "source": [
    "создание одного"
   ]
  },
  {
   "cell_type": "code",
   "execution_count": null,
   "metadata": {},
   "outputs": [],
   "source": [
    "bitcount=5\n",
    "error=2**14\n",
    "A=get_spline(data,16,20)"
   ]
  },
  {
   "cell_type": "markdown",
   "metadata": {},
   "source": [
    "Прогон, поиск всех ключей, для проверки приблизительного времени "
   ]
  },
  {
   "cell_type": "code",
   "execution_count": 49,
   "metadata": {},
   "outputs": [
    {
     "data": {
      "application/vnd.jupyter.widget-view+json": {
       "model_id": "7b35672a747a46b38d98d19e21f1a7f2",
       "version_major": 2,
       "version_minor": 0
      },
      "text/plain": [
       "  0%|          | 0/25976523 [00:00<?, ?it/s]"
      ]
     },
     "metadata": {},
     "output_type": "display_data"
    }
   ],
   "source": [
    "for i in tqdm(data):\n",
    "    get_key(data,A,i)"
   ]
  },
  {
   "cell_type": "markdown",
   "metadata": {},
   "source": [
    "Сравнение с приблизительным временем бинпоиска"
   ]
  },
  {
   "cell_type": "code",
   "execution_count": 50,
   "metadata": {},
   "outputs": [
    {
     "data": {
      "application/vnd.jupyter.widget-view+json": {
       "model_id": "d90dd5d857ba467c92232df97586c5e9",
       "version_major": 2,
       "version_minor": 0
      },
      "text/plain": [
       "  0%|          | 0/25976523 [00:00<?, ?it/s]"
      ]
     },
     "metadata": {},
     "output_type": "display_data"
    }
   ],
   "source": [
    "for i in tqdm(data):\n",
    "    check_bin_search(data,i)"
   ]
  },
  {
   "cell_type": "markdown",
   "metadata": {},
   "source": [
    "Перебор параметров, для проверки времени"
   ]
  },
  {
   "cell_type": "code",
   "execution_count": 47,
   "metadata": {},
   "outputs": [
    {
     "name": "stdout",
     "output_type": "stream",
     "text": [
      "i= 10\n",
      "gen 25.739999294281006 |search 70.93499827384949 |greedy_size 101\n",
      "______________\n"
     ]
    }
   ],
   "source": [
    "for i in range(8,18):\n",
    "    print(\"i=\", i)\n",
    "    start1=time.time()\n",
    "    A=get_spline(data,2**i,5)\n",
    "    end1 =time.time()\n",
    "    start2=time.time()\n",
    "    for i in data:\n",
    "        get_key(data,A,i)\n",
    "    end2=time.time()\n",
    "    print(\"gen\",(end1-start1)//0.001,\"|search\",(end2-start2)//0.001,\"|greedy_size\",A[1].len_greedy, \"size(bytes)= \", asizeof.asizeof(A) )\n",
    "    \n",
    "    print(\"_\"*14)\n",
    "    "
   ]
  },
  {
   "cell_type": "markdown",
   "metadata": {},
   "source": [
    "\"Эталонное\" время бинпоиска"
   ]
  },
  {
   "cell_type": "code",
   "execution_count": 43,
   "metadata": {},
   "outputs": [
    {
     "name": "stdout",
     "output_type": "stream",
     "text": [
      "75.37800550460815\n"
     ]
    }
   ],
   "source": [
    "start2=time.time()\n",
    "for i in data:    \n",
    "    check_bin_search(data,i)\n",
    "end2=time.time()\n",
    "print(-start2+end2)"
   ]
  },
  {
   "cell_type": "markdown",
   "metadata": {},
   "source": [
    "Создание Фенс поинтов"
   ]
  },
  {
   "cell_type": "code",
   "execution_count": 4,
   "metadata": {},
   "outputs": [],
   "source": [
    "scv=pd.read_csv('ratings.csv', index_col=False)  \n",
    "keys=scv[\"timestamp\"]\n",
    "sort_keys=keys.sort_values(axis=0).drop_duplicates()\n",
    "sort_keys.reset_index(drop= True , inplace= True)"
   ]
  },
  {
   "cell_type": "code",
   "execution_count": 60,
   "metadata": {},
   "outputs": [
    {
     "name": "stdout",
     "output_type": "stream",
     "text": [
      "27\n"
     ]
    }
   ],
   "source": [
    "case_size=4096\n",
    "len_points=os.path.getsize(\"ratings.csv\")//case_size\n",
    "average_size=os.path.getsize(\"ratings.csv\")//len(scv)\n",
    "points=[]\n",
    "print(average_size)\n",
    "for i in range (0,len(sort_keys),case_size//average_size ):\n",
    "    points.append(sort_keys[i])"
   ]
  },
  {
   "cell_type": "markdown",
   "metadata": {},
   "source": [
    "Отчет по используемой памяти"
   ]
  },
  {
   "cell_type": "code",
   "execution_count": 64,
   "metadata": {},
   "outputs": [
    {
     "name": "stdout",
     "output_type": "stream",
     "text": [
      "877076222        size ratings\n",
      "531418210        size cinema (обрезанный ratings)\n",
      "65916048   =  asize 16,20 \n",
      "20752   =  asize 2**14,8 \n",
      "6948552      =asize points\n"
     ]
    }
   ],
   "source": [
    "print(os.path.getsize(\"rating.csv\"),\"       size ratings\")\n",
    "print(os.path.getsize(\"cinema.csv\"),\"       size cinema (обрезанный ratings)\")\n",
    "\n",
    "print( asizeof.asizeof(get_spline(data,16,20)), \"  =  asize 16,20 \")\n",
    "print( asizeof.asizeof(get_spline(data,2**14,8)),\"  =  asize 2**14,8 \")\n",
    "print(asizeof.asizeof(points), \"     =asize points\")"
   ]
  },
  {
   "cell_type": "code",
   "execution_count": 22,
   "metadata": {},
   "outputs": [],
   "source": [
    "scv=pd.read_csv('rating.csv', index_col=False)  \n",
    "keys=scv[\"timestamp\"]\n",
    "sort_keys=keys.sort_values(axis=0).drop_duplicates()\n",
    "sort_keys.reset_index(drop= True , inplace= True)"
   ]
  },
  {
   "cell_type": "code",
   "execution_count": 23,
   "metadata": {},
   "outputs": [],
   "source": [
    "sort_keys.to_csv(\"cinema.csv\")"
   ]
  },
  {
   "cell_type": "code",
   "execution_count": 12,
   "metadata": {},
   "outputs": [
    {
     "data": {
      "text/html": [
       "<div>\n",
       "<style scoped>\n",
       "    .dataframe tbody tr th:only-of-type {\n",
       "        vertical-align: middle;\n",
       "    }\n",
       "\n",
       "    .dataframe tbody tr th {\n",
       "        vertical-align: top;\n",
       "    }\n",
       "\n",
       "    .dataframe thead th {\n",
       "        text-align: right;\n",
       "    }\n",
       "</style>\n",
       "<table border=\"1\" class=\"dataframe\">\n",
       "  <thead>\n",
       "    <tr style=\"text-align: right;\">\n",
       "      <th></th>\n",
       "      <th>Unnamed: 0</th>\n",
       "      <th>timestamp</th>\n",
       "    </tr>\n",
       "  </thead>\n",
       "  <tbody>\n",
       "    <tr>\n",
       "      <th>0</th>\n",
       "      <td>0</td>\n",
       "      <td>789652004</td>\n",
       "    </tr>\n",
       "    <tr>\n",
       "      <th>1</th>\n",
       "      <td>1</td>\n",
       "      <td>789652009</td>\n",
       "    </tr>\n",
       "    <tr>\n",
       "      <th>2</th>\n",
       "      <td>2</td>\n",
       "      <td>822873600</td>\n",
       "    </tr>\n",
       "    <tr>\n",
       "      <th>3</th>\n",
       "      <td>3</td>\n",
       "      <td>823185196</td>\n",
       "    </tr>\n",
       "    <tr>\n",
       "      <th>4</th>\n",
       "      <td>4</td>\n",
       "      <td>823185197</td>\n",
       "    </tr>\n",
       "    <tr>\n",
       "      <th>...</th>\n",
       "      <td>...</td>\n",
       "      <td>...</td>\n",
       "    </tr>\n",
       "    <tr>\n",
       "      <th>2999995</th>\n",
       "      <td>2999995</td>\n",
       "      <td>1001110297</td>\n",
       "    </tr>\n",
       "    <tr>\n",
       "      <th>2999996</th>\n",
       "      <td>2999996</td>\n",
       "      <td>1001110308</td>\n",
       "    </tr>\n",
       "    <tr>\n",
       "      <th>2999997</th>\n",
       "      <td>2999997</td>\n",
       "      <td>1001110332</td>\n",
       "    </tr>\n",
       "    <tr>\n",
       "      <th>2999998</th>\n",
       "      <td>2999998</td>\n",
       "      <td>1001110335</td>\n",
       "    </tr>\n",
       "    <tr>\n",
       "      <th>2999999</th>\n",
       "      <td>2999999</td>\n",
       "      <td>1001110345</td>\n",
       "    </tr>\n",
       "  </tbody>\n",
       "</table>\n",
       "<p>3000000 rows × 2 columns</p>\n",
       "</div>"
      ],
      "text/plain": [
       "         Unnamed: 0   timestamp\n",
       "0                 0   789652004\n",
       "1                 1   789652009\n",
       "2                 2   822873600\n",
       "3                 3   823185196\n",
       "4                 4   823185197\n",
       "...             ...         ...\n",
       "2999995     2999995  1001110297\n",
       "2999996     2999996  1001110308\n",
       "2999997     2999997  1001110332\n",
       "2999998     2999998  1001110335\n",
       "2999999     2999999  1001110345\n",
       "\n",
       "[3000000 rows x 2 columns]"
      ]
     },
     "execution_count": 12,
     "metadata": {},
     "output_type": "execute_result"
    }
   ],
   "source": [
    "pd.read_csv('cinema.csv', index_col=False)"
   ]
  },
  {
   "cell_type": "code",
   "execution_count": 21,
   "metadata": {},
   "outputs": [
    {
     "data": {
      "text/plain": [
       "24760980"
      ]
     },
     "execution_count": 21,
     "metadata": {},
     "output_type": "execute_result"
    }
   ],
   "source": [
    "scv=pd.read_csv('ratings.csv', index_col=False)  \n",
    "scv[:76*10**4].to_csv(\"rating.csv\")\n",
    "os.path.getsize(\"rating.csv\")"
   ]
  },
  {
   "cell_type": "code",
   "execution_count": 24,
   "metadata": {},
   "outputs": [
    {
     "data": {
      "text/plain": [
       "11786810"
      ]
     },
     "execution_count": 24,
     "metadata": {},
     "output_type": "execute_result"
    }
   ],
   "source": [
    "os.path.getsize(\"cinema.csv\")"
   ]
  },
  {
   "cell_type": "code",
   "execution_count": null,
   "metadata": {},
   "outputs": [],
   "source": []
  }
 ],
 "metadata": {
  "kernelspec": {
   "display_name": "base",
   "language": "python",
   "name": "python3"
  },
  "language_info": {
   "codemirror_mode": {
    "name": "ipython",
    "version": 3
   },
   "file_extension": ".py",
   "mimetype": "text/x-python",
   "name": "python",
   "nbconvert_exporter": "python",
   "pygments_lexer": "ipython3",
   "version": "3.11.7"
  }
 },
 "nbformat": 4,
 "nbformat_minor": 2
}
