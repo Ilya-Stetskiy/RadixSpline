{
 "cells": [
  {
   "cell_type": "code",
   "execution_count": 6,
   "id": "5101d218",
   "metadata": {},
   "outputs": [],
   "source": [
    "import math"
   ]
  },
  {
   "cell_type": "code",
   "execution_count": 7,
   "id": "5821098f",
   "metadata": {},
   "outputs": [],
   "source": [
    "prefix=3"
   ]
  },
  {
   "cell_type": "code",
   "execution_count": 16,
   "id": "bac00e45",
   "metadata": {},
   "outputs": [],
   "source": [
    "def trim_prefix(number, common_prefix_length):\n",
    "    if common_prefix_length == 0:\n",
    "        return number\n",
    "    \n",
    "    bit_length = number.bit_length()\n",
    "    if bit_length <= common_prefix_length:\n",
    "        return 0\n",
    "    \n",
    "    shift = bit_length - common_prefix_length\n",
    "    mask = (1 << shift) - 1\n",
    "    return number & mask\n",
    "\n",
    "def not_prefix_count(a,b, bit_length):\n",
    "    mask = 1 << (bit_length - 1)\n",
    "    common_bits = 0\n",
    "    \n",
    "    while mask > 0:\n",
    "        bit_a = a & mask\n",
    "        bit_b = b & mask\n",
    "        \n",
    "        if bit_a != bit_b:\n",
    "            break\n",
    "            \n",
    "        common_bits += 1\n",
    "        mask >>= 1\n",
    "    \n",
    "    return common_bits"
   ]
  },
  {
   "cell_type": "code",
   "execution_count": 27,
   "id": "83a42e8d",
   "metadata": {},
   "outputs": [],
   "source": [
    "\n",
    "\n",
    "def simple_radix(data):\n",
    "    bit_len=int(math.log2(data[-1])) + 1\n",
    "    move_right=bit_len-prefix\n",
    "    # print(move_right)\n",
    "    res=[0]*2**prefix\n",
    "    for i in data:\n",
    "        res[i>>move_right]+=1\n",
    "    print(\"OLD:\",\" \"*2,res)\n",
    "def minus_radix(data): # НОРМАЛИЗОВАТЬ попробуй\n",
    "    bit_len=int(math.log2(data[-1]-data[0])) + 1\n",
    "    move_right=bit_len-prefix\n",
    "    # print(move_right)\n",
    "    res=[0]*2**prefix\n",
    "    for i in data:\n",
    "        res[i-data[0]>>move_right]+=1\n",
    "    print(\"minus: \",res)\n",
    "def my_radix(data):  #ИСПРАВИТЬ Не может всё находиться в одной ячейке\n",
    "    bit_len=int(math.log2(data[-1])) + 1\n",
    "    not_prefix=not_prefix_count(data[0], data[-1], bit_len)\n",
    "    move_right=bit_len-prefix-not_prefix\n",
    "    # print(move_right)\n",
    "    res=[0]*2**prefix\n",
    "    for i in data:\n",
    "        i=trim_prefix(i,not_prefix)\n",
    "        res[i>>move_right]+=1\n",
    "    print(\"my:\",\" \"*3,res)"
   ]
  },
  {
   "cell_type": "code",
   "execution_count": 28,
   "id": "67016e4f",
   "metadata": {},
   "outputs": [
    {
     "name": "stdout",
     "output_type": "stream",
     "text": [
      "OLD:    [32, 32, 32, 32, 32, 32, 32, 32]\n",
      "minus:  [32, 32, 32, 32, 32, 32, 32, 32]\n",
      "my:     [32, 32, 32, 32, 32, 32, 32, 32]\n"
     ]
    }
   ],
   "source": [
    "\n",
    "data=[i for i in range (2**8)]\n",
    "simple_radix(data)\n",
    "minus_radix(data)\n",
    "my_radix(data)"
   ]
  },
  {
   "cell_type": "code",
   "execution_count": 29,
   "id": "785f597c",
   "metadata": {},
   "outputs": [
    {
     "name": "stdout",
     "output_type": "stream",
     "text": [
      "3\n",
      "OLD:    [0, 0, 0, 0, 8, 0, 0, 0]\n",
      "minus:  [1, 1, 1, 1, 1, 1, 1, 1]\n",
      "my:     [1, 1, 1, 1, 1, 1, 1, 1]\n",
      "4\n",
      "OLD:    [0, 0, 0, 0, 16, 0, 0, 0]\n",
      "minus:  [2, 2, 2, 2, 2, 2, 2, 2]\n",
      "my:     [2, 2, 2, 2, 2, 2, 2, 2]\n",
      "5\n",
      "OLD:    [0, 0, 0, 0, 32, 0, 0, 0]\n",
      "minus:  [4, 4, 4, 4, 4, 4, 4, 4]\n",
      "my:     [4, 4, 4, 4, 4, 4, 4, 4]\n",
      "6\n",
      "OLD:    [0, 0, 0, 0, 32, 32, 0, 0]\n",
      "minus:  [8, 8, 8, 8, 8, 8, 8, 8]\n",
      "my:     [8, 8, 8, 8, 8, 8, 8, 8]\n"
     ]
    }
   ],
   "source": [
    "for j in range(3,7):\n",
    "    print(j)\n",
    "    data=[i for i in range (2**7,2**7+2**j)]\n",
    "    simple_radix(data)\n",
    "    minus_radix(data)\n",
    "    my_radix(data)"
   ]
  },
  {
   "cell_type": "code",
   "execution_count": 30,
   "id": "4a03ff5d",
   "metadata": {},
   "outputs": [
    {
     "name": "stdout",
     "output_type": "stream",
     "text": [
      "3\n",
      "OLD:    [0, 0, 0, 0, 0, 0, 8, 0]\n",
      "minus:  [1, 1, 1, 1, 1, 1, 1, 1]\n",
      "my:     [1, 1, 1, 1, 1, 1, 1, 1]\n",
      "4\n",
      "OLD:    [0, 0, 0, 0, 0, 0, 16, 0]\n",
      "minus:  [2, 2, 2, 2, 2, 2, 2, 2]\n",
      "my:     [2, 2, 2, 2, 2, 2, 2, 2]\n",
      "5\n",
      "OLD:    [0, 0, 0, 0, 0, 0, 32, 0]\n",
      "minus:  [4, 4, 4, 4, 4, 4, 4, 4]\n",
      "my:     [4, 4, 4, 4, 4, 4, 4, 4]\n",
      "6\n",
      "OLD:    [0, 0, 0, 0, 0, 0, 32, 32]\n",
      "minus:  [8, 8, 8, 8, 8, 8, 8, 8]\n",
      "my:     [8, 8, 8, 8, 8, 8, 8, 8]\n"
     ]
    }
   ],
   "source": [
    "for j in range(3,7):\n",
    "    print(j)\n",
    "    data=[i for i in range (2**7+2**6,2**7+2**6+2**j)]\n",
    "    simple_radix(data)\n",
    "    minus_radix(data)\n",
    "    my_radix(data)"
   ]
  },
  {
   "cell_type": "code",
   "execution_count": null,
   "id": "1f23c052",
   "metadata": {},
   "outputs": [
    {
     "name": "stdout",
     "output_type": "stream",
     "text": [
      "3\n",
      "OLD:    [0, 0, 32, 32, 8, 0, 0, 0]\n",
      "minus:  [16, 16, 16, 16, 8, 0, 0, 0]\n",
      "my:     [0, 0, 32, 32, 8, 0, 0, 0]\n",
      "4\n",
      "OLD:    [0, 0, 32, 32, 16, 0, 0, 0]\n",
      "minus:  [16, 16, 16, 16, 16, 0, 0, 0]\n",
      "my:     [0, 0, 32, 32, 16, 0, 0, 0]\n",
      "5\n",
      "OLD:    [0, 0, 32, 32, 32, 0, 0, 0]\n",
      "minus:  [16, 16, 16, 16, 16, 16, 0, 0]\n",
      "my:     [0, 0, 32, 32, 32, 0, 0, 0]\n",
      "6\n",
      "OLD:    [0, 0, 32, 32, 32, 32, 0, 0]\n",
      "minus:  [16, 16, 16, 16, 16, 16, 16, 16]\n",
      "my:     [0, 0, 32, 32, 32, 32, 0, 0]\n"
     ]
    }
   ],
   "source": [
    "for j in range(3,7):\n",
    "    print(j)\n",
    "    data=[i for i in range (2**6,2**7+2**j)]\n",
    "    simple_radix(data)\n",
    "    minus_radix(data)\n",
    "    my_radix(data)"
   ]
  },
  {
   "cell_type": "code",
   "execution_count": null,
   "id": "6e8cb56f",
   "metadata": {},
   "outputs": [],
   "source": []
  }
 ],
 "metadata": {
  "kernelspec": {
   "display_name": "venv",
   "language": "python",
   "name": "python3"
  },
  "language_info": {
   "codemirror_mode": {
    "name": "ipython",
    "version": 3
   },
   "file_extension": ".py",
   "mimetype": "text/x-python",
   "name": "python",
   "nbconvert_exporter": "python",
   "pygments_lexer": "ipython3",
   "version": "3.11.9"
  }
 },
 "nbformat": 4,
 "nbformat_minor": 5
}
